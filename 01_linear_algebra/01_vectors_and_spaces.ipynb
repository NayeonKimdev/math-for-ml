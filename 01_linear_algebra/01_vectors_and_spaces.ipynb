{
  "nbformat": 4,
  "nbformat_minor": 0,
  "metadata": {
    "colab": {
      "provenance": [],
      "authorship_tag": "ABX9TyMdT2QSlaloxcmrGJxW8xrW",
      "include_colab_link": true
    },
    "kernelspec": {
      "name": "python3",
      "display_name": "Python 3"
    },
    "language_info": {
      "name": "python"
    }
  },
  "cells": [
    {
      "cell_type": "markdown",
      "metadata": {
        "id": "view-in-github",
        "colab_type": "text"
      },
      "source": [
        "<a href=\"https://colab.research.google.com/github/NayeonKimdev/math-for-ml/blob/main/01_linear_algebra/01_vectors_and_spaces.ipynb\" target=\"_parent\"><img src=\"https://colab.research.google.com/assets/colab-badge.svg\" alt=\"Open In Colab\"/></a>"
      ]
    },
    {
      "cell_type": "markdown",
      "source": [
        "# 📐 Vectors & Spaces: Mathematical Foundations for ML"
      ],
      "metadata": {
        "id": "Wc43eNMtZvK7"
      }
    },
    {
      "cell_type": "markdown",
      "source": [
        "## 🎯 Learning Objectives\n",
        "By the end of this notebook, you'll understand:\n",
        "- What vectors are and how to visualize them\n",
        "- Vector operations: addition, scalar multiplication, dot product\n",
        "- Vector norms and their geometric meaning  \n",
        "- Basis vectors and coordinate systems\n",
        "- How these concepts apply to machine learning\n"
      ],
      "metadata": {
        "id": "5UT8toIQZz76"
      }
    },
    {
      "cell_type": "markdown",
      "source": [
        "## 🛠️ Setup: Install and Import Libraries"
      ],
      "metadata": {
        "id": "ppCalR0NbPgi"
      }
    },
    {
      "cell_type": "code",
      "execution_count": 1,
      "metadata": {
        "colab": {
          "base_uri": "https://localhost:8080/"
        },
        "id": "r9WrPy6ATlY3",
        "outputId": "17bec345-0af6-405b-afb4-97e598646297"
      },
      "outputs": [
        {
          "output_type": "stream",
          "name": "stdout",
          "text": [
            "✅ All libraries imported successfully!\n",
            "🚀 Ready to explore vectors and spaces!\n"
          ]
        }
      ],
      "source": [
        "# Install required libraries\n",
        "!pip install plotly numpy matplotlib seaborn -q\n",
        "\n",
        "import numpy as np\n",
        "import matplotlib.pyplot as plt\n",
        "import plotly.graph_objects as go\n",
        "import plotly.express as px\n",
        "from plotly.subplots import make_subplots\n",
        "import seaborn as sns\n",
        "from typing import List, Tuple\n",
        "import warnings\n",
        "warnings.filterwarnings('ignore')\n",
        "\n",
        "# Set style for matplotlib\n",
        "plt.style.use('default')\n",
        "sns.set_palette(\"husl\")\n",
        "\n",
        "print(\"✅ All libraries imported successfully!\")\n",
        "print(\"🚀 Ready to explore vectors and spaces!\")\n"
      ]
    },
    {
      "cell_type": "markdown",
      "source": [
        "# 1. 📊 What is a Vector?\n",
        "\n",
        "## Theory 📖\n",
        "\n",
        "A **vector** is a mathematical object that has both **magnitude** (length) and **direction**. Think of it as an arrow pointing from one point to another in space.\n",
        "\n",
        "### Mathematical Definition\n",
        "A vector **v** in n-dimensional space can be written as:\n",
        "\n",
        "$$\\mathbf{v} = \\begin{bmatrix} v_1 \\\\ v_2 \\\\ \\vdots \\\\ v_n \\end{bmatrix}$$\n",
        "\n",
        "### ML Connection 🤖\n",
        "In machine learning:\n",
        "- **Feature vectors**: Each data point is a vector where each component represents a feature\n",
        "- **Weight vectors**: Model parameters are often represented as vectors  \n",
        "- **Embeddings**: Words, images, and other data are represented as high-dimensional vectors\n"
      ],
      "metadata": {
        "id": "yRpeRczAbZv4"
      }
    },
    {
      "cell_type": "code",
      "source": [
        "# Create example vectors\n",
        "v1 = np.array([3, 2])\n",
        "v2 = np.array([-1, 4])\n",
        "v3 = np.array([2, -3])\n",
        "\n",
        "print(\"Example vectors:\")\n",
        "print(f\"v1 = {v1}\")\n",
        "print(f\"v2 = {v2}\")\n",
        "print(f\"v3 = {v3}\")\n"
      ],
      "metadata": {
        "colab": {
          "base_uri": "https://localhost:8080/"
        },
        "id": "CcOYnrbBbVTe",
        "outputId": "058fd14b-28dd-4cf2-e110-1fd021071617"
      },
      "execution_count": 2,
      "outputs": [
        {
          "output_type": "stream",
          "name": "stdout",
          "text": [
            "Example vectors:\n",
            "v1 = [3 2]\n",
            "v2 = [-1  4]\n",
            "v3 = [ 2 -3]\n"
          ]
        }
      ]
    },
    {
      "cell_type": "markdown",
      "source": [
        "## Visualization 📊\n"
      ],
      "metadata": {
        "id": "ADGmqkO8bgJm"
      }
    },
    {
      "cell_type": "code",
      "source": [
        "def plot_vectors_2d(vectors, labels, colors, title=\"2D Vector Visualization\"):\n",
        "    \"\"\"Plot multiple 2D vectors\"\"\"\n",
        "    fig = go.Figure()\n",
        "\n",
        "    for vector, label, color in zip(vectors, labels, colors):\n",
        "        # Add vector arrow\n",
        "        fig.add_trace(go.Scatter(\n",
        "            x=[0, vector[0]],\n",
        "            y=[0, vector[1]],\n",
        "            mode='lines+markers',\n",
        "            line=dict(color=color, width=3),\n",
        "            marker=dict(size=[0, 10], symbol=['circle', 'triangle-up']),\n",
        "            name=f'Vector {label}',\n",
        "            showlegend=True\n",
        "        ))\n",
        "\n",
        "        # Add label\n",
        "        fig.add_annotation(\n",
        "            x=vector[0] * 1.1,\n",
        "            y=vector[1] * 1.1,\n",
        "            text=f'{label} = [{vector[0]}, {vector[1]}]',\n",
        "            font=dict(size=12, color=color),\n",
        "            showarrow=False\n",
        "        )\n",
        "\n",
        "    fig.update_layout(\n",
        "        title=title,\n",
        "        xaxis_title=\"X\",\n",
        "        yaxis_title=\"Y\",\n",
        "        xaxis=dict(showgrid=True, zeroline=True, zerolinewidth=2, range=[-5, 5]),\n",
        "        yaxis=dict(showgrid=True, zeroline=True, zerolinewidth=2, range=[-5, 5]),\n",
        "        template=\"plotly_white\",\n",
        "        width=700,\n",
        "        height=600\n",
        "    )\n",
        "\n",
        "    return fig\n",
        "\n",
        "# Visualize the example vectors\n",
        "vectors = [v1, v2, v3]\n",
        "labels = ['v₁', 'v₂', 'v₃']\n",
        "colors = ['blue', 'red', 'green']\n",
        "\n",
        "fig = plot_vectors_2d(vectors, labels, colors, \"🔍 Vector Examples in 2D Space\")\n",
        "fig.show()\n",
        "\n",
        "print(\"\\n🎯 Key Observations:\")\n",
        "print(f\"• v₁ = {v1} points to the first quadrant\")\n",
        "print(f\"• v₂ = {v2} points to the second quadrant\")\n",
        "print(f\"• v₃ = {v3} points to the fourth quadrant\")\n",
        "print(\"\\n💡 Notice how each vector has both magnitude (length) and direction!\")\n"
      ],
      "metadata": {
        "colab": {
          "base_uri": "https://localhost:8080/",
          "height": 746
        },
        "id": "r1CU6OoMbdDa",
        "outputId": "33318d29-ba02-43c0-ab2c-5d997f2ab605"
      },
      "execution_count": 3,
      "outputs": [
        {
          "output_type": "display_data",
          "data": {
            "text/html": [
              "<html>\n",
              "<head><meta charset=\"utf-8\" /></head>\n",
              "<body>\n",
              "    <div>            <script src=\"https://cdnjs.cloudflare.com/ajax/libs/mathjax/2.7.5/MathJax.js?config=TeX-AMS-MML_SVG\"></script><script type=\"text/javascript\">if (window.MathJax && window.MathJax.Hub && window.MathJax.Hub.Config) {window.MathJax.Hub.Config({SVG: {font: \"STIX-Web\"}});}</script>                <script type=\"text/javascript\">window.PlotlyConfig = {MathJaxConfig: 'local'};</script>\n",
              "        <script charset=\"utf-8\" src=\"https://cdn.plot.ly/plotly-2.35.2.min.js\"></script>                <div id=\"fb93e4b1-ffa7-4701-baef-1ad3981f84f2\" class=\"plotly-graph-div\" style=\"height:600px; width:700px;\"></div>            <script type=\"text/javascript\">                                    window.PLOTLYENV=window.PLOTLYENV || {};                                    if (document.getElementById(\"fb93e4b1-ffa7-4701-baef-1ad3981f84f2\")) {                    Plotly.newPlot(                        \"fb93e4b1-ffa7-4701-baef-1ad3981f84f2\",                        [{\"line\":{\"color\":\"blue\",\"width\":3},\"marker\":{\"size\":[0,10],\"symbol\":[\"circle\",\"triangle-up\"]},\"mode\":\"lines+markers\",\"name\":\"Vector v₁\",\"showlegend\":true,\"x\":[0,3],\"y\":[0,2],\"type\":\"scatter\"},{\"line\":{\"color\":\"red\",\"width\":3},\"marker\":{\"size\":[0,10],\"symbol\":[\"circle\",\"triangle-up\"]},\"mode\":\"lines+markers\",\"name\":\"Vector v₂\",\"showlegend\":true,\"x\":[0,-1],\"y\":[0,4],\"type\":\"scatter\"},{\"line\":{\"color\":\"green\",\"width\":3},\"marker\":{\"size\":[0,10],\"symbol\":[\"circle\",\"triangle-up\"]},\"mode\":\"lines+markers\",\"name\":\"Vector v₃\",\"showlegend\":true,\"x\":[0,2],\"y\":[0,-3],\"type\":\"scatter\"}],                        {\"template\":{\"data\":{\"barpolar\":[{\"marker\":{\"line\":{\"color\":\"white\",\"width\":0.5},\"pattern\":{\"fillmode\":\"overlay\",\"size\":10,\"solidity\":0.2}},\"type\":\"barpolar\"}],\"bar\":[{\"error_x\":{\"color\":\"#2a3f5f\"},\"error_y\":{\"color\":\"#2a3f5f\"},\"marker\":{\"line\":{\"color\":\"white\",\"width\":0.5},\"pattern\":{\"fillmode\":\"overlay\",\"size\":10,\"solidity\":0.2}},\"type\":\"bar\"}],\"carpet\":[{\"aaxis\":{\"endlinecolor\":\"#2a3f5f\",\"gridcolor\":\"#C8D4E3\",\"linecolor\":\"#C8D4E3\",\"minorgridcolor\":\"#C8D4E3\",\"startlinecolor\":\"#2a3f5f\"},\"baxis\":{\"endlinecolor\":\"#2a3f5f\",\"gridcolor\":\"#C8D4E3\",\"linecolor\":\"#C8D4E3\",\"minorgridcolor\":\"#C8D4E3\",\"startlinecolor\":\"#2a3f5f\"},\"type\":\"carpet\"}],\"choropleth\":[{\"colorbar\":{\"outlinewidth\":0,\"ticks\":\"\"},\"type\":\"choropleth\"}],\"contourcarpet\":[{\"colorbar\":{\"outlinewidth\":0,\"ticks\":\"\"},\"type\":\"contourcarpet\"}],\"contour\":[{\"colorbar\":{\"outlinewidth\":0,\"ticks\":\"\"},\"colorscale\":[[0.0,\"#0d0887\"],[0.1111111111111111,\"#46039f\"],[0.2222222222222222,\"#7201a8\"],[0.3333333333333333,\"#9c179e\"],[0.4444444444444444,\"#bd3786\"],[0.5555555555555556,\"#d8576b\"],[0.6666666666666666,\"#ed7953\"],[0.7777777777777778,\"#fb9f3a\"],[0.8888888888888888,\"#fdca26\"],[1.0,\"#f0f921\"]],\"type\":\"contour\"}],\"heatmapgl\":[{\"colorbar\":{\"outlinewidth\":0,\"ticks\":\"\"},\"colorscale\":[[0.0,\"#0d0887\"],[0.1111111111111111,\"#46039f\"],[0.2222222222222222,\"#7201a8\"],[0.3333333333333333,\"#9c179e\"],[0.4444444444444444,\"#bd3786\"],[0.5555555555555556,\"#d8576b\"],[0.6666666666666666,\"#ed7953\"],[0.7777777777777778,\"#fb9f3a\"],[0.8888888888888888,\"#fdca26\"],[1.0,\"#f0f921\"]],\"type\":\"heatmapgl\"}],\"heatmap\":[{\"colorbar\":{\"outlinewidth\":0,\"ticks\":\"\"},\"colorscale\":[[0.0,\"#0d0887\"],[0.1111111111111111,\"#46039f\"],[0.2222222222222222,\"#7201a8\"],[0.3333333333333333,\"#9c179e\"],[0.4444444444444444,\"#bd3786\"],[0.5555555555555556,\"#d8576b\"],[0.6666666666666666,\"#ed7953\"],[0.7777777777777778,\"#fb9f3a\"],[0.8888888888888888,\"#fdca26\"],[1.0,\"#f0f921\"]],\"type\":\"heatmap\"}],\"histogram2dcontour\":[{\"colorbar\":{\"outlinewidth\":0,\"ticks\":\"\"},\"colorscale\":[[0.0,\"#0d0887\"],[0.1111111111111111,\"#46039f\"],[0.2222222222222222,\"#7201a8\"],[0.3333333333333333,\"#9c179e\"],[0.4444444444444444,\"#bd3786\"],[0.5555555555555556,\"#d8576b\"],[0.6666666666666666,\"#ed7953\"],[0.7777777777777778,\"#fb9f3a\"],[0.8888888888888888,\"#fdca26\"],[1.0,\"#f0f921\"]],\"type\":\"histogram2dcontour\"}],\"histogram2d\":[{\"colorbar\":{\"outlinewidth\":0,\"ticks\":\"\"},\"colorscale\":[[0.0,\"#0d0887\"],[0.1111111111111111,\"#46039f\"],[0.2222222222222222,\"#7201a8\"],[0.3333333333333333,\"#9c179e\"],[0.4444444444444444,\"#bd3786\"],[0.5555555555555556,\"#d8576b\"],[0.6666666666666666,\"#ed7953\"],[0.7777777777777778,\"#fb9f3a\"],[0.8888888888888888,\"#fdca26\"],[1.0,\"#f0f921\"]],\"type\":\"histogram2d\"}],\"histogram\":[{\"marker\":{\"pattern\":{\"fillmode\":\"overlay\",\"size\":10,\"solidity\":0.2}},\"type\":\"histogram\"}],\"mesh3d\":[{\"colorbar\":{\"outlinewidth\":0,\"ticks\":\"\"},\"type\":\"mesh3d\"}],\"parcoords\":[{\"line\":{\"colorbar\":{\"outlinewidth\":0,\"ticks\":\"\"}},\"type\":\"parcoords\"}],\"pie\":[{\"automargin\":true,\"type\":\"pie\"}],\"scatter3d\":[{\"line\":{\"colorbar\":{\"outlinewidth\":0,\"ticks\":\"\"}},\"marker\":{\"colorbar\":{\"outlinewidth\":0,\"ticks\":\"\"}},\"type\":\"scatter3d\"}],\"scattercarpet\":[{\"marker\":{\"colorbar\":{\"outlinewidth\":0,\"ticks\":\"\"}},\"type\":\"scattercarpet\"}],\"scattergeo\":[{\"marker\":{\"colorbar\":{\"outlinewidth\":0,\"ticks\":\"\"}},\"type\":\"scattergeo\"}],\"scattergl\":[{\"marker\":{\"colorbar\":{\"outlinewidth\":0,\"ticks\":\"\"}},\"type\":\"scattergl\"}],\"scattermapbox\":[{\"marker\":{\"colorbar\":{\"outlinewidth\":0,\"ticks\":\"\"}},\"type\":\"scattermapbox\"}],\"scatterpolargl\":[{\"marker\":{\"colorbar\":{\"outlinewidth\":0,\"ticks\":\"\"}},\"type\":\"scatterpolargl\"}],\"scatterpolar\":[{\"marker\":{\"colorbar\":{\"outlinewidth\":0,\"ticks\":\"\"}},\"type\":\"scatterpolar\"}],\"scatter\":[{\"fillpattern\":{\"fillmode\":\"overlay\",\"size\":10,\"solidity\":0.2},\"type\":\"scatter\"}],\"scatterternary\":[{\"marker\":{\"colorbar\":{\"outlinewidth\":0,\"ticks\":\"\"}},\"type\":\"scatterternary\"}],\"surface\":[{\"colorbar\":{\"outlinewidth\":0,\"ticks\":\"\"},\"colorscale\":[[0.0,\"#0d0887\"],[0.1111111111111111,\"#46039f\"],[0.2222222222222222,\"#7201a8\"],[0.3333333333333333,\"#9c179e\"],[0.4444444444444444,\"#bd3786\"],[0.5555555555555556,\"#d8576b\"],[0.6666666666666666,\"#ed7953\"],[0.7777777777777778,\"#fb9f3a\"],[0.8888888888888888,\"#fdca26\"],[1.0,\"#f0f921\"]],\"type\":\"surface\"}],\"table\":[{\"cells\":{\"fill\":{\"color\":\"#EBF0F8\"},\"line\":{\"color\":\"white\"}},\"header\":{\"fill\":{\"color\":\"#C8D4E3\"},\"line\":{\"color\":\"white\"}},\"type\":\"table\"}]},\"layout\":{\"annotationdefaults\":{\"arrowcolor\":\"#2a3f5f\",\"arrowhead\":0,\"arrowwidth\":1},\"autotypenumbers\":\"strict\",\"coloraxis\":{\"colorbar\":{\"outlinewidth\":0,\"ticks\":\"\"}},\"colorscale\":{\"diverging\":[[0,\"#8e0152\"],[0.1,\"#c51b7d\"],[0.2,\"#de77ae\"],[0.3,\"#f1b6da\"],[0.4,\"#fde0ef\"],[0.5,\"#f7f7f7\"],[0.6,\"#e6f5d0\"],[0.7,\"#b8e186\"],[0.8,\"#7fbc41\"],[0.9,\"#4d9221\"],[1,\"#276419\"]],\"sequential\":[[0.0,\"#0d0887\"],[0.1111111111111111,\"#46039f\"],[0.2222222222222222,\"#7201a8\"],[0.3333333333333333,\"#9c179e\"],[0.4444444444444444,\"#bd3786\"],[0.5555555555555556,\"#d8576b\"],[0.6666666666666666,\"#ed7953\"],[0.7777777777777778,\"#fb9f3a\"],[0.8888888888888888,\"#fdca26\"],[1.0,\"#f0f921\"]],\"sequentialminus\":[[0.0,\"#0d0887\"],[0.1111111111111111,\"#46039f\"],[0.2222222222222222,\"#7201a8\"],[0.3333333333333333,\"#9c179e\"],[0.4444444444444444,\"#bd3786\"],[0.5555555555555556,\"#d8576b\"],[0.6666666666666666,\"#ed7953\"],[0.7777777777777778,\"#fb9f3a\"],[0.8888888888888888,\"#fdca26\"],[1.0,\"#f0f921\"]]},\"colorway\":[\"#636efa\",\"#EF553B\",\"#00cc96\",\"#ab63fa\",\"#FFA15A\",\"#19d3f3\",\"#FF6692\",\"#B6E880\",\"#FF97FF\",\"#FECB52\"],\"font\":{\"color\":\"#2a3f5f\"},\"geo\":{\"bgcolor\":\"white\",\"lakecolor\":\"white\",\"landcolor\":\"white\",\"showlakes\":true,\"showland\":true,\"subunitcolor\":\"#C8D4E3\"},\"hoverlabel\":{\"align\":\"left\"},\"hovermode\":\"closest\",\"mapbox\":{\"style\":\"light\"},\"paper_bgcolor\":\"white\",\"plot_bgcolor\":\"white\",\"polar\":{\"angularaxis\":{\"gridcolor\":\"#EBF0F8\",\"linecolor\":\"#EBF0F8\",\"ticks\":\"\"},\"bgcolor\":\"white\",\"radialaxis\":{\"gridcolor\":\"#EBF0F8\",\"linecolor\":\"#EBF0F8\",\"ticks\":\"\"}},\"scene\":{\"xaxis\":{\"backgroundcolor\":\"white\",\"gridcolor\":\"#DFE8F3\",\"gridwidth\":2,\"linecolor\":\"#EBF0F8\",\"showbackground\":true,\"ticks\":\"\",\"zerolinecolor\":\"#EBF0F8\"},\"yaxis\":{\"backgroundcolor\":\"white\",\"gridcolor\":\"#DFE8F3\",\"gridwidth\":2,\"linecolor\":\"#EBF0F8\",\"showbackground\":true,\"ticks\":\"\",\"zerolinecolor\":\"#EBF0F8\"},\"zaxis\":{\"backgroundcolor\":\"white\",\"gridcolor\":\"#DFE8F3\",\"gridwidth\":2,\"linecolor\":\"#EBF0F8\",\"showbackground\":true,\"ticks\":\"\",\"zerolinecolor\":\"#EBF0F8\"}},\"shapedefaults\":{\"line\":{\"color\":\"#2a3f5f\"}},\"ternary\":{\"aaxis\":{\"gridcolor\":\"#DFE8F3\",\"linecolor\":\"#A2B1C6\",\"ticks\":\"\"},\"baxis\":{\"gridcolor\":\"#DFE8F3\",\"linecolor\":\"#A2B1C6\",\"ticks\":\"\"},\"bgcolor\":\"white\",\"caxis\":{\"gridcolor\":\"#DFE8F3\",\"linecolor\":\"#A2B1C6\",\"ticks\":\"\"}},\"title\":{\"x\":0.05},\"xaxis\":{\"automargin\":true,\"gridcolor\":\"#EBF0F8\",\"linecolor\":\"#EBF0F8\",\"ticks\":\"\",\"title\":{\"standoff\":15},\"zerolinecolor\":\"#EBF0F8\",\"zerolinewidth\":2},\"yaxis\":{\"automargin\":true,\"gridcolor\":\"#EBF0F8\",\"linecolor\":\"#EBF0F8\",\"ticks\":\"\",\"title\":{\"standoff\":15},\"zerolinecolor\":\"#EBF0F8\",\"zerolinewidth\":2}}},\"annotations\":[{\"font\":{\"color\":\"blue\",\"size\":12},\"showarrow\":false,\"text\":\"v₁ = [3, 2]\",\"x\":3.3000000000000003,\"y\":2.2},{\"font\":{\"color\":\"red\",\"size\":12},\"showarrow\":false,\"text\":\"v₂ = [-1, 4]\",\"x\":-1.1,\"y\":4.4},{\"font\":{\"color\":\"green\",\"size\":12},\"showarrow\":false,\"text\":\"v₃ = [2, -3]\",\"x\":2.2,\"y\":-3.3000000000000003}],\"xaxis\":{\"title\":{\"text\":\"X\"},\"showgrid\":true,\"zeroline\":true,\"zerolinewidth\":2,\"range\":[-5,5]},\"yaxis\":{\"title\":{\"text\":\"Y\"},\"showgrid\":true,\"zeroline\":true,\"zerolinewidth\":2,\"range\":[-5,5]},\"title\":{\"text\":\"🔍 Vector Examples in 2D Space\"},\"width\":700,\"height\":600},                        {\"responsive\": true}                    ).then(function(){\n",
              "                            \n",
              "var gd = document.getElementById('fb93e4b1-ffa7-4701-baef-1ad3981f84f2');\n",
              "var x = new MutationObserver(function (mutations, observer) {{\n",
              "        var display = window.getComputedStyle(gd).display;\n",
              "        if (!display || display === 'none') {{\n",
              "            console.log([gd, 'removed!']);\n",
              "            Plotly.purge(gd);\n",
              "            observer.disconnect();\n",
              "        }}\n",
              "}});\n",
              "\n",
              "// Listen for the removal of the full notebook cells\n",
              "var notebookContainer = gd.closest('#notebook-container');\n",
              "if (notebookContainer) {{\n",
              "    x.observe(notebookContainer, {childList: true});\n",
              "}}\n",
              "\n",
              "// Listen for the clearing of the current output cell\n",
              "var outputEl = gd.closest('.output');\n",
              "if (outputEl) {{\n",
              "    x.observe(outputEl, {childList: true});\n",
              "}}\n",
              "\n",
              "                        })                };                            </script>        </div>\n",
              "</body>\n",
              "</html>"
            ]
          },
          "metadata": {}
        },
        {
          "output_type": "stream",
          "name": "stdout",
          "text": [
            "\n",
            "🎯 Key Observations:\n",
            "• v₁ = [3 2] points to the first quadrant\n",
            "• v₂ = [-1  4] points to the second quadrant\n",
            "• v₃ = [ 2 -3] points to the fourth quadrant\n",
            "\n",
            "💡 Notice how each vector has both magnitude (length) and direction!\n"
          ]
        }
      ]
    },
    {
      "cell_type": "markdown",
      "source": [
        "# 2. ➕ Vector Addition\n",
        "\n",
        "## Theory 📖\n",
        "\n",
        "When we add two vectors, we place them **tip-to-tail**:\n",
        "\n",
        "$$\\mathbf{u} + \\mathbf{v} = \\begin{bmatrix} u_1 + v_1 \\\\ u_2 + v_2 \\\\ \\vdots \\\\ u_n + v_n \\end{bmatrix}$$\n",
        "\n",
        "### Geometric Interpretation\n",
        "Vector addition forms a **parallelogram** - the sum is the diagonal from origin to the opposite corner.\n",
        "\n",
        "### ML Connection 🤖\n",
        "- **Gradient updates**: θ_new = θ_old + α∇J(θ)\n",
        "- **Feature combination**: Adding features from different sources\n",
        "- **Ensemble methods**: Combining predictions from multiple models\n"
      ],
      "metadata": {
        "id": "zvJNFiEzboB2"
      }
    },
    {
      "cell_type": "code",
      "source": [
        "# Example vector addition\n",
        "u = np.array([2, 3])\n",
        "v = np.array([4, 1])\n",
        "w = u + v\n",
        "\n",
        "print(\"Vector Addition Example:\")\n",
        "print(f\"u = {u}\")\n",
        "print(f\"v = {v}\")\n",
        "print(f\"u + v = {w}\")\n"
      ],
      "metadata": {
        "colab": {
          "base_uri": "https://localhost:8080/"
        },
        "id": "L8QthVXdbj3K",
        "outputId": "5e74bb9b-e6ea-4087-9e61-356093e79aa9"
      },
      "execution_count": 4,
      "outputs": [
        {
          "output_type": "stream",
          "name": "stdout",
          "text": [
            "Vector Addition Example:\n",
            "u = [2 3]\n",
            "v = [4 1]\n",
            "u + v = [6 4]\n"
          ]
        }
      ]
    },
    {
      "cell_type": "markdown",
      "source": [
        "## Visualization 📊\n"
      ],
      "metadata": {
        "id": "n2YhAUmNbsjc"
      }
    },
    {
      "cell_type": "code",
      "source": [
        "def visualize_vector_addition(u, v):\n",
        "    \"\"\"Interactive visualization of vector addition\"\"\"\n",
        "    w = u + v  # Result\n",
        "\n",
        "    fig = go.Figure()\n",
        "\n",
        "    # Original vectors from origin\n",
        "    fig.add_trace(go.Scatter(\n",
        "        x=[0, u[0]], y=[0, u[1]],\n",
        "        mode='lines+markers',\n",
        "        line=dict(color='blue', width=3),\n",
        "        marker=dict(size=[0, 10], symbol=['circle', 'triangle-up']),\n",
        "        name='Vector u'\n",
        "    ))\n",
        "\n",
        "    fig.add_trace(go.Scatter(\n",
        "        x=[0, v[0]], y=[0, v[1]],\n",
        "        mode='lines+markers',\n",
        "        line=dict(color='red', width=3),\n",
        "        marker=dict(size=[0, 10], symbol=['circle', 'triangle-up']),\n",
        "        name='Vector v'\n",
        "    ))\n",
        "\n",
        "    # Result vector\n",
        "    fig.add_trace(go.Scatter(\n",
        "        x=[0, w[0]], y=[0, w[1]],\n",
        "        mode='lines+markers',\n",
        "        line=dict(color='purple', width=4, dash='dash'),\n",
        "        marker=dict(size=[0, 12], symbol=['circle', 'triangle-up']),\n",
        "        name='u + v (Result)'\n",
        "    ))\n",
        "\n",
        "    # Parallelogram construction (tip-to-tail method)\n",
        "    fig.add_trace(go.Scatter(\n",
        "        x=[u[0], w[0]], y=[u[1], w[1]],\n",
        "        mode='lines',\n",
        "        line=dict(color='red', width=2, dash='dot'),\n",
        "        name='v from tip of u',\n",
        "        showlegend=False\n",
        "    ))\n",
        "\n",
        "    fig.add_trace(go.Scatter(\n",
        "        x=[v[0], w[0]], y=[v[1], w[1]],\n",
        "        mode='lines',\n",
        "        line=dict(color='blue', width=2, dash='dot'),\n",
        "        name='u from tip of v',\n",
        "        showlegend=False\n",
        "    ))\n",
        "\n",
        "    # Add labels\n",
        "    fig.add_annotation(x=u[0]/2, y=u[1]/2, text=f'u = {u}',\n",
        "                      font=dict(color='blue'), showarrow=False)\n",
        "    fig.add_annotation(x=v[0]/2, y=v[1]/2, text=f'v = {v}',\n",
        "                      font=dict(color='red'), showarrow=False)\n",
        "    fig.add_annotation(x=w[0]/2, y=w[1]/2, text=f'u + v = {w}',\n",
        "                      font=dict(color='purple', size=14), showarrow=False)\n",
        "\n",
        "    fig.update_layout(\n",
        "        title=\"🧮 Vector Addition: Parallelogram Method\",\n",
        "        xaxis_title=\"X\",\n",
        "        yaxis_title=\"Y\",\n",
        "        xaxis=dict(showgrid=True, zeroline=True, zerolinewidth=2),\n",
        "        yaxis=dict(showgrid=True, zeroline=True, zerolinewidth=2),\n",
        "        template=\"plotly_white\",\n",
        "        width=700,\n",
        "        height=600\n",
        "    )\n",
        "\n",
        "    return fig\n",
        "\n",
        "# Visualize vector addition\n",
        "fig = visualize_vector_addition(u, v)\n",
        "fig.show()\n",
        "\n",
        "print(\"💡 The result vector goes from origin to the opposite corner of the parallelogram!\")\n"
      ],
      "metadata": {
        "colab": {
          "base_uri": "https://localhost:8080/",
          "height": 635
        },
        "id": "uzSkWa0FbrjT",
        "outputId": "7c3a8dc8-cca8-4af6-f260-9663b3b4a867"
      },
      "execution_count": 5,
      "outputs": [
        {
          "output_type": "display_data",
          "data": {
            "text/html": [
              "<html>\n",
              "<head><meta charset=\"utf-8\" /></head>\n",
              "<body>\n",
              "    <div>            <script src=\"https://cdnjs.cloudflare.com/ajax/libs/mathjax/2.7.5/MathJax.js?config=TeX-AMS-MML_SVG\"></script><script type=\"text/javascript\">if (window.MathJax && window.MathJax.Hub && window.MathJax.Hub.Config) {window.MathJax.Hub.Config({SVG: {font: \"STIX-Web\"}});}</script>                <script type=\"text/javascript\">window.PlotlyConfig = {MathJaxConfig: 'local'};</script>\n",
              "        <script charset=\"utf-8\" src=\"https://cdn.plot.ly/plotly-2.35.2.min.js\"></script>                <div id=\"440cb5a5-810b-42a2-8ef3-4c2399ba347d\" class=\"plotly-graph-div\" style=\"height:600px; width:700px;\"></div>            <script type=\"text/javascript\">                                    window.PLOTLYENV=window.PLOTLYENV || {};                                    if (document.getElementById(\"440cb5a5-810b-42a2-8ef3-4c2399ba347d\")) {                    Plotly.newPlot(                        \"440cb5a5-810b-42a2-8ef3-4c2399ba347d\",                        [{\"line\":{\"color\":\"blue\",\"width\":3},\"marker\":{\"size\":[0,10],\"symbol\":[\"circle\",\"triangle-up\"]},\"mode\":\"lines+markers\",\"name\":\"Vector u\",\"x\":[0,2],\"y\":[0,3],\"type\":\"scatter\"},{\"line\":{\"color\":\"red\",\"width\":3},\"marker\":{\"size\":[0,10],\"symbol\":[\"circle\",\"triangle-up\"]},\"mode\":\"lines+markers\",\"name\":\"Vector v\",\"x\":[0,4],\"y\":[0,1],\"type\":\"scatter\"},{\"line\":{\"color\":\"purple\",\"dash\":\"dash\",\"width\":4},\"marker\":{\"size\":[0,12],\"symbol\":[\"circle\",\"triangle-up\"]},\"mode\":\"lines+markers\",\"name\":\"u + v (Result)\",\"x\":[0,6],\"y\":[0,4],\"type\":\"scatter\"},{\"line\":{\"color\":\"red\",\"dash\":\"dot\",\"width\":2},\"mode\":\"lines\",\"name\":\"v from tip of u\",\"showlegend\":false,\"x\":[2,6],\"y\":[3,4],\"type\":\"scatter\"},{\"line\":{\"color\":\"blue\",\"dash\":\"dot\",\"width\":2},\"mode\":\"lines\",\"name\":\"u from tip of v\",\"showlegend\":false,\"x\":[4,6],\"y\":[1,4],\"type\":\"scatter\"}],                        {\"template\":{\"data\":{\"barpolar\":[{\"marker\":{\"line\":{\"color\":\"white\",\"width\":0.5},\"pattern\":{\"fillmode\":\"overlay\",\"size\":10,\"solidity\":0.2}},\"type\":\"barpolar\"}],\"bar\":[{\"error_x\":{\"color\":\"#2a3f5f\"},\"error_y\":{\"color\":\"#2a3f5f\"},\"marker\":{\"line\":{\"color\":\"white\",\"width\":0.5},\"pattern\":{\"fillmode\":\"overlay\",\"size\":10,\"solidity\":0.2}},\"type\":\"bar\"}],\"carpet\":[{\"aaxis\":{\"endlinecolor\":\"#2a3f5f\",\"gridcolor\":\"#C8D4E3\",\"linecolor\":\"#C8D4E3\",\"minorgridcolor\":\"#C8D4E3\",\"startlinecolor\":\"#2a3f5f\"},\"baxis\":{\"endlinecolor\":\"#2a3f5f\",\"gridcolor\":\"#C8D4E3\",\"linecolor\":\"#C8D4E3\",\"minorgridcolor\":\"#C8D4E3\",\"startlinecolor\":\"#2a3f5f\"},\"type\":\"carpet\"}],\"choropleth\":[{\"colorbar\":{\"outlinewidth\":0,\"ticks\":\"\"},\"type\":\"choropleth\"}],\"contourcarpet\":[{\"colorbar\":{\"outlinewidth\":0,\"ticks\":\"\"},\"type\":\"contourcarpet\"}],\"contour\":[{\"colorbar\":{\"outlinewidth\":0,\"ticks\":\"\"},\"colorscale\":[[0.0,\"#0d0887\"],[0.1111111111111111,\"#46039f\"],[0.2222222222222222,\"#7201a8\"],[0.3333333333333333,\"#9c179e\"],[0.4444444444444444,\"#bd3786\"],[0.5555555555555556,\"#d8576b\"],[0.6666666666666666,\"#ed7953\"],[0.7777777777777778,\"#fb9f3a\"],[0.8888888888888888,\"#fdca26\"],[1.0,\"#f0f921\"]],\"type\":\"contour\"}],\"heatmapgl\":[{\"colorbar\":{\"outlinewidth\":0,\"ticks\":\"\"},\"colorscale\":[[0.0,\"#0d0887\"],[0.1111111111111111,\"#46039f\"],[0.2222222222222222,\"#7201a8\"],[0.3333333333333333,\"#9c179e\"],[0.4444444444444444,\"#bd3786\"],[0.5555555555555556,\"#d8576b\"],[0.6666666666666666,\"#ed7953\"],[0.7777777777777778,\"#fb9f3a\"],[0.8888888888888888,\"#fdca26\"],[1.0,\"#f0f921\"]],\"type\":\"heatmapgl\"}],\"heatmap\":[{\"colorbar\":{\"outlinewidth\":0,\"ticks\":\"\"},\"colorscale\":[[0.0,\"#0d0887\"],[0.1111111111111111,\"#46039f\"],[0.2222222222222222,\"#7201a8\"],[0.3333333333333333,\"#9c179e\"],[0.4444444444444444,\"#bd3786\"],[0.5555555555555556,\"#d8576b\"],[0.6666666666666666,\"#ed7953\"],[0.7777777777777778,\"#fb9f3a\"],[0.8888888888888888,\"#fdca26\"],[1.0,\"#f0f921\"]],\"type\":\"heatmap\"}],\"histogram2dcontour\":[{\"colorbar\":{\"outlinewidth\":0,\"ticks\":\"\"},\"colorscale\":[[0.0,\"#0d0887\"],[0.1111111111111111,\"#46039f\"],[0.2222222222222222,\"#7201a8\"],[0.3333333333333333,\"#9c179e\"],[0.4444444444444444,\"#bd3786\"],[0.5555555555555556,\"#d8576b\"],[0.6666666666666666,\"#ed7953\"],[0.7777777777777778,\"#fb9f3a\"],[0.8888888888888888,\"#fdca26\"],[1.0,\"#f0f921\"]],\"type\":\"histogram2dcontour\"}],\"histogram2d\":[{\"colorbar\":{\"outlinewidth\":0,\"ticks\":\"\"},\"colorscale\":[[0.0,\"#0d0887\"],[0.1111111111111111,\"#46039f\"],[0.2222222222222222,\"#7201a8\"],[0.3333333333333333,\"#9c179e\"],[0.4444444444444444,\"#bd3786\"],[0.5555555555555556,\"#d8576b\"],[0.6666666666666666,\"#ed7953\"],[0.7777777777777778,\"#fb9f3a\"],[0.8888888888888888,\"#fdca26\"],[1.0,\"#f0f921\"]],\"type\":\"histogram2d\"}],\"histogram\":[{\"marker\":{\"pattern\":{\"fillmode\":\"overlay\",\"size\":10,\"solidity\":0.2}},\"type\":\"histogram\"}],\"mesh3d\":[{\"colorbar\":{\"outlinewidth\":0,\"ticks\":\"\"},\"type\":\"mesh3d\"}],\"parcoords\":[{\"line\":{\"colorbar\":{\"outlinewidth\":0,\"ticks\":\"\"}},\"type\":\"parcoords\"}],\"pie\":[{\"automargin\":true,\"type\":\"pie\"}],\"scatter3d\":[{\"line\":{\"colorbar\":{\"outlinewidth\":0,\"ticks\":\"\"}},\"marker\":{\"colorbar\":{\"outlinewidth\":0,\"ticks\":\"\"}},\"type\":\"scatter3d\"}],\"scattercarpet\":[{\"marker\":{\"colorbar\":{\"outlinewidth\":0,\"ticks\":\"\"}},\"type\":\"scattercarpet\"}],\"scattergeo\":[{\"marker\":{\"colorbar\":{\"outlinewidth\":0,\"ticks\":\"\"}},\"type\":\"scattergeo\"}],\"scattergl\":[{\"marker\":{\"colorbar\":{\"outlinewidth\":0,\"ticks\":\"\"}},\"type\":\"scattergl\"}],\"scattermapbox\":[{\"marker\":{\"colorbar\":{\"outlinewidth\":0,\"ticks\":\"\"}},\"type\":\"scattermapbox\"}],\"scatterpolargl\":[{\"marker\":{\"colorbar\":{\"outlinewidth\":0,\"ticks\":\"\"}},\"type\":\"scatterpolargl\"}],\"scatterpolar\":[{\"marker\":{\"colorbar\":{\"outlinewidth\":0,\"ticks\":\"\"}},\"type\":\"scatterpolar\"}],\"scatter\":[{\"fillpattern\":{\"fillmode\":\"overlay\",\"size\":10,\"solidity\":0.2},\"type\":\"scatter\"}],\"scatterternary\":[{\"marker\":{\"colorbar\":{\"outlinewidth\":0,\"ticks\":\"\"}},\"type\":\"scatterternary\"}],\"surface\":[{\"colorbar\":{\"outlinewidth\":0,\"ticks\":\"\"},\"colorscale\":[[0.0,\"#0d0887\"],[0.1111111111111111,\"#46039f\"],[0.2222222222222222,\"#7201a8\"],[0.3333333333333333,\"#9c179e\"],[0.4444444444444444,\"#bd3786\"],[0.5555555555555556,\"#d8576b\"],[0.6666666666666666,\"#ed7953\"],[0.7777777777777778,\"#fb9f3a\"],[0.8888888888888888,\"#fdca26\"],[1.0,\"#f0f921\"]],\"type\":\"surface\"}],\"table\":[{\"cells\":{\"fill\":{\"color\":\"#EBF0F8\"},\"line\":{\"color\":\"white\"}},\"header\":{\"fill\":{\"color\":\"#C8D4E3\"},\"line\":{\"color\":\"white\"}},\"type\":\"table\"}]},\"layout\":{\"annotationdefaults\":{\"arrowcolor\":\"#2a3f5f\",\"arrowhead\":0,\"arrowwidth\":1},\"autotypenumbers\":\"strict\",\"coloraxis\":{\"colorbar\":{\"outlinewidth\":0,\"ticks\":\"\"}},\"colorscale\":{\"diverging\":[[0,\"#8e0152\"],[0.1,\"#c51b7d\"],[0.2,\"#de77ae\"],[0.3,\"#f1b6da\"],[0.4,\"#fde0ef\"],[0.5,\"#f7f7f7\"],[0.6,\"#e6f5d0\"],[0.7,\"#b8e186\"],[0.8,\"#7fbc41\"],[0.9,\"#4d9221\"],[1,\"#276419\"]],\"sequential\":[[0.0,\"#0d0887\"],[0.1111111111111111,\"#46039f\"],[0.2222222222222222,\"#7201a8\"],[0.3333333333333333,\"#9c179e\"],[0.4444444444444444,\"#bd3786\"],[0.5555555555555556,\"#d8576b\"],[0.6666666666666666,\"#ed7953\"],[0.7777777777777778,\"#fb9f3a\"],[0.8888888888888888,\"#fdca26\"],[1.0,\"#f0f921\"]],\"sequentialminus\":[[0.0,\"#0d0887\"],[0.1111111111111111,\"#46039f\"],[0.2222222222222222,\"#7201a8\"],[0.3333333333333333,\"#9c179e\"],[0.4444444444444444,\"#bd3786\"],[0.5555555555555556,\"#d8576b\"],[0.6666666666666666,\"#ed7953\"],[0.7777777777777778,\"#fb9f3a\"],[0.8888888888888888,\"#fdca26\"],[1.0,\"#f0f921\"]]},\"colorway\":[\"#636efa\",\"#EF553B\",\"#00cc96\",\"#ab63fa\",\"#FFA15A\",\"#19d3f3\",\"#FF6692\",\"#B6E880\",\"#FF97FF\",\"#FECB52\"],\"font\":{\"color\":\"#2a3f5f\"},\"geo\":{\"bgcolor\":\"white\",\"lakecolor\":\"white\",\"landcolor\":\"white\",\"showlakes\":true,\"showland\":true,\"subunitcolor\":\"#C8D4E3\"},\"hoverlabel\":{\"align\":\"left\"},\"hovermode\":\"closest\",\"mapbox\":{\"style\":\"light\"},\"paper_bgcolor\":\"white\",\"plot_bgcolor\":\"white\",\"polar\":{\"angularaxis\":{\"gridcolor\":\"#EBF0F8\",\"linecolor\":\"#EBF0F8\",\"ticks\":\"\"},\"bgcolor\":\"white\",\"radialaxis\":{\"gridcolor\":\"#EBF0F8\",\"linecolor\":\"#EBF0F8\",\"ticks\":\"\"}},\"scene\":{\"xaxis\":{\"backgroundcolor\":\"white\",\"gridcolor\":\"#DFE8F3\",\"gridwidth\":2,\"linecolor\":\"#EBF0F8\",\"showbackground\":true,\"ticks\":\"\",\"zerolinecolor\":\"#EBF0F8\"},\"yaxis\":{\"backgroundcolor\":\"white\",\"gridcolor\":\"#DFE8F3\",\"gridwidth\":2,\"linecolor\":\"#EBF0F8\",\"showbackground\":true,\"ticks\":\"\",\"zerolinecolor\":\"#EBF0F8\"},\"zaxis\":{\"backgroundcolor\":\"white\",\"gridcolor\":\"#DFE8F3\",\"gridwidth\":2,\"linecolor\":\"#EBF0F8\",\"showbackground\":true,\"ticks\":\"\",\"zerolinecolor\":\"#EBF0F8\"}},\"shapedefaults\":{\"line\":{\"color\":\"#2a3f5f\"}},\"ternary\":{\"aaxis\":{\"gridcolor\":\"#DFE8F3\",\"linecolor\":\"#A2B1C6\",\"ticks\":\"\"},\"baxis\":{\"gridcolor\":\"#DFE8F3\",\"linecolor\":\"#A2B1C6\",\"ticks\":\"\"},\"bgcolor\":\"white\",\"caxis\":{\"gridcolor\":\"#DFE8F3\",\"linecolor\":\"#A2B1C6\",\"ticks\":\"\"}},\"title\":{\"x\":0.05},\"xaxis\":{\"automargin\":true,\"gridcolor\":\"#EBF0F8\",\"linecolor\":\"#EBF0F8\",\"ticks\":\"\",\"title\":{\"standoff\":15},\"zerolinecolor\":\"#EBF0F8\",\"zerolinewidth\":2},\"yaxis\":{\"automargin\":true,\"gridcolor\":\"#EBF0F8\",\"linecolor\":\"#EBF0F8\",\"ticks\":\"\",\"title\":{\"standoff\":15},\"zerolinecolor\":\"#EBF0F8\",\"zerolinewidth\":2}}},\"annotations\":[{\"font\":{\"color\":\"blue\"},\"showarrow\":false,\"text\":\"u = [2 3]\",\"x\":1.0,\"y\":1.5},{\"font\":{\"color\":\"red\"},\"showarrow\":false,\"text\":\"v = [4 1]\",\"x\":2.0,\"y\":0.5},{\"font\":{\"color\":\"purple\",\"size\":14},\"showarrow\":false,\"text\":\"u + v = [6 4]\",\"x\":3.0,\"y\":2.0}],\"xaxis\":{\"title\":{\"text\":\"X\"},\"showgrid\":true,\"zeroline\":true,\"zerolinewidth\":2},\"yaxis\":{\"title\":{\"text\":\"Y\"},\"showgrid\":true,\"zeroline\":true,\"zerolinewidth\":2},\"title\":{\"text\":\"🧮 Vector Addition: Parallelogram Method\"},\"width\":700,\"height\":600},                        {\"responsive\": true}                    ).then(function(){\n",
              "                            \n",
              "var gd = document.getElementById('440cb5a5-810b-42a2-8ef3-4c2399ba347d');\n",
              "var x = new MutationObserver(function (mutations, observer) {{\n",
              "        var display = window.getComputedStyle(gd).display;\n",
              "        if (!display || display === 'none') {{\n",
              "            console.log([gd, 'removed!']);\n",
              "            Plotly.purge(gd);\n",
              "            observer.disconnect();\n",
              "        }}\n",
              "}});\n",
              "\n",
              "// Listen for the removal of the full notebook cells\n",
              "var notebookContainer = gd.closest('#notebook-container');\n",
              "if (notebookContainer) {{\n",
              "    x.observe(notebookContainer, {childList: true});\n",
              "}}\n",
              "\n",
              "// Listen for the clearing of the current output cell\n",
              "var outputEl = gd.closest('.output');\n",
              "if (outputEl) {{\n",
              "    x.observe(outputEl, {childList: true});\n",
              "}}\n",
              "\n",
              "                        })                };                            </script>        </div>\n",
              "</body>\n",
              "</html>"
            ]
          },
          "metadata": {}
        },
        {
          "output_type": "stream",
          "name": "stdout",
          "text": [
            "💡 The result vector goes from origin to the opposite corner of the parallelogram!\n"
          ]
        }
      ]
    },
    {
      "cell_type": "markdown",
      "source": [
        "# 3. ⚡ Scalar Multiplication\n",
        "\n",
        "## Theory 📖\n",
        "\n",
        "Multiplying a vector by a scalar changes its **magnitude** and potentially its **direction**:\n",
        "\n",
        "$$c \\cdot \\mathbf{v} = \\begin{bmatrix} c \\cdot v_1 \\\\ c \\cdot v_2 \\\\ \\vdots \\\\ c \\cdot v_n \\end{bmatrix}$$\n",
        "\n",
        "### Properties:\n",
        "- If **c > 1**: vector becomes longer\n",
        "- If **0 < c < 1**: vector becomes shorter  \n",
        "- If **c < 0**: vector flips direction\n",
        "- If **c = 0**: vector becomes zero vector\n",
        "\n",
        "### ML Connection 🤖\n",
        "- **Learning rates**: Scaling gradient updates\n",
        "- **Feature scaling**: Normalizing input features\n",
        "- **Regularization**: Shrinking model parameters\n"
      ],
      "metadata": {
        "id": "egGo2_qpbyP3"
      }
    },
    {
      "cell_type": "code",
      "source": [
        "# Example scalar multiplication\n",
        "base_vector = np.array([2, 1])\n",
        "scalars = [0.5, 1.5, -1, -0.5, 2]\n",
        "\n",
        "print(\"Scalar Multiplication Examples:\")\n",
        "print(f\"Original vector: {base_vector}\")\n",
        "for scalar in scalars:\n",
        "    result = scalar * base_vector\n",
        "    print(f\"{scalar:4.1f} × {base_vector} = {result}\")\n"
      ],
      "metadata": {
        "colab": {
          "base_uri": "https://localhost:8080/"
        },
        "id": "io8FFpfqb1pr",
        "outputId": "6bac7cff-f334-4d1a-b926-2a3fb46d6de0"
      },
      "execution_count": 6,
      "outputs": [
        {
          "output_type": "stream",
          "name": "stdout",
          "text": [
            "Scalar Multiplication Examples:\n",
            "Original vector: [2 1]\n",
            " 0.5 × [2 1] = [1.  0.5]\n",
            " 1.5 × [2 1] = [3.  1.5]\n",
            "-1.0 × [2 1] = [-2 -1]\n",
            "-0.5 × [2 1] = [-1.  -0.5]\n",
            " 2.0 × [2 1] = [4 2]\n"
          ]
        }
      ]
    },
    {
      "cell_type": "markdown",
      "source": [
        "## Visualization 📊"
      ],
      "metadata": {
        "id": "Vd-iCFfbb84H"
      }
    },
    {
      "cell_type": "code",
      "source": [
        "def visualize_scalar_multiplication(v, scalars):\n",
        "    \"\"\"Visualize scalar multiplication effects\"\"\"\n",
        "    fig = go.Figure()\n",
        "\n",
        "    colors = ['red', 'orange', 'green', 'blue', 'purple']\n",
        "\n",
        "    # Original vector\n",
        "    fig.add_trace(go.Scatter(\n",
        "        x=[0, v[0]], y=[0, v[1]],\n",
        "        mode='lines+markers',\n",
        "        line=dict(color='black', width=4),\n",
        "        marker=dict(size=[0, 12], symbol=['circle', 'triangle-up']),\n",
        "        name='Original v'\n",
        "    ))\n",
        "\n",
        "    # Scaled vectors\n",
        "    for i, scalar in enumerate(scalars):\n",
        "        scaled_v = scalar * v\n",
        "        fig.add_trace(go.Scatter(\n",
        "            x=[0, scaled_v[0]], y=[0, scaled_v[1]],\n",
        "            mode='lines+markers',\n",
        "            line=dict(color=colors[i], width=3),\n",
        "            marker=dict(size=[0, 10], symbol=['circle', 'triangle-up']),\n",
        "            name=f'{scalar} × v'\n",
        "        ))\n",
        "\n",
        "    fig.update_layout(\n",
        "        title=f\"⚡ Scalar Multiplication Effects on v = {v}\",\n",
        "        xaxis_title=\"X\",\n",
        "        yaxis_title=\"Y\",\n",
        "        xaxis=dict(showgrid=True, zeroline=True, zerolinewidth=2, range=[-5, 5]),\n",
        "        yaxis=dict(showgrid=True, zeroline=True, zerolinewidth=2, range=[-3, 3]),\n",
        "        template=\"plotly_white\",\n",
        "        width=700,\n",
        "        height=600\n",
        "    )\n",
        "\n",
        "    return fig\n",
        "\n",
        "# Visualize scalar multiplication\n",
        "fig = visualize_scalar_multiplication(base_vector, scalars)\n",
        "fig.show()\n",
        "\n",
        "print(\"\\n💡 Key Insights:\")\n",
        "print(\"• Positive scalars preserve direction\")\n",
        "print(\"• Negative scalars flip direction\")\n",
        "print(\"• Magnitude scales proportionally\")\n"
      ],
      "metadata": {
        "colab": {
          "base_uri": "https://localhost:8080/",
          "height": 709
        },
        "id": "nsoC_QQ7b9uL",
        "outputId": "f04b43d8-4ff6-4b14-dbe1-5d6884d3e0d5"
      },
      "execution_count": 7,
      "outputs": [
        {
          "output_type": "display_data",
          "data": {
            "text/html": [
              "<html>\n",
              "<head><meta charset=\"utf-8\" /></head>\n",
              "<body>\n",
              "    <div>            <script src=\"https://cdnjs.cloudflare.com/ajax/libs/mathjax/2.7.5/MathJax.js?config=TeX-AMS-MML_SVG\"></script><script type=\"text/javascript\">if (window.MathJax && window.MathJax.Hub && window.MathJax.Hub.Config) {window.MathJax.Hub.Config({SVG: {font: \"STIX-Web\"}});}</script>                <script type=\"text/javascript\">window.PlotlyConfig = {MathJaxConfig: 'local'};</script>\n",
              "        <script charset=\"utf-8\" src=\"https://cdn.plot.ly/plotly-2.35.2.min.js\"></script>                <div id=\"1a2fcfc5-9013-44a7-b82b-a27c642dd6a9\" class=\"plotly-graph-div\" style=\"height:600px; width:700px;\"></div>            <script type=\"text/javascript\">                                    window.PLOTLYENV=window.PLOTLYENV || {};                                    if (document.getElementById(\"1a2fcfc5-9013-44a7-b82b-a27c642dd6a9\")) {                    Plotly.newPlot(                        \"1a2fcfc5-9013-44a7-b82b-a27c642dd6a9\",                        [{\"line\":{\"color\":\"black\",\"width\":4},\"marker\":{\"size\":[0,12],\"symbol\":[\"circle\",\"triangle-up\"]},\"mode\":\"lines+markers\",\"name\":\"Original v\",\"x\":[0,2],\"y\":[0,1],\"type\":\"scatter\"},{\"line\":{\"color\":\"red\",\"width\":3},\"marker\":{\"size\":[0,10],\"symbol\":[\"circle\",\"triangle-up\"]},\"mode\":\"lines+markers\",\"name\":\"0.5 × v\",\"x\":[0,1.0],\"y\":[0,0.5],\"type\":\"scatter\"},{\"line\":{\"color\":\"orange\",\"width\":3},\"marker\":{\"size\":[0,10],\"symbol\":[\"circle\",\"triangle-up\"]},\"mode\":\"lines+markers\",\"name\":\"1.5 × v\",\"x\":[0,3.0],\"y\":[0,1.5],\"type\":\"scatter\"},{\"line\":{\"color\":\"green\",\"width\":3},\"marker\":{\"size\":[0,10],\"symbol\":[\"circle\",\"triangle-up\"]},\"mode\":\"lines+markers\",\"name\":\"-1 × v\",\"x\":[0,-2],\"y\":[0,-1],\"type\":\"scatter\"},{\"line\":{\"color\":\"blue\",\"width\":3},\"marker\":{\"size\":[0,10],\"symbol\":[\"circle\",\"triangle-up\"]},\"mode\":\"lines+markers\",\"name\":\"-0.5 × v\",\"x\":[0,-1.0],\"y\":[0,-0.5],\"type\":\"scatter\"},{\"line\":{\"color\":\"purple\",\"width\":3},\"marker\":{\"size\":[0,10],\"symbol\":[\"circle\",\"triangle-up\"]},\"mode\":\"lines+markers\",\"name\":\"2 × v\",\"x\":[0,4],\"y\":[0,2],\"type\":\"scatter\"}],                        {\"template\":{\"data\":{\"barpolar\":[{\"marker\":{\"line\":{\"color\":\"white\",\"width\":0.5},\"pattern\":{\"fillmode\":\"overlay\",\"size\":10,\"solidity\":0.2}},\"type\":\"barpolar\"}],\"bar\":[{\"error_x\":{\"color\":\"#2a3f5f\"},\"error_y\":{\"color\":\"#2a3f5f\"},\"marker\":{\"line\":{\"color\":\"white\",\"width\":0.5},\"pattern\":{\"fillmode\":\"overlay\",\"size\":10,\"solidity\":0.2}},\"type\":\"bar\"}],\"carpet\":[{\"aaxis\":{\"endlinecolor\":\"#2a3f5f\",\"gridcolor\":\"#C8D4E3\",\"linecolor\":\"#C8D4E3\",\"minorgridcolor\":\"#C8D4E3\",\"startlinecolor\":\"#2a3f5f\"},\"baxis\":{\"endlinecolor\":\"#2a3f5f\",\"gridcolor\":\"#C8D4E3\",\"linecolor\":\"#C8D4E3\",\"minorgridcolor\":\"#C8D4E3\",\"startlinecolor\":\"#2a3f5f\"},\"type\":\"carpet\"}],\"choropleth\":[{\"colorbar\":{\"outlinewidth\":0,\"ticks\":\"\"},\"type\":\"choropleth\"}],\"contourcarpet\":[{\"colorbar\":{\"outlinewidth\":0,\"ticks\":\"\"},\"type\":\"contourcarpet\"}],\"contour\":[{\"colorbar\":{\"outlinewidth\":0,\"ticks\":\"\"},\"colorscale\":[[0.0,\"#0d0887\"],[0.1111111111111111,\"#46039f\"],[0.2222222222222222,\"#7201a8\"],[0.3333333333333333,\"#9c179e\"],[0.4444444444444444,\"#bd3786\"],[0.5555555555555556,\"#d8576b\"],[0.6666666666666666,\"#ed7953\"],[0.7777777777777778,\"#fb9f3a\"],[0.8888888888888888,\"#fdca26\"],[1.0,\"#f0f921\"]],\"type\":\"contour\"}],\"heatmapgl\":[{\"colorbar\":{\"outlinewidth\":0,\"ticks\":\"\"},\"colorscale\":[[0.0,\"#0d0887\"],[0.1111111111111111,\"#46039f\"],[0.2222222222222222,\"#7201a8\"],[0.3333333333333333,\"#9c179e\"],[0.4444444444444444,\"#bd3786\"],[0.5555555555555556,\"#d8576b\"],[0.6666666666666666,\"#ed7953\"],[0.7777777777777778,\"#fb9f3a\"],[0.8888888888888888,\"#fdca26\"],[1.0,\"#f0f921\"]],\"type\":\"heatmapgl\"}],\"heatmap\":[{\"colorbar\":{\"outlinewidth\":0,\"ticks\":\"\"},\"colorscale\":[[0.0,\"#0d0887\"],[0.1111111111111111,\"#46039f\"],[0.2222222222222222,\"#7201a8\"],[0.3333333333333333,\"#9c179e\"],[0.4444444444444444,\"#bd3786\"],[0.5555555555555556,\"#d8576b\"],[0.6666666666666666,\"#ed7953\"],[0.7777777777777778,\"#fb9f3a\"],[0.8888888888888888,\"#fdca26\"],[1.0,\"#f0f921\"]],\"type\":\"heatmap\"}],\"histogram2dcontour\":[{\"colorbar\":{\"outlinewidth\":0,\"ticks\":\"\"},\"colorscale\":[[0.0,\"#0d0887\"],[0.1111111111111111,\"#46039f\"],[0.2222222222222222,\"#7201a8\"],[0.3333333333333333,\"#9c179e\"],[0.4444444444444444,\"#bd3786\"],[0.5555555555555556,\"#d8576b\"],[0.6666666666666666,\"#ed7953\"],[0.7777777777777778,\"#fb9f3a\"],[0.8888888888888888,\"#fdca26\"],[1.0,\"#f0f921\"]],\"type\":\"histogram2dcontour\"}],\"histogram2d\":[{\"colorbar\":{\"outlinewidth\":0,\"ticks\":\"\"},\"colorscale\":[[0.0,\"#0d0887\"],[0.1111111111111111,\"#46039f\"],[0.2222222222222222,\"#7201a8\"],[0.3333333333333333,\"#9c179e\"],[0.4444444444444444,\"#bd3786\"],[0.5555555555555556,\"#d8576b\"],[0.6666666666666666,\"#ed7953\"],[0.7777777777777778,\"#fb9f3a\"],[0.8888888888888888,\"#fdca26\"],[1.0,\"#f0f921\"]],\"type\":\"histogram2d\"}],\"histogram\":[{\"marker\":{\"pattern\":{\"fillmode\":\"overlay\",\"size\":10,\"solidity\":0.2}},\"type\":\"histogram\"}],\"mesh3d\":[{\"colorbar\":{\"outlinewidth\":0,\"ticks\":\"\"},\"type\":\"mesh3d\"}],\"parcoords\":[{\"line\":{\"colorbar\":{\"outlinewidth\":0,\"ticks\":\"\"}},\"type\":\"parcoords\"}],\"pie\":[{\"automargin\":true,\"type\":\"pie\"}],\"scatter3d\":[{\"line\":{\"colorbar\":{\"outlinewidth\":0,\"ticks\":\"\"}},\"marker\":{\"colorbar\":{\"outlinewidth\":0,\"ticks\":\"\"}},\"type\":\"scatter3d\"}],\"scattercarpet\":[{\"marker\":{\"colorbar\":{\"outlinewidth\":0,\"ticks\":\"\"}},\"type\":\"scattercarpet\"}],\"scattergeo\":[{\"marker\":{\"colorbar\":{\"outlinewidth\":0,\"ticks\":\"\"}},\"type\":\"scattergeo\"}],\"scattergl\":[{\"marker\":{\"colorbar\":{\"outlinewidth\":0,\"ticks\":\"\"}},\"type\":\"scattergl\"}],\"scattermapbox\":[{\"marker\":{\"colorbar\":{\"outlinewidth\":0,\"ticks\":\"\"}},\"type\":\"scattermapbox\"}],\"scatterpolargl\":[{\"marker\":{\"colorbar\":{\"outlinewidth\":0,\"ticks\":\"\"}},\"type\":\"scatterpolargl\"}],\"scatterpolar\":[{\"marker\":{\"colorbar\":{\"outlinewidth\":0,\"ticks\":\"\"}},\"type\":\"scatterpolar\"}],\"scatter\":[{\"fillpattern\":{\"fillmode\":\"overlay\",\"size\":10,\"solidity\":0.2},\"type\":\"scatter\"}],\"scatterternary\":[{\"marker\":{\"colorbar\":{\"outlinewidth\":0,\"ticks\":\"\"}},\"type\":\"scatterternary\"}],\"surface\":[{\"colorbar\":{\"outlinewidth\":0,\"ticks\":\"\"},\"colorscale\":[[0.0,\"#0d0887\"],[0.1111111111111111,\"#46039f\"],[0.2222222222222222,\"#7201a8\"],[0.3333333333333333,\"#9c179e\"],[0.4444444444444444,\"#bd3786\"],[0.5555555555555556,\"#d8576b\"],[0.6666666666666666,\"#ed7953\"],[0.7777777777777778,\"#fb9f3a\"],[0.8888888888888888,\"#fdca26\"],[1.0,\"#f0f921\"]],\"type\":\"surface\"}],\"table\":[{\"cells\":{\"fill\":{\"color\":\"#EBF0F8\"},\"line\":{\"color\":\"white\"}},\"header\":{\"fill\":{\"color\":\"#C8D4E3\"},\"line\":{\"color\":\"white\"}},\"type\":\"table\"}]},\"layout\":{\"annotationdefaults\":{\"arrowcolor\":\"#2a3f5f\",\"arrowhead\":0,\"arrowwidth\":1},\"autotypenumbers\":\"strict\",\"coloraxis\":{\"colorbar\":{\"outlinewidth\":0,\"ticks\":\"\"}},\"colorscale\":{\"diverging\":[[0,\"#8e0152\"],[0.1,\"#c51b7d\"],[0.2,\"#de77ae\"],[0.3,\"#f1b6da\"],[0.4,\"#fde0ef\"],[0.5,\"#f7f7f7\"],[0.6,\"#e6f5d0\"],[0.7,\"#b8e186\"],[0.8,\"#7fbc41\"],[0.9,\"#4d9221\"],[1,\"#276419\"]],\"sequential\":[[0.0,\"#0d0887\"],[0.1111111111111111,\"#46039f\"],[0.2222222222222222,\"#7201a8\"],[0.3333333333333333,\"#9c179e\"],[0.4444444444444444,\"#bd3786\"],[0.5555555555555556,\"#d8576b\"],[0.6666666666666666,\"#ed7953\"],[0.7777777777777778,\"#fb9f3a\"],[0.8888888888888888,\"#fdca26\"],[1.0,\"#f0f921\"]],\"sequentialminus\":[[0.0,\"#0d0887\"],[0.1111111111111111,\"#46039f\"],[0.2222222222222222,\"#7201a8\"],[0.3333333333333333,\"#9c179e\"],[0.4444444444444444,\"#bd3786\"],[0.5555555555555556,\"#d8576b\"],[0.6666666666666666,\"#ed7953\"],[0.7777777777777778,\"#fb9f3a\"],[0.8888888888888888,\"#fdca26\"],[1.0,\"#f0f921\"]]},\"colorway\":[\"#636efa\",\"#EF553B\",\"#00cc96\",\"#ab63fa\",\"#FFA15A\",\"#19d3f3\",\"#FF6692\",\"#B6E880\",\"#FF97FF\",\"#FECB52\"],\"font\":{\"color\":\"#2a3f5f\"},\"geo\":{\"bgcolor\":\"white\",\"lakecolor\":\"white\",\"landcolor\":\"white\",\"showlakes\":true,\"showland\":true,\"subunitcolor\":\"#C8D4E3\"},\"hoverlabel\":{\"align\":\"left\"},\"hovermode\":\"closest\",\"mapbox\":{\"style\":\"light\"},\"paper_bgcolor\":\"white\",\"plot_bgcolor\":\"white\",\"polar\":{\"angularaxis\":{\"gridcolor\":\"#EBF0F8\",\"linecolor\":\"#EBF0F8\",\"ticks\":\"\"},\"bgcolor\":\"white\",\"radialaxis\":{\"gridcolor\":\"#EBF0F8\",\"linecolor\":\"#EBF0F8\",\"ticks\":\"\"}},\"scene\":{\"xaxis\":{\"backgroundcolor\":\"white\",\"gridcolor\":\"#DFE8F3\",\"gridwidth\":2,\"linecolor\":\"#EBF0F8\",\"showbackground\":true,\"ticks\":\"\",\"zerolinecolor\":\"#EBF0F8\"},\"yaxis\":{\"backgroundcolor\":\"white\",\"gridcolor\":\"#DFE8F3\",\"gridwidth\":2,\"linecolor\":\"#EBF0F8\",\"showbackground\":true,\"ticks\":\"\",\"zerolinecolor\":\"#EBF0F8\"},\"zaxis\":{\"backgroundcolor\":\"white\",\"gridcolor\":\"#DFE8F3\",\"gridwidth\":2,\"linecolor\":\"#EBF0F8\",\"showbackground\":true,\"ticks\":\"\",\"zerolinecolor\":\"#EBF0F8\"}},\"shapedefaults\":{\"line\":{\"color\":\"#2a3f5f\"}},\"ternary\":{\"aaxis\":{\"gridcolor\":\"#DFE8F3\",\"linecolor\":\"#A2B1C6\",\"ticks\":\"\"},\"baxis\":{\"gridcolor\":\"#DFE8F3\",\"linecolor\":\"#A2B1C6\",\"ticks\":\"\"},\"bgcolor\":\"white\",\"caxis\":{\"gridcolor\":\"#DFE8F3\",\"linecolor\":\"#A2B1C6\",\"ticks\":\"\"}},\"title\":{\"x\":0.05},\"xaxis\":{\"automargin\":true,\"gridcolor\":\"#EBF0F8\",\"linecolor\":\"#EBF0F8\",\"ticks\":\"\",\"title\":{\"standoff\":15},\"zerolinecolor\":\"#EBF0F8\",\"zerolinewidth\":2},\"yaxis\":{\"automargin\":true,\"gridcolor\":\"#EBF0F8\",\"linecolor\":\"#EBF0F8\",\"ticks\":\"\",\"title\":{\"standoff\":15},\"zerolinecolor\":\"#EBF0F8\",\"zerolinewidth\":2}}},\"xaxis\":{\"title\":{\"text\":\"X\"},\"showgrid\":true,\"zeroline\":true,\"zerolinewidth\":2,\"range\":[-5,5]},\"yaxis\":{\"title\":{\"text\":\"Y\"},\"showgrid\":true,\"zeroline\":true,\"zerolinewidth\":2,\"range\":[-3,3]},\"title\":{\"text\":\"⚡ Scalar Multiplication Effects on v = [2 1]\"},\"width\":700,\"height\":600},                        {\"responsive\": true}                    ).then(function(){\n",
              "                            \n",
              "var gd = document.getElementById('1a2fcfc5-9013-44a7-b82b-a27c642dd6a9');\n",
              "var x = new MutationObserver(function (mutations, observer) {{\n",
              "        var display = window.getComputedStyle(gd).display;\n",
              "        if (!display || display === 'none') {{\n",
              "            console.log([gd, 'removed!']);\n",
              "            Plotly.purge(gd);\n",
              "            observer.disconnect();\n",
              "        }}\n",
              "}});\n",
              "\n",
              "// Listen for the removal of the full notebook cells\n",
              "var notebookContainer = gd.closest('#notebook-container');\n",
              "if (notebookContainer) {{\n",
              "    x.observe(notebookContainer, {childList: true});\n",
              "}}\n",
              "\n",
              "// Listen for the clearing of the current output cell\n",
              "var outputEl = gd.closest('.output');\n",
              "if (outputEl) {{\n",
              "    x.observe(outputEl, {childList: true});\n",
              "}}\n",
              "\n",
              "                        })                };                            </script>        </div>\n",
              "</body>\n",
              "</html>"
            ]
          },
          "metadata": {}
        },
        {
          "output_type": "stream",
          "name": "stdout",
          "text": [
            "\n",
            "💡 Key Insights:\n",
            "• Positive scalars preserve direction\n",
            "• Negative scalars flip direction\n",
            "• Magnitude scales proportionally\n"
          ]
        }
      ]
    },
    {
      "cell_type": "markdown",
      "source": [
        "# 4. 📏 Vector Norms (Magnitudes)\n",
        "\n",
        "## Theory 📖\n",
        "\n",
        "The **norm** of a vector measures its \"length\" or magnitude. Different norms capture different notions of size.\n",
        "\n",
        "### Common Norms:\n",
        "1. **L₁ Norm (Manhattan)**: $\\|\\mathbf{v}\\|_1 = |v_1| + |v_2| + \\ldots + |v_n|$\n",
        "2. **L₂ Norm (Euclidean)**: $\\|\\mathbf{v}\\|_2 = \\sqrt{v_1^2 + v_2^2 + \\ldots + v_n^2}$\n",
        "3. **L∞ Norm (Maximum)**: $\\|\\mathbf{v}\\|_\\infty = \\max(|v_1|, |v_2|, \\ldots, |v_n|)$\n",
        "\n",
        "### ML Connection 🤖\n",
        "- **Regularization**: L₁ (Lasso), L₂ (Ridge) regularization\n",
        "- **Distance metrics**: Measuring similarity between data points\n",
        "- **Optimization**: Gradient clipping uses norms to prevent exploding gradients\n"
      ],
      "metadata": {
        "id": "TJqmvzyicI6S"
      }
    },
    {
      "cell_type": "code",
      "source": [
        "def calculate_norms(v):\n",
        "    \"\"\"Calculate different norms for a vector\"\"\"\n",
        "    return {\n",
        "        'L1': np.sum(np.abs(v)),\n",
        "        'L2': np.sqrt(np.sum(v**2)),\n",
        "        'L_inf': np.max(np.abs(v))\n",
        "    }\n",
        "\n",
        "# Example vector\n",
        "example_vector = np.array([0.6, 0.8])\n",
        "norms = calculate_norms(example_vector)\n",
        "\n",
        "print(f\"📊 Norms for vector {example_vector}:\")\n",
        "for norm_name, value in norms.items():\n",
        "    print(f\"‖v‖_{norm_name} = {value:.3f}\")"
      ],
      "metadata": {
        "colab": {
          "base_uri": "https://localhost:8080/"
        },
        "id": "6riu97qDcNu_",
        "outputId": "b48b1b01-d2db-45a6-ffad-8aeba5f45622"
      },
      "execution_count": 8,
      "outputs": [
        {
          "output_type": "stream",
          "name": "stdout",
          "text": [
            "📊 Norms for vector [0.6 0.8]:\n",
            "‖v‖_L1 = 1.400\n",
            "‖v‖_L2 = 1.000\n",
            "‖v‖_L_inf = 0.800\n"
          ]
        }
      ]
    },
    {
      "cell_type": "markdown",
      "source": [
        "## Visualization 📊"
      ],
      "metadata": {
        "id": "9O7L0tqPciM9"
      }
    },
    {
      "cell_type": "code",
      "source": [
        "def visualize_norm_balls():\n",
        "    \"\"\"Visualize unit balls for different norms\"\"\"\n",
        "    # L2 unit circle\n",
        "    theta = np.linspace(0, 2*np.pi, 100)\n",
        "    x_l2 = np.cos(theta)\n",
        "    y_l2 = np.sin(theta)\n",
        "\n",
        "    # L1 unit \"circle\" (diamond)\n",
        "    diamond_x = [1, 0, -1, 0, 1]\n",
        "    diamond_y = [0, 1, 0, -1, 0]\n",
        "\n",
        "    # L_inf unit \"circle\" (square)\n",
        "    square_x = [-1, 1, 1, -1, -1]\n",
        "    square_y = [-1, -1, 1, 1, -1]\n",
        "\n",
        "    fig = go.Figure()\n",
        "\n",
        "    # Add unit balls\n",
        "    fig.add_trace(go.Scatter(\n",
        "        x=diamond_x, y=diamond_y,\n",
        "        mode='lines',\n",
        "        name='L₁ Unit Ball (Diamond)',\n",
        "        line=dict(color='red', width=3),\n",
        "        fill='tonext'\n",
        "    ))\n",
        "\n",
        "    fig.add_trace(go.Scatter(\n",
        "        x=x_l2, y=y_l2,\n",
        "        mode='lines',\n",
        "        name='L₂ Unit Ball (Circle)',\n",
        "        line=dict(color='blue', width=3)\n",
        "    ))\n",
        "\n",
        "    fig.add_trace(go.Scatter(\n",
        "        x=square_x, y=square_y,\n",
        "        mode='lines',\n",
        "        name='L∞ Unit Ball (Square)',\n",
        "        line=dict(color='green', width=3)\n",
        "    ))\n",
        "\n",
        "    # Add example vector\n",
        "    fig.add_trace(go.Scatter(\n",
        "        x=[0, example_vector[0]], y=[0, example_vector[1]],\n",
        "        mode='lines+markers',\n",
        "        name='Example Vector',\n",
        "        line=dict(color='purple', width=4),\n",
        "        marker=dict(size=[0, 12], symbol=['circle', 'triangle-up'])\n",
        "    ))\n",
        "\n",
        "    fig.update_layout(\n",
        "        title=\"📐 Unit Balls for Different Norms\",\n",
        "        xaxis_title=\"X\",\n",
        "        yaxis_title=\"Y\",\n",
        "        xaxis=dict(showgrid=True, zeroline=True, zerolinewidth=2, range=[-1.5, 1.5]),\n",
        "        yaxis=dict(showgrid=True, zeroline=True, zerolinewidth=2, range=[-1.5, 1.5]),\n",
        "        template=\"plotly_white\",\n",
        "        width=700,\n",
        "        height=600\n",
        "    )\n",
        "\n",
        "    return fig\n",
        "\n",
        "# Visualize norm balls\n",
        "fig = visualize_norm_balls()\n",
        "fig.show()\n",
        "\n",
        "print(\"\\n💡 Interpretation:\")\n",
        "print(\"• L₁ norm: Sum of absolute values (Manhattan distance)\")\n",
        "print(\"• L₂ norm: Euclidean distance (usual 'length')\")\n",
        "print(\"• L∞ norm: Maximum absolute component\")\n"
      ],
      "metadata": {
        "colab": {
          "base_uri": "https://localhost:8080/",
          "height": 709
        },
        "id": "pr05KhXYcioc",
        "outputId": "38702c7b-2ed6-45a9-f6db-4e9621513889"
      },
      "execution_count": 9,
      "outputs": [
        {
          "output_type": "display_data",
          "data": {
            "text/html": [
              "<html>\n",
              "<head><meta charset=\"utf-8\" /></head>\n",
              "<body>\n",
              "    <div>            <script src=\"https://cdnjs.cloudflare.com/ajax/libs/mathjax/2.7.5/MathJax.js?config=TeX-AMS-MML_SVG\"></script><script type=\"text/javascript\">if (window.MathJax && window.MathJax.Hub && window.MathJax.Hub.Config) {window.MathJax.Hub.Config({SVG: {font: \"STIX-Web\"}});}</script>                <script type=\"text/javascript\">window.PlotlyConfig = {MathJaxConfig: 'local'};</script>\n",
              "        <script charset=\"utf-8\" src=\"https://cdn.plot.ly/plotly-2.35.2.min.js\"></script>                <div id=\"83d589a0-c5d8-4224-a55e-d7da2001d355\" class=\"plotly-graph-div\" style=\"height:600px; width:700px;\"></div>            <script type=\"text/javascript\">                                    window.PLOTLYENV=window.PLOTLYENV || {};                                    if (document.getElementById(\"83d589a0-c5d8-4224-a55e-d7da2001d355\")) {                    Plotly.newPlot(                        \"83d589a0-c5d8-4224-a55e-d7da2001d355\",                        [{\"fill\":\"tonext\",\"line\":{\"color\":\"red\",\"width\":3},\"mode\":\"lines\",\"name\":\"L₁ Unit Ball (Diamond)\",\"x\":[1,0,-1,0,1],\"y\":[0,1,0,-1,0],\"type\":\"scatter\"},{\"line\":{\"color\":\"blue\",\"width\":3},\"mode\":\"lines\",\"name\":\"L₂ Unit Ball (Circle)\",\"x\":[1.0,0.9979866764718844,0.9919548128307953,0.9819286972627067,0.9679487013963562,0.9500711177409454,0.9283679330160726,0.9029265382866212,0.8738493770697849,0.8412535328311812,0.8052702575310586,0.766044443118978,0.7237340381050701,0.6785094115571322,0.6305526670845225,0.5800569095711982,0.5272254676105024,0.4722710747726827,0.41541501300188644,0.3568862215918719,0.2969203753282749,0.23575893550942728,0.17364817766693041,0.1108381999010111,0.04758191582374218,-0.01586596383480803,-0.07924995685678854,-0.14231483827328523,-0.20480666806519074,-0.26647381369003503,-0.32706796331742166,-0.3863451256931287,-0.4440666126057741,-0.5000000000000002,-0.5539200638661103,-0.6056096871376668,-0.654860733945285,-0.7014748877063214,-0.7452644496757547,-0.7860530947427875,-0.8236765814298327,-0.8579834132349771,-0.8888354486549234,-0.9161084574320696,-0.9396926207859083,-0.9594929736144974,-0.975429786885407,-0.9874388886763943,-0.9954719225730846,-0.9994965423831851,-0.9994965423831851,-0.9954719225730846,-0.9874388886763943,-0.975429786885407,-0.9594929736144974,-0.9396926207859084,-0.9161084574320696,-0.8888354486549235,-0.857983413234977,-0.8236765814298328,-0.7860530947427874,-0.7452644496757548,-0.7014748877063213,-0.6548607339452852,-0.6056096871376666,-0.5539200638661105,-0.4999999999999996,-0.44406661260577396,-0.3863451256931287,-0.3270679633174219,-0.26647381369003464,-0.20480666806519054,-0.14231483827328523,-0.07924995685678879,-0.01586596383480761,0.04758191582374238,0.11083819990101086,0.17364817766692997,0.23575893550942748,0.2969203753282749,0.35688622159187167,0.4154150130018868,0.4722710747726829,0.5272254676105024,0.5800569095711979,0.6305526670845228,0.6785094115571323,0.7237340381050701,0.7660444431189778,0.8052702575310587,0.8412535328311812,0.8738493770697849,0.9029265382866211,0.9283679330160727,0.9500711177409454,0.9679487013963562,0.9819286972627068,0.9919548128307953,0.9979866764718844,1.0],\"y\":[0.0,0.0634239196565645,0.12659245357374926,0.18925124436041021,0.2511479871810792,0.3120334456984871,0.3716624556603276,0.42979491208917164,0.4861967361004687,0.5406408174555976,0.5929079290546404,0.6427876096865393,0.690079011482112,0.7345917086575333,0.7761464642917568,0.8145759520503357,0.8497254299495144,0.8814533634475821,0.9096319953545183,0.9341478602651067,0.9549022414440739,0.9718115683235417,0.984807753012208,0.9938384644612541,0.998867339183008,0.9998741276738751,0.9968547759519424,0.9898214418809327,0.9788024462147787,0.963842158559942,0.9450008187146685,0.9223542941045814,0.8959937742913359,0.8660254037844385,0.8325698546347714,0.795761840530832,0.7557495743542583,0.7126941713788627,0.6667690005162917,0.6181589862206051,0.5670598638627709,0.5136773915734063,0.4582265217274105,0.4009305354066136,0.3420201433256689,0.28173255684142967,0.2203105327865408,0.1580013959733499,0.09505604330418244,0.031727933498067656,-0.03172793349806786,-0.09505604330418263,-0.15800139597335008,-0.22031053278654056,-0.28173255684142984,-0.34202014332566866,-0.4009305354066138,-0.4582265217274103,-0.5136773915734064,-0.5670598638627706,-0.6181589862206053,-0.6667690005162915,-0.7126941713788629,-0.7557495743542582,-0.7957618405308321,-0.8325698546347713,-0.8660254037844388,-0.895993774291336,-0.9223542941045814,-0.9450008187146683,-0.9638421585599422,-0.9788024462147787,-0.9898214418809327,-0.9968547759519423,-0.9998741276738751,-0.998867339183008,-0.9938384644612541,-0.9848077530122081,-0.9718115683235417,-0.9549022414440739,-0.9341478602651068,-0.9096319953545182,-0.881453363447582,-0.8497254299495144,-0.8145759520503358,-0.7761464642917566,-0.7345917086575332,-0.690079011482112,-0.6427876096865396,-0.5929079290546402,-0.5406408174555974,-0.4861967361004688,-0.4297949120891719,-0.37166245566032724,-0.31203344569848707,-0.2511479871810794,-0.18925124436040974,-0.12659245357374904,-0.06342391965656452,-2.4492935982947064e-16],\"type\":\"scatter\"},{\"line\":{\"color\":\"green\",\"width\":3},\"mode\":\"lines\",\"name\":\"L∞ Unit Ball (Square)\",\"x\":[-1,1,1,-1,-1],\"y\":[-1,-1,1,1,-1],\"type\":\"scatter\"},{\"line\":{\"color\":\"purple\",\"width\":4},\"marker\":{\"size\":[0,12],\"symbol\":[\"circle\",\"triangle-up\"]},\"mode\":\"lines+markers\",\"name\":\"Example Vector\",\"x\":[0,0.6],\"y\":[0,0.8],\"type\":\"scatter\"}],                        {\"template\":{\"data\":{\"barpolar\":[{\"marker\":{\"line\":{\"color\":\"white\",\"width\":0.5},\"pattern\":{\"fillmode\":\"overlay\",\"size\":10,\"solidity\":0.2}},\"type\":\"barpolar\"}],\"bar\":[{\"error_x\":{\"color\":\"#2a3f5f\"},\"error_y\":{\"color\":\"#2a3f5f\"},\"marker\":{\"line\":{\"color\":\"white\",\"width\":0.5},\"pattern\":{\"fillmode\":\"overlay\",\"size\":10,\"solidity\":0.2}},\"type\":\"bar\"}],\"carpet\":[{\"aaxis\":{\"endlinecolor\":\"#2a3f5f\",\"gridcolor\":\"#C8D4E3\",\"linecolor\":\"#C8D4E3\",\"minorgridcolor\":\"#C8D4E3\",\"startlinecolor\":\"#2a3f5f\"},\"baxis\":{\"endlinecolor\":\"#2a3f5f\",\"gridcolor\":\"#C8D4E3\",\"linecolor\":\"#C8D4E3\",\"minorgridcolor\":\"#C8D4E3\",\"startlinecolor\":\"#2a3f5f\"},\"type\":\"carpet\"}],\"choropleth\":[{\"colorbar\":{\"outlinewidth\":0,\"ticks\":\"\"},\"type\":\"choropleth\"}],\"contourcarpet\":[{\"colorbar\":{\"outlinewidth\":0,\"ticks\":\"\"},\"type\":\"contourcarpet\"}],\"contour\":[{\"colorbar\":{\"outlinewidth\":0,\"ticks\":\"\"},\"colorscale\":[[0.0,\"#0d0887\"],[0.1111111111111111,\"#46039f\"],[0.2222222222222222,\"#7201a8\"],[0.3333333333333333,\"#9c179e\"],[0.4444444444444444,\"#bd3786\"],[0.5555555555555556,\"#d8576b\"],[0.6666666666666666,\"#ed7953\"],[0.7777777777777778,\"#fb9f3a\"],[0.8888888888888888,\"#fdca26\"],[1.0,\"#f0f921\"]],\"type\":\"contour\"}],\"heatmapgl\":[{\"colorbar\":{\"outlinewidth\":0,\"ticks\":\"\"},\"colorscale\":[[0.0,\"#0d0887\"],[0.1111111111111111,\"#46039f\"],[0.2222222222222222,\"#7201a8\"],[0.3333333333333333,\"#9c179e\"],[0.4444444444444444,\"#bd3786\"],[0.5555555555555556,\"#d8576b\"],[0.6666666666666666,\"#ed7953\"],[0.7777777777777778,\"#fb9f3a\"],[0.8888888888888888,\"#fdca26\"],[1.0,\"#f0f921\"]],\"type\":\"heatmapgl\"}],\"heatmap\":[{\"colorbar\":{\"outlinewidth\":0,\"ticks\":\"\"},\"colorscale\":[[0.0,\"#0d0887\"],[0.1111111111111111,\"#46039f\"],[0.2222222222222222,\"#7201a8\"],[0.3333333333333333,\"#9c179e\"],[0.4444444444444444,\"#bd3786\"],[0.5555555555555556,\"#d8576b\"],[0.6666666666666666,\"#ed7953\"],[0.7777777777777778,\"#fb9f3a\"],[0.8888888888888888,\"#fdca26\"],[1.0,\"#f0f921\"]],\"type\":\"heatmap\"}],\"histogram2dcontour\":[{\"colorbar\":{\"outlinewidth\":0,\"ticks\":\"\"},\"colorscale\":[[0.0,\"#0d0887\"],[0.1111111111111111,\"#46039f\"],[0.2222222222222222,\"#7201a8\"],[0.3333333333333333,\"#9c179e\"],[0.4444444444444444,\"#bd3786\"],[0.5555555555555556,\"#d8576b\"],[0.6666666666666666,\"#ed7953\"],[0.7777777777777778,\"#fb9f3a\"],[0.8888888888888888,\"#fdca26\"],[1.0,\"#f0f921\"]],\"type\":\"histogram2dcontour\"}],\"histogram2d\":[{\"colorbar\":{\"outlinewidth\":0,\"ticks\":\"\"},\"colorscale\":[[0.0,\"#0d0887\"],[0.1111111111111111,\"#46039f\"],[0.2222222222222222,\"#7201a8\"],[0.3333333333333333,\"#9c179e\"],[0.4444444444444444,\"#bd3786\"],[0.5555555555555556,\"#d8576b\"],[0.6666666666666666,\"#ed7953\"],[0.7777777777777778,\"#fb9f3a\"],[0.8888888888888888,\"#fdca26\"],[1.0,\"#f0f921\"]],\"type\":\"histogram2d\"}],\"histogram\":[{\"marker\":{\"pattern\":{\"fillmode\":\"overlay\",\"size\":10,\"solidity\":0.2}},\"type\":\"histogram\"}],\"mesh3d\":[{\"colorbar\":{\"outlinewidth\":0,\"ticks\":\"\"},\"type\":\"mesh3d\"}],\"parcoords\":[{\"line\":{\"colorbar\":{\"outlinewidth\":0,\"ticks\":\"\"}},\"type\":\"parcoords\"}],\"pie\":[{\"automargin\":true,\"type\":\"pie\"}],\"scatter3d\":[{\"line\":{\"colorbar\":{\"outlinewidth\":0,\"ticks\":\"\"}},\"marker\":{\"colorbar\":{\"outlinewidth\":0,\"ticks\":\"\"}},\"type\":\"scatter3d\"}],\"scattercarpet\":[{\"marker\":{\"colorbar\":{\"outlinewidth\":0,\"ticks\":\"\"}},\"type\":\"scattercarpet\"}],\"scattergeo\":[{\"marker\":{\"colorbar\":{\"outlinewidth\":0,\"ticks\":\"\"}},\"type\":\"scattergeo\"}],\"scattergl\":[{\"marker\":{\"colorbar\":{\"outlinewidth\":0,\"ticks\":\"\"}},\"type\":\"scattergl\"}],\"scattermapbox\":[{\"marker\":{\"colorbar\":{\"outlinewidth\":0,\"ticks\":\"\"}},\"type\":\"scattermapbox\"}],\"scatterpolargl\":[{\"marker\":{\"colorbar\":{\"outlinewidth\":0,\"ticks\":\"\"}},\"type\":\"scatterpolargl\"}],\"scatterpolar\":[{\"marker\":{\"colorbar\":{\"outlinewidth\":0,\"ticks\":\"\"}},\"type\":\"scatterpolar\"}],\"scatter\":[{\"fillpattern\":{\"fillmode\":\"overlay\",\"size\":10,\"solidity\":0.2},\"type\":\"scatter\"}],\"scatterternary\":[{\"marker\":{\"colorbar\":{\"outlinewidth\":0,\"ticks\":\"\"}},\"type\":\"scatterternary\"}],\"surface\":[{\"colorbar\":{\"outlinewidth\":0,\"ticks\":\"\"},\"colorscale\":[[0.0,\"#0d0887\"],[0.1111111111111111,\"#46039f\"],[0.2222222222222222,\"#7201a8\"],[0.3333333333333333,\"#9c179e\"],[0.4444444444444444,\"#bd3786\"],[0.5555555555555556,\"#d8576b\"],[0.6666666666666666,\"#ed7953\"],[0.7777777777777778,\"#fb9f3a\"],[0.8888888888888888,\"#fdca26\"],[1.0,\"#f0f921\"]],\"type\":\"surface\"}],\"table\":[{\"cells\":{\"fill\":{\"color\":\"#EBF0F8\"},\"line\":{\"color\":\"white\"}},\"header\":{\"fill\":{\"color\":\"#C8D4E3\"},\"line\":{\"color\":\"white\"}},\"type\":\"table\"}]},\"layout\":{\"annotationdefaults\":{\"arrowcolor\":\"#2a3f5f\",\"arrowhead\":0,\"arrowwidth\":1},\"autotypenumbers\":\"strict\",\"coloraxis\":{\"colorbar\":{\"outlinewidth\":0,\"ticks\":\"\"}},\"colorscale\":{\"diverging\":[[0,\"#8e0152\"],[0.1,\"#c51b7d\"],[0.2,\"#de77ae\"],[0.3,\"#f1b6da\"],[0.4,\"#fde0ef\"],[0.5,\"#f7f7f7\"],[0.6,\"#e6f5d0\"],[0.7,\"#b8e186\"],[0.8,\"#7fbc41\"],[0.9,\"#4d9221\"],[1,\"#276419\"]],\"sequential\":[[0.0,\"#0d0887\"],[0.1111111111111111,\"#46039f\"],[0.2222222222222222,\"#7201a8\"],[0.3333333333333333,\"#9c179e\"],[0.4444444444444444,\"#bd3786\"],[0.5555555555555556,\"#d8576b\"],[0.6666666666666666,\"#ed7953\"],[0.7777777777777778,\"#fb9f3a\"],[0.8888888888888888,\"#fdca26\"],[1.0,\"#f0f921\"]],\"sequentialminus\":[[0.0,\"#0d0887\"],[0.1111111111111111,\"#46039f\"],[0.2222222222222222,\"#7201a8\"],[0.3333333333333333,\"#9c179e\"],[0.4444444444444444,\"#bd3786\"],[0.5555555555555556,\"#d8576b\"],[0.6666666666666666,\"#ed7953\"],[0.7777777777777778,\"#fb9f3a\"],[0.8888888888888888,\"#fdca26\"],[1.0,\"#f0f921\"]]},\"colorway\":[\"#636efa\",\"#EF553B\",\"#00cc96\",\"#ab63fa\",\"#FFA15A\",\"#19d3f3\",\"#FF6692\",\"#B6E880\",\"#FF97FF\",\"#FECB52\"],\"font\":{\"color\":\"#2a3f5f\"},\"geo\":{\"bgcolor\":\"white\",\"lakecolor\":\"white\",\"landcolor\":\"white\",\"showlakes\":true,\"showland\":true,\"subunitcolor\":\"#C8D4E3\"},\"hoverlabel\":{\"align\":\"left\"},\"hovermode\":\"closest\",\"mapbox\":{\"style\":\"light\"},\"paper_bgcolor\":\"white\",\"plot_bgcolor\":\"white\",\"polar\":{\"angularaxis\":{\"gridcolor\":\"#EBF0F8\",\"linecolor\":\"#EBF0F8\",\"ticks\":\"\"},\"bgcolor\":\"white\",\"radialaxis\":{\"gridcolor\":\"#EBF0F8\",\"linecolor\":\"#EBF0F8\",\"ticks\":\"\"}},\"scene\":{\"xaxis\":{\"backgroundcolor\":\"white\",\"gridcolor\":\"#DFE8F3\",\"gridwidth\":2,\"linecolor\":\"#EBF0F8\",\"showbackground\":true,\"ticks\":\"\",\"zerolinecolor\":\"#EBF0F8\"},\"yaxis\":{\"backgroundcolor\":\"white\",\"gridcolor\":\"#DFE8F3\",\"gridwidth\":2,\"linecolor\":\"#EBF0F8\",\"showbackground\":true,\"ticks\":\"\",\"zerolinecolor\":\"#EBF0F8\"},\"zaxis\":{\"backgroundcolor\":\"white\",\"gridcolor\":\"#DFE8F3\",\"gridwidth\":2,\"linecolor\":\"#EBF0F8\",\"showbackground\":true,\"ticks\":\"\",\"zerolinecolor\":\"#EBF0F8\"}},\"shapedefaults\":{\"line\":{\"color\":\"#2a3f5f\"}},\"ternary\":{\"aaxis\":{\"gridcolor\":\"#DFE8F3\",\"linecolor\":\"#A2B1C6\",\"ticks\":\"\"},\"baxis\":{\"gridcolor\":\"#DFE8F3\",\"linecolor\":\"#A2B1C6\",\"ticks\":\"\"},\"bgcolor\":\"white\",\"caxis\":{\"gridcolor\":\"#DFE8F3\",\"linecolor\":\"#A2B1C6\",\"ticks\":\"\"}},\"title\":{\"x\":0.05},\"xaxis\":{\"automargin\":true,\"gridcolor\":\"#EBF0F8\",\"linecolor\":\"#EBF0F8\",\"ticks\":\"\",\"title\":{\"standoff\":15},\"zerolinecolor\":\"#EBF0F8\",\"zerolinewidth\":2},\"yaxis\":{\"automargin\":true,\"gridcolor\":\"#EBF0F8\",\"linecolor\":\"#EBF0F8\",\"ticks\":\"\",\"title\":{\"standoff\":15},\"zerolinecolor\":\"#EBF0F8\",\"zerolinewidth\":2}}},\"xaxis\":{\"title\":{\"text\":\"X\"},\"showgrid\":true,\"zeroline\":true,\"zerolinewidth\":2,\"range\":[-1.5,1.5]},\"yaxis\":{\"title\":{\"text\":\"Y\"},\"showgrid\":true,\"zeroline\":true,\"zerolinewidth\":2,\"range\":[-1.5,1.5]},\"title\":{\"text\":\"📐 Unit Balls for Different Norms\"},\"width\":700,\"height\":600},                        {\"responsive\": true}                    ).then(function(){\n",
              "                            \n",
              "var gd = document.getElementById('83d589a0-c5d8-4224-a55e-d7da2001d355');\n",
              "var x = new MutationObserver(function (mutations, observer) {{\n",
              "        var display = window.getComputedStyle(gd).display;\n",
              "        if (!display || display === 'none') {{\n",
              "            console.log([gd, 'removed!']);\n",
              "            Plotly.purge(gd);\n",
              "            observer.disconnect();\n",
              "        }}\n",
              "}});\n",
              "\n",
              "// Listen for the removal of the full notebook cells\n",
              "var notebookContainer = gd.closest('#notebook-container');\n",
              "if (notebookContainer) {{\n",
              "    x.observe(notebookContainer, {childList: true});\n",
              "}}\n",
              "\n",
              "// Listen for the clearing of the current output cell\n",
              "var outputEl = gd.closest('.output');\n",
              "if (outputEl) {{\n",
              "    x.observe(outputEl, {childList: true});\n",
              "}}\n",
              "\n",
              "                        })                };                            </script>        </div>\n",
              "</body>\n",
              "</html>"
            ]
          },
          "metadata": {}
        },
        {
          "output_type": "stream",
          "name": "stdout",
          "text": [
            "\n",
            "💡 Interpretation:\n",
            "• L₁ norm: Sum of absolute values (Manhattan distance)\n",
            "• L₂ norm: Euclidean distance (usual 'length')\n",
            "• L∞ norm: Maximum absolute component\n"
          ]
        }
      ]
    },
    {
      "cell_type": "markdown",
      "source": [
        "# 5. 🎯 Dot Product (Inner Product)\n",
        "\n",
        "## Theory 📖\n",
        "\n",
        "The **dot product** is one of the most important operations in linear algebra and ML.\n",
        "\n",
        "### Definition:\n",
        "$$\\mathbf{u} \\cdot \\mathbf{v} = u_1v_1 + u_2v_2 + \\ldots + u_nv_n = \\|\\mathbf{u}\\|\\|\\mathbf{v}\\|\\cos(\\theta)$$\n",
        "\n",
        "where θ is the angle between vectors **u** and **v**.\n",
        "\n",
        "### Geometric Interpretation:\n",
        "- **Positive**: Vectors point in similar directions (acute angle)\n",
        "- **Zero**: Vectors are orthogonal (perpendicular)\n",
        "- **Negative**: Vectors point in opposite directions (obtuse angle)\n",
        "\n",
        "### ML Connection 🤖\n",
        "- **Similarity**: Cosine similarity for text/document similarity\n",
        "- **Neural networks**: Computing activations a = **w** · **x** + b\n",
        "- **Attention mechanisms**: Query-key similarity in transformers\n"
      ],
      "metadata": {
        "id": "u7s2IxT3c9-g"
      }
    },
    {
      "cell_type": "code",
      "source": [
        "def dot_product_analysis(u, v):\n",
        "    \"\"\"Analyze dot product between two vectors\"\"\"\n",
        "    dot_prod = np.dot(u, v)\n",
        "    norm_u = np.linalg.norm(u)\n",
        "    norm_v = np.linalg.norm(v)\n",
        "\n",
        "    # Calculate angle\n",
        "    cos_theta = dot_prod / (norm_u * norm_v)\n",
        "    cos_theta = np.clip(cos_theta, -1, 1)  # Handle numerical errors\n",
        "    angle_rad = np.arccos(cos_theta)\n",
        "    angle_deg = np.degrees(angle_rad)\n",
        "\n",
        "    return {\n",
        "        'dot_product': dot_prod,\n",
        "        'angle_degrees': angle_deg,\n",
        "        'angle_radians': angle_rad,\n",
        "        'cosine': cos_theta\n",
        "    }\n",
        "\n",
        "# Example vectors\n",
        "u1 = np.array([3, 4])\n",
        "v1 = np.array([1, 2])\n",
        "v2 = np.array([-1, 2])\n",
        "v3 = np.array([-3, -4])\n",
        "\n",
        "vectors_v = [v1, v2, v3]\n",
        "labels = ['Similar direction', 'Perpendicular-ish', 'Opposite direction']\n",
        "\n",
        "print(f\"Base vector u = {u1}\")\n",
        "print(\"\\nDot Product Analysis:\")\n",
        "print(\"-\" * 50)\n",
        "\n",
        "for v, label in zip(vectors_v, labels):\n",
        "    analysis = dot_product_analysis(u1, v)\n",
        "    print(f\"{label}:\")\n",
        "    print(f\"  v = {v}\")\n",
        "    print(f\"  u · v = {analysis['dot_product']:.2f}\")\n",
        "    print(f\"  Angle = {analysis['angle_degrees']:.1f}°\")\n",
        "    print(f\"  Cosine = {analysis['cosine']:.3f}\")\n",
        "    print()\n"
      ],
      "metadata": {
        "colab": {
          "base_uri": "https://localhost:8080/"
        },
        "id": "No2Wf_EZdDvi",
        "outputId": "0e4fd283-9020-47cb-8896-db0e4386b836"
      },
      "execution_count": 10,
      "outputs": [
        {
          "output_type": "stream",
          "name": "stdout",
          "text": [
            "Base vector u = [3 4]\n",
            "\n",
            "Dot Product Analysis:\n",
            "--------------------------------------------------\n",
            "Similar direction:\n",
            "  v = [1 2]\n",
            "  u · v = 11.00\n",
            "  Angle = 10.3°\n",
            "  Cosine = 0.984\n",
            "\n",
            "Perpendicular-ish:\n",
            "  v = [-1  2]\n",
            "  u · v = 5.00\n",
            "  Angle = 63.4°\n",
            "  Cosine = 0.447\n",
            "\n",
            "Opposite direction:\n",
            "  v = [-3 -4]\n",
            "  u · v = -25.00\n",
            "  Angle = 180.0°\n",
            "  Cosine = -1.000\n",
            "\n"
          ]
        }
      ]
    },
    {
      "cell_type": "markdown",
      "source": [
        "## Visualization 📊"
      ],
      "metadata": {
        "id": "RUEnpeDydH9O"
      }
    },
    {
      "cell_type": "code",
      "source": [
        "def visualize_dot_product(u, vectors_list, labels):\n",
        "    \"\"\"Visualize dot product geometric interpretation\"\"\"\n",
        "    fig = go.Figure()\n",
        "\n",
        "    colors = ['green', 'orange', 'red']\n",
        "\n",
        "    # Base vector u\n",
        "    fig.add_trace(go.Scatter(\n",
        "        x=[0, u[0]], y=[0, u[1]],\n",
        "        mode='lines+markers',\n",
        "        line=dict(color='blue', width=4),\n",
        "        marker=dict(size=[0, 12], symbol=['circle', 'triangle-up']),\n",
        "        name='Vector u (base)'\n",
        "    ))\n",
        "\n",
        "    # Other vectors\n",
        "    for i, (v, label, color) in enumerate(zip(vectors_list, labels, colors)):\n",
        "        fig.add_trace(go.Scatter(\n",
        "            x=[0, v[0]], y=[0, v[1]],\n",
        "            mode='lines+markers',\n",
        "            line=dict(color=color, width=3),\n",
        "            marker=dict(size=[0, 10], symbol=['circle', 'triangle-up']),\n",
        "            name=f'v{i+1}: {label}'\n",
        "        ))\n",
        "\n",
        "        # Add dot product value as annotation\n",
        "        analysis = dot_product_analysis(u, v)\n",
        "        fig.add_annotation(\n",
        "            x=v[0] * 1.2,\n",
        "            y=v[1] * 1.2,\n",
        "            text=f\"u·v = {analysis['dot_product']:.1f}<br>θ = {analysis['angle_degrees']:.0f}°\",\n",
        "            font=dict(color=color, size=10),\n",
        "            showarrow=True,\n",
        "            arrowcolor=color\n",
        "        )\n",
        "\n",
        "    fig.update_layout(\n",
        "        title=\"🎯 Dot Product: Geometric Interpretation\",\n",
        "        xaxis_title=\"X\",\n",
        "        yaxis_title=\"Y\",\n",
        "        xaxis=dict(showgrid=True, zeroline=True, zerolinewidth=2, range=[-5, 5]),\n",
        "        yaxis=dict(showgrid=True, zeroline=True, zerolinewidth=2, range=[-5, 5]),\n",
        "        template=\"plotly_white\",\n",
        "        width=700,\n",
        "        height=600\n",
        "    )\n",
        "\n",
        "    return fig\n",
        "\n",
        "# Visualize dot product interpretation\n",
        "fig = visualize_dot_product(u1, vectors_v, labels)\n",
        "fig.show()\n",
        "\n",
        "print(\"💡 Key Insights:\")\n",
        "print(\"• Positive dot product → Acute angle (< 90°)\")\n",
        "print(\"• Zero dot product → Right angle (= 90°, orthogonal)\")\n",
        "print(\"• Negative dot product → Obtuse angle (> 90°)\")\n"
      ],
      "metadata": {
        "colab": {
          "base_uri": "https://localhost:8080/",
          "height": 691
        },
        "id": "Ik3oojsLdJQZ",
        "outputId": "50c211d0-c839-41b6-b1b3-36ece94f3248"
      },
      "execution_count": 11,
      "outputs": [
        {
          "output_type": "display_data",
          "data": {
            "text/html": [
              "<html>\n",
              "<head><meta charset=\"utf-8\" /></head>\n",
              "<body>\n",
              "    <div>            <script src=\"https://cdnjs.cloudflare.com/ajax/libs/mathjax/2.7.5/MathJax.js?config=TeX-AMS-MML_SVG\"></script><script type=\"text/javascript\">if (window.MathJax && window.MathJax.Hub && window.MathJax.Hub.Config) {window.MathJax.Hub.Config({SVG: {font: \"STIX-Web\"}});}</script>                <script type=\"text/javascript\">window.PlotlyConfig = {MathJaxConfig: 'local'};</script>\n",
              "        <script charset=\"utf-8\" src=\"https://cdn.plot.ly/plotly-2.35.2.min.js\"></script>                <div id=\"57f7fb35-8bae-40ab-982c-75ec231c1336\" class=\"plotly-graph-div\" style=\"height:600px; width:700px;\"></div>            <script type=\"text/javascript\">                                    window.PLOTLYENV=window.PLOTLYENV || {};                                    if (document.getElementById(\"57f7fb35-8bae-40ab-982c-75ec231c1336\")) {                    Plotly.newPlot(                        \"57f7fb35-8bae-40ab-982c-75ec231c1336\",                        [{\"line\":{\"color\":\"blue\",\"width\":4},\"marker\":{\"size\":[0,12],\"symbol\":[\"circle\",\"triangle-up\"]},\"mode\":\"lines+markers\",\"name\":\"Vector u (base)\",\"x\":[0,3],\"y\":[0,4],\"type\":\"scatter\"},{\"line\":{\"color\":\"green\",\"width\":3},\"marker\":{\"size\":[0,10],\"symbol\":[\"circle\",\"triangle-up\"]},\"mode\":\"lines+markers\",\"name\":\"v1: Similar direction\",\"x\":[0,1],\"y\":[0,2],\"type\":\"scatter\"},{\"line\":{\"color\":\"orange\",\"width\":3},\"marker\":{\"size\":[0,10],\"symbol\":[\"circle\",\"triangle-up\"]},\"mode\":\"lines+markers\",\"name\":\"v2: Perpendicular-ish\",\"x\":[0,-1],\"y\":[0,2],\"type\":\"scatter\"},{\"line\":{\"color\":\"red\",\"width\":3},\"marker\":{\"size\":[0,10],\"symbol\":[\"circle\",\"triangle-up\"]},\"mode\":\"lines+markers\",\"name\":\"v3: Opposite direction\",\"x\":[0,-3],\"y\":[0,-4],\"type\":\"scatter\"}],                        {\"template\":{\"data\":{\"barpolar\":[{\"marker\":{\"line\":{\"color\":\"white\",\"width\":0.5},\"pattern\":{\"fillmode\":\"overlay\",\"size\":10,\"solidity\":0.2}},\"type\":\"barpolar\"}],\"bar\":[{\"error_x\":{\"color\":\"#2a3f5f\"},\"error_y\":{\"color\":\"#2a3f5f\"},\"marker\":{\"line\":{\"color\":\"white\",\"width\":0.5},\"pattern\":{\"fillmode\":\"overlay\",\"size\":10,\"solidity\":0.2}},\"type\":\"bar\"}],\"carpet\":[{\"aaxis\":{\"endlinecolor\":\"#2a3f5f\",\"gridcolor\":\"#C8D4E3\",\"linecolor\":\"#C8D4E3\",\"minorgridcolor\":\"#C8D4E3\",\"startlinecolor\":\"#2a3f5f\"},\"baxis\":{\"endlinecolor\":\"#2a3f5f\",\"gridcolor\":\"#C8D4E3\",\"linecolor\":\"#C8D4E3\",\"minorgridcolor\":\"#C8D4E3\",\"startlinecolor\":\"#2a3f5f\"},\"type\":\"carpet\"}],\"choropleth\":[{\"colorbar\":{\"outlinewidth\":0,\"ticks\":\"\"},\"type\":\"choropleth\"}],\"contourcarpet\":[{\"colorbar\":{\"outlinewidth\":0,\"ticks\":\"\"},\"type\":\"contourcarpet\"}],\"contour\":[{\"colorbar\":{\"outlinewidth\":0,\"ticks\":\"\"},\"colorscale\":[[0.0,\"#0d0887\"],[0.1111111111111111,\"#46039f\"],[0.2222222222222222,\"#7201a8\"],[0.3333333333333333,\"#9c179e\"],[0.4444444444444444,\"#bd3786\"],[0.5555555555555556,\"#d8576b\"],[0.6666666666666666,\"#ed7953\"],[0.7777777777777778,\"#fb9f3a\"],[0.8888888888888888,\"#fdca26\"],[1.0,\"#f0f921\"]],\"type\":\"contour\"}],\"heatmapgl\":[{\"colorbar\":{\"outlinewidth\":0,\"ticks\":\"\"},\"colorscale\":[[0.0,\"#0d0887\"],[0.1111111111111111,\"#46039f\"],[0.2222222222222222,\"#7201a8\"],[0.3333333333333333,\"#9c179e\"],[0.4444444444444444,\"#bd3786\"],[0.5555555555555556,\"#d8576b\"],[0.6666666666666666,\"#ed7953\"],[0.7777777777777778,\"#fb9f3a\"],[0.8888888888888888,\"#fdca26\"],[1.0,\"#f0f921\"]],\"type\":\"heatmapgl\"}],\"heatmap\":[{\"colorbar\":{\"outlinewidth\":0,\"ticks\":\"\"},\"colorscale\":[[0.0,\"#0d0887\"],[0.1111111111111111,\"#46039f\"],[0.2222222222222222,\"#7201a8\"],[0.3333333333333333,\"#9c179e\"],[0.4444444444444444,\"#bd3786\"],[0.5555555555555556,\"#d8576b\"],[0.6666666666666666,\"#ed7953\"],[0.7777777777777778,\"#fb9f3a\"],[0.8888888888888888,\"#fdca26\"],[1.0,\"#f0f921\"]],\"type\":\"heatmap\"}],\"histogram2dcontour\":[{\"colorbar\":{\"outlinewidth\":0,\"ticks\":\"\"},\"colorscale\":[[0.0,\"#0d0887\"],[0.1111111111111111,\"#46039f\"],[0.2222222222222222,\"#7201a8\"],[0.3333333333333333,\"#9c179e\"],[0.4444444444444444,\"#bd3786\"],[0.5555555555555556,\"#d8576b\"],[0.6666666666666666,\"#ed7953\"],[0.7777777777777778,\"#fb9f3a\"],[0.8888888888888888,\"#fdca26\"],[1.0,\"#f0f921\"]],\"type\":\"histogram2dcontour\"}],\"histogram2d\":[{\"colorbar\":{\"outlinewidth\":0,\"ticks\":\"\"},\"colorscale\":[[0.0,\"#0d0887\"],[0.1111111111111111,\"#46039f\"],[0.2222222222222222,\"#7201a8\"],[0.3333333333333333,\"#9c179e\"],[0.4444444444444444,\"#bd3786\"],[0.5555555555555556,\"#d8576b\"],[0.6666666666666666,\"#ed7953\"],[0.7777777777777778,\"#fb9f3a\"],[0.8888888888888888,\"#fdca26\"],[1.0,\"#f0f921\"]],\"type\":\"histogram2d\"}],\"histogram\":[{\"marker\":{\"pattern\":{\"fillmode\":\"overlay\",\"size\":10,\"solidity\":0.2}},\"type\":\"histogram\"}],\"mesh3d\":[{\"colorbar\":{\"outlinewidth\":0,\"ticks\":\"\"},\"type\":\"mesh3d\"}],\"parcoords\":[{\"line\":{\"colorbar\":{\"outlinewidth\":0,\"ticks\":\"\"}},\"type\":\"parcoords\"}],\"pie\":[{\"automargin\":true,\"type\":\"pie\"}],\"scatter3d\":[{\"line\":{\"colorbar\":{\"outlinewidth\":0,\"ticks\":\"\"}},\"marker\":{\"colorbar\":{\"outlinewidth\":0,\"ticks\":\"\"}},\"type\":\"scatter3d\"}],\"scattercarpet\":[{\"marker\":{\"colorbar\":{\"outlinewidth\":0,\"ticks\":\"\"}},\"type\":\"scattercarpet\"}],\"scattergeo\":[{\"marker\":{\"colorbar\":{\"outlinewidth\":0,\"ticks\":\"\"}},\"type\":\"scattergeo\"}],\"scattergl\":[{\"marker\":{\"colorbar\":{\"outlinewidth\":0,\"ticks\":\"\"}},\"type\":\"scattergl\"}],\"scattermapbox\":[{\"marker\":{\"colorbar\":{\"outlinewidth\":0,\"ticks\":\"\"}},\"type\":\"scattermapbox\"}],\"scatterpolargl\":[{\"marker\":{\"colorbar\":{\"outlinewidth\":0,\"ticks\":\"\"}},\"type\":\"scatterpolargl\"}],\"scatterpolar\":[{\"marker\":{\"colorbar\":{\"outlinewidth\":0,\"ticks\":\"\"}},\"type\":\"scatterpolar\"}],\"scatter\":[{\"fillpattern\":{\"fillmode\":\"overlay\",\"size\":10,\"solidity\":0.2},\"type\":\"scatter\"}],\"scatterternary\":[{\"marker\":{\"colorbar\":{\"outlinewidth\":0,\"ticks\":\"\"}},\"type\":\"scatterternary\"}],\"surface\":[{\"colorbar\":{\"outlinewidth\":0,\"ticks\":\"\"},\"colorscale\":[[0.0,\"#0d0887\"],[0.1111111111111111,\"#46039f\"],[0.2222222222222222,\"#7201a8\"],[0.3333333333333333,\"#9c179e\"],[0.4444444444444444,\"#bd3786\"],[0.5555555555555556,\"#d8576b\"],[0.6666666666666666,\"#ed7953\"],[0.7777777777777778,\"#fb9f3a\"],[0.8888888888888888,\"#fdca26\"],[1.0,\"#f0f921\"]],\"type\":\"surface\"}],\"table\":[{\"cells\":{\"fill\":{\"color\":\"#EBF0F8\"},\"line\":{\"color\":\"white\"}},\"header\":{\"fill\":{\"color\":\"#C8D4E3\"},\"line\":{\"color\":\"white\"}},\"type\":\"table\"}]},\"layout\":{\"annotationdefaults\":{\"arrowcolor\":\"#2a3f5f\",\"arrowhead\":0,\"arrowwidth\":1},\"autotypenumbers\":\"strict\",\"coloraxis\":{\"colorbar\":{\"outlinewidth\":0,\"ticks\":\"\"}},\"colorscale\":{\"diverging\":[[0,\"#8e0152\"],[0.1,\"#c51b7d\"],[0.2,\"#de77ae\"],[0.3,\"#f1b6da\"],[0.4,\"#fde0ef\"],[0.5,\"#f7f7f7\"],[0.6,\"#e6f5d0\"],[0.7,\"#b8e186\"],[0.8,\"#7fbc41\"],[0.9,\"#4d9221\"],[1,\"#276419\"]],\"sequential\":[[0.0,\"#0d0887\"],[0.1111111111111111,\"#46039f\"],[0.2222222222222222,\"#7201a8\"],[0.3333333333333333,\"#9c179e\"],[0.4444444444444444,\"#bd3786\"],[0.5555555555555556,\"#d8576b\"],[0.6666666666666666,\"#ed7953\"],[0.7777777777777778,\"#fb9f3a\"],[0.8888888888888888,\"#fdca26\"],[1.0,\"#f0f921\"]],\"sequentialminus\":[[0.0,\"#0d0887\"],[0.1111111111111111,\"#46039f\"],[0.2222222222222222,\"#7201a8\"],[0.3333333333333333,\"#9c179e\"],[0.4444444444444444,\"#bd3786\"],[0.5555555555555556,\"#d8576b\"],[0.6666666666666666,\"#ed7953\"],[0.7777777777777778,\"#fb9f3a\"],[0.8888888888888888,\"#fdca26\"],[1.0,\"#f0f921\"]]},\"colorway\":[\"#636efa\",\"#EF553B\",\"#00cc96\",\"#ab63fa\",\"#FFA15A\",\"#19d3f3\",\"#FF6692\",\"#B6E880\",\"#FF97FF\",\"#FECB52\"],\"font\":{\"color\":\"#2a3f5f\"},\"geo\":{\"bgcolor\":\"white\",\"lakecolor\":\"white\",\"landcolor\":\"white\",\"showlakes\":true,\"showland\":true,\"subunitcolor\":\"#C8D4E3\"},\"hoverlabel\":{\"align\":\"left\"},\"hovermode\":\"closest\",\"mapbox\":{\"style\":\"light\"},\"paper_bgcolor\":\"white\",\"plot_bgcolor\":\"white\",\"polar\":{\"angularaxis\":{\"gridcolor\":\"#EBF0F8\",\"linecolor\":\"#EBF0F8\",\"ticks\":\"\"},\"bgcolor\":\"white\",\"radialaxis\":{\"gridcolor\":\"#EBF0F8\",\"linecolor\":\"#EBF0F8\",\"ticks\":\"\"}},\"scene\":{\"xaxis\":{\"backgroundcolor\":\"white\",\"gridcolor\":\"#DFE8F3\",\"gridwidth\":2,\"linecolor\":\"#EBF0F8\",\"showbackground\":true,\"ticks\":\"\",\"zerolinecolor\":\"#EBF0F8\"},\"yaxis\":{\"backgroundcolor\":\"white\",\"gridcolor\":\"#DFE8F3\",\"gridwidth\":2,\"linecolor\":\"#EBF0F8\",\"showbackground\":true,\"ticks\":\"\",\"zerolinecolor\":\"#EBF0F8\"},\"zaxis\":{\"backgroundcolor\":\"white\",\"gridcolor\":\"#DFE8F3\",\"gridwidth\":2,\"linecolor\":\"#EBF0F8\",\"showbackground\":true,\"ticks\":\"\",\"zerolinecolor\":\"#EBF0F8\"}},\"shapedefaults\":{\"line\":{\"color\":\"#2a3f5f\"}},\"ternary\":{\"aaxis\":{\"gridcolor\":\"#DFE8F3\",\"linecolor\":\"#A2B1C6\",\"ticks\":\"\"},\"baxis\":{\"gridcolor\":\"#DFE8F3\",\"linecolor\":\"#A2B1C6\",\"ticks\":\"\"},\"bgcolor\":\"white\",\"caxis\":{\"gridcolor\":\"#DFE8F3\",\"linecolor\":\"#A2B1C6\",\"ticks\":\"\"}},\"title\":{\"x\":0.05},\"xaxis\":{\"automargin\":true,\"gridcolor\":\"#EBF0F8\",\"linecolor\":\"#EBF0F8\",\"ticks\":\"\",\"title\":{\"standoff\":15},\"zerolinecolor\":\"#EBF0F8\",\"zerolinewidth\":2},\"yaxis\":{\"automargin\":true,\"gridcolor\":\"#EBF0F8\",\"linecolor\":\"#EBF0F8\",\"ticks\":\"\",\"title\":{\"standoff\":15},\"zerolinecolor\":\"#EBF0F8\",\"zerolinewidth\":2}}},\"annotations\":[{\"arrowcolor\":\"green\",\"font\":{\"color\":\"green\",\"size\":10},\"showarrow\":true,\"text\":\"u·v = 11.0\\u003cbr\\u003eθ = 10°\",\"x\":1.2,\"y\":2.4},{\"arrowcolor\":\"orange\",\"font\":{\"color\":\"orange\",\"size\":10},\"showarrow\":true,\"text\":\"u·v = 5.0\\u003cbr\\u003eθ = 63°\",\"x\":-1.2,\"y\":2.4},{\"arrowcolor\":\"red\",\"font\":{\"color\":\"red\",\"size\":10},\"showarrow\":true,\"text\":\"u·v = -25.0\\u003cbr\\u003eθ = 180°\",\"x\":-3.5999999999999996,\"y\":-4.8}],\"xaxis\":{\"title\":{\"text\":\"X\"},\"showgrid\":true,\"zeroline\":true,\"zerolinewidth\":2,\"range\":[-5,5]},\"yaxis\":{\"title\":{\"text\":\"Y\"},\"showgrid\":true,\"zeroline\":true,\"zerolinewidth\":2,\"range\":[-5,5]},\"title\":{\"text\":\"🎯 Dot Product: Geometric Interpretation\"},\"width\":700,\"height\":600},                        {\"responsive\": true}                    ).then(function(){\n",
              "                            \n",
              "var gd = document.getElementById('57f7fb35-8bae-40ab-982c-75ec231c1336');\n",
              "var x = new MutationObserver(function (mutations, observer) {{\n",
              "        var display = window.getComputedStyle(gd).display;\n",
              "        if (!display || display === 'none') {{\n",
              "            console.log([gd, 'removed!']);\n",
              "            Plotly.purge(gd);\n",
              "            observer.disconnect();\n",
              "        }}\n",
              "}});\n",
              "\n",
              "// Listen for the removal of the full notebook cells\n",
              "var notebookContainer = gd.closest('#notebook-container');\n",
              "if (notebookContainer) {{\n",
              "    x.observe(notebookContainer, {childList: true});\n",
              "}}\n",
              "\n",
              "// Listen for the clearing of the current output cell\n",
              "var outputEl = gd.closest('.output');\n",
              "if (outputEl) {{\n",
              "    x.observe(outputEl, {childList: true});\n",
              "}}\n",
              "\n",
              "                        })                };                            </script>        </div>\n",
              "</body>\n",
              "</html>"
            ]
          },
          "metadata": {}
        },
        {
          "output_type": "stream",
          "name": "stdout",
          "text": [
            "💡 Key Insights:\n",
            "• Positive dot product → Acute angle (< 90°)\n",
            "• Zero dot product → Right angle (= 90°, orthogonal)\n",
            "• Negative dot product → Obtuse angle (> 90°)\n"
          ]
        }
      ]
    },
    {
      "cell_type": "markdown",
      "source": [
        "# 6. 📐 Basis Vectors and Coordinate Systems\n",
        "\n",
        "## Theory 📖\n",
        "\n",
        "A **basis** is a set of vectors that can be used to represent any vector in the space through linear combinations.\n",
        "\n",
        "### Standard Basis in 2D:\n",
        "$$\\mathbf{e_1} = \\begin{bmatrix} 1 \\\\ 0 \\end{bmatrix}, \\quad \\mathbf{e_2} = \\begin{bmatrix} 0 \\\\ 1 \\end{bmatrix}$$\n",
        "\n",
        "Any vector can be written as: $\\mathbf{v} = v_1\\mathbf{e_1} + v_2\\mathbf{e_2}$\n",
        "\n",
        "### Properties of a Basis:\n",
        "1. **Linear Independence**: No vector can be written as a combination of others\n",
        "2. **Spanning**: Any vector in the space can be represented\n",
        "\n",
        "### ML Connection 🤖\n",
        "- **Feature spaces**: Each feature represents a dimension/basis vector\n",
        "- **PCA**: Finding new basis vectors that capture maximum variance\n",
        "- **Word embeddings**: Each dimension in embedding space acts like a basis vector\n"
      ],
      "metadata": {
        "id": "iS1gOG5XdQFg"
      }
    },
    {
      "cell_type": "code",
      "source": [
        "# Standard basis vectors\n",
        "e1 = np.array([1, 0])\n",
        "e2 = np.array([0, 1])\n",
        "\n",
        "# Example vector decomposition\n",
        "v = np.array([3, 2])\n",
        "\n",
        "print(\"Standard Basis Decomposition:\")\n",
        "print(f\"e₁ = {e1} (x-axis unit vector)\")\n",
        "print(f\"e₂ = {e2} (y-axis unit vector)\")\n",
        "print(f\"\\nVector v = {v}\")\n",
        "print(f\"v = {v[0]}e₁ + {v[1]}e₂\")\n",
        "print(f\"v = {v[0]}{e1} + {v[1]}{e2}\")\n",
        "print(f\"v = {v[0] * e1 + v[1] * e2}\")\n",
        "\n",
        "# Non-standard basis example\n",
        "b1 = np.array([2, 1])\n",
        "b2 = np.array([1, 2])\n",
        "\n",
        "print(f\"\\n--- Non-Standard Basis ---\")\n",
        "print(f\"b₁ = {b1}\")\n",
        "print(f\"b₂ = {b2}\")\n"
      ],
      "metadata": {
        "colab": {
          "base_uri": "https://localhost:8080/"
        },
        "id": "8tehT8JJdSVQ",
        "outputId": "b8d951a1-5e6e-439b-d75d-d876eb7029bc"
      },
      "execution_count": 12,
      "outputs": [
        {
          "output_type": "stream",
          "name": "stdout",
          "text": [
            "Standard Basis Decomposition:\n",
            "e₁ = [1 0] (x-axis unit vector)\n",
            "e₂ = [0 1] (y-axis unit vector)\n",
            "\n",
            "Vector v = [3 2]\n",
            "v = 3e₁ + 2e₂\n",
            "v = 3[1 0] + 2[0 1]\n",
            "v = [3 2]\n",
            "\n",
            "--- Non-Standard Basis ---\n",
            "b₁ = [2 1]\n",
            "b₂ = [1 2]\n"
          ]
        }
      ]
    },
    {
      "cell_type": "markdown",
      "source": [
        "## Visualization 📊"
      ],
      "metadata": {
        "id": "Hb_ya-XqdWRP"
      }
    },
    {
      "cell_type": "code",
      "source": [
        "def visualize_basis_vectors():\n",
        "    \"\"\"Visualize standard and non-standard basis\"\"\"\n",
        "    fig = make_subplots(\n",
        "        rows=1, cols=2,\n",
        "        subplot_titles=(\"Standard Basis\", \"Non-Standard Basis\"),\n",
        "        horizontal_spacing=0.15\n",
        "    )\n",
        "\n",
        "    # Standard basis\n",
        "    fig.add_trace(go.Scatter(\n",
        "        x=[0, 1], y=[0, 0],\n",
        "        mode='lines+markers',\n",
        "        line=dict(color='red', width=3),\n",
        "        marker=dict(size=[0, 10], symbol=['circle', 'triangle-up']),\n",
        "        name='e₁',\n",
        "        showlegend=True\n",
        "    ), row=1, col=1)\n",
        "\n",
        "    fig.add_trace(go.Scatter(\n",
        "        x=[0, 0], y=[0, 1],\n",
        "        mode='lines+markers',\n",
        "        line=dict(color='blue', width=3),\n",
        "        marker=dict(size=[0, 10], symbol=['circle', 'triangle-up']),\n",
        "        name='e₂',\n",
        "        showlegend=True\n",
        "    ), row=1, col=1)\n",
        "\n",
        "    # Example vector in standard basis\n",
        "    fig.add_trace(go.Scatter(\n",
        "        x=[0, v[0]], y=[0, v[1]],\n",
        "        mode='lines+markers',\n",
        "        line=dict(color='purple', width=3),\n",
        "        marker=dict(size=[0, 12], symbol=['circle', 'triangle-up']),\n",
        "        name='v = 3e₁ + 2e₂',\n",
        "        showlegend=True\n",
        "    ), row=1, col=1)\n",
        "\n",
        "    # Non-standard basis\n",
        "    fig.add_trace(go.Scatter(\n",
        "        x=[0, b1[0]], y=[0, b1[1]],\n",
        "        mode='lines+markers',\n",
        "        line=dict(color='green', width=3),\n",
        "        marker=dict(size=[0, 10], symbol=['circle', 'triangle-up']),\n",
        "        name='b₁',\n",
        "        showlegend=True\n",
        "    ), row=1, col=2)\n",
        "\n",
        "    fig.add_trace(go.Scatter(\n",
        "        x=[0, b2[0]], y=[0, b2[1]],\n",
        "        mode='lines+markers',\n",
        "        line=dict(color='orange', width=3),\n",
        "        marker=dict(size=[0, 10], symbol=['circle', 'triangle-up']),\n",
        "        name='b₂',\n",
        "        showlegend=True\n",
        "    ), row=1, col=2)\n",
        "\n",
        "    # Same vector in new basis\n",
        "    fig.add_trace(go.Scatter(\n",
        "        x=[0, v[0]], y=[0, v[1]],\n",
        "        mode='lines+markers',\n",
        "        line=dict(color='purple', width=3),\n",
        "        marker=dict(size=[0, 12], symbol=['circle', 'triangle-up']),\n",
        "        name='Same vector v',\n",
        "        showlegend=False\n",
        "    ), row=1, col=2)\n",
        "\n",
        "    # Grid for both subplots\n",
        "    for col in [1, 2]:\n",
        "        fig.update_xaxes(showgrid=True, zeroline=True, zerolinewidth=2,\n",
        "                        range=[-1, 4], row=1, col=col)\n",
        "        fig.update_yaxes(showgrid=True, zeroline=True, zerolinewidth=2,\n",
        "                        range=[-1, 3], row=1, col=col)\n",
        "\n",
        "    fig.update_layout(\n",
        "        title=\"📐 Basis Vectors: Different Coordinate Systems\",\n",
        "        template=\"plotly_white\",\n",
        "        width=800,\n",
        "        height=400\n",
        "    )\n",
        "\n",
        "    return fig\n",
        "\n",
        "fig = visualize_basis_vectors()\n",
        "fig.show()\n",
        "\n",
        "print(\"💡 Key Concepts:\")\n",
        "print(\"• Standard basis uses perpendicular unit vectors\")\n",
        "print(\"• Non-standard basis can use any linearly independent vectors\")\n",
        "print(\"• The same vector has different coordinates in different bases\")\n",
        "print(\"• Basis choice affects how we interpret and compute with vectors\")\n"
      ],
      "metadata": {
        "colab": {
          "base_uri": "https://localhost:8080/",
          "height": 529
        },
        "id": "TsiXwyLrdXq6",
        "outputId": "2b557933-0ff7-40a5-8f22-7f62fcf84c3a"
      },
      "execution_count": 13,
      "outputs": [
        {
          "output_type": "display_data",
          "data": {
            "text/html": [
              "<html>\n",
              "<head><meta charset=\"utf-8\" /></head>\n",
              "<body>\n",
              "    <div>            <script src=\"https://cdnjs.cloudflare.com/ajax/libs/mathjax/2.7.5/MathJax.js?config=TeX-AMS-MML_SVG\"></script><script type=\"text/javascript\">if (window.MathJax && window.MathJax.Hub && window.MathJax.Hub.Config) {window.MathJax.Hub.Config({SVG: {font: \"STIX-Web\"}});}</script>                <script type=\"text/javascript\">window.PlotlyConfig = {MathJaxConfig: 'local'};</script>\n",
              "        <script charset=\"utf-8\" src=\"https://cdn.plot.ly/plotly-2.35.2.min.js\"></script>                <div id=\"28dde43c-6423-4b54-ab56-cbb6733de562\" class=\"plotly-graph-div\" style=\"height:400px; width:800px;\"></div>            <script type=\"text/javascript\">                                    window.PLOTLYENV=window.PLOTLYENV || {};                                    if (document.getElementById(\"28dde43c-6423-4b54-ab56-cbb6733de562\")) {                    Plotly.newPlot(                        \"28dde43c-6423-4b54-ab56-cbb6733de562\",                        [{\"line\":{\"color\":\"red\",\"width\":3},\"marker\":{\"size\":[0,10],\"symbol\":[\"circle\",\"triangle-up\"]},\"mode\":\"lines+markers\",\"name\":\"e₁\",\"showlegend\":true,\"x\":[0,1],\"y\":[0,0],\"type\":\"scatter\",\"xaxis\":\"x\",\"yaxis\":\"y\"},{\"line\":{\"color\":\"blue\",\"width\":3},\"marker\":{\"size\":[0,10],\"symbol\":[\"circle\",\"triangle-up\"]},\"mode\":\"lines+markers\",\"name\":\"e₂\",\"showlegend\":true,\"x\":[0,0],\"y\":[0,1],\"type\":\"scatter\",\"xaxis\":\"x\",\"yaxis\":\"y\"},{\"line\":{\"color\":\"purple\",\"width\":3},\"marker\":{\"size\":[0,12],\"symbol\":[\"circle\",\"triangle-up\"]},\"mode\":\"lines+markers\",\"name\":\"v = 3e₁ + 2e₂\",\"showlegend\":true,\"x\":[0,3],\"y\":[0,2],\"type\":\"scatter\",\"xaxis\":\"x\",\"yaxis\":\"y\"},{\"line\":{\"color\":\"green\",\"width\":3},\"marker\":{\"size\":[0,10],\"symbol\":[\"circle\",\"triangle-up\"]},\"mode\":\"lines+markers\",\"name\":\"b₁\",\"showlegend\":true,\"x\":[0,2],\"y\":[0,1],\"type\":\"scatter\",\"xaxis\":\"x2\",\"yaxis\":\"y2\"},{\"line\":{\"color\":\"orange\",\"width\":3},\"marker\":{\"size\":[0,10],\"symbol\":[\"circle\",\"triangle-up\"]},\"mode\":\"lines+markers\",\"name\":\"b₂\",\"showlegend\":true,\"x\":[0,1],\"y\":[0,2],\"type\":\"scatter\",\"xaxis\":\"x2\",\"yaxis\":\"y2\"},{\"line\":{\"color\":\"purple\",\"width\":3},\"marker\":{\"size\":[0,12],\"symbol\":[\"circle\",\"triangle-up\"]},\"mode\":\"lines+markers\",\"name\":\"Same vector v\",\"showlegend\":false,\"x\":[0,3],\"y\":[0,2],\"type\":\"scatter\",\"xaxis\":\"x2\",\"yaxis\":\"y2\"}],                        {\"template\":{\"data\":{\"barpolar\":[{\"marker\":{\"line\":{\"color\":\"white\",\"width\":0.5},\"pattern\":{\"fillmode\":\"overlay\",\"size\":10,\"solidity\":0.2}},\"type\":\"barpolar\"}],\"bar\":[{\"error_x\":{\"color\":\"#2a3f5f\"},\"error_y\":{\"color\":\"#2a3f5f\"},\"marker\":{\"line\":{\"color\":\"white\",\"width\":0.5},\"pattern\":{\"fillmode\":\"overlay\",\"size\":10,\"solidity\":0.2}},\"type\":\"bar\"}],\"carpet\":[{\"aaxis\":{\"endlinecolor\":\"#2a3f5f\",\"gridcolor\":\"#C8D4E3\",\"linecolor\":\"#C8D4E3\",\"minorgridcolor\":\"#C8D4E3\",\"startlinecolor\":\"#2a3f5f\"},\"baxis\":{\"endlinecolor\":\"#2a3f5f\",\"gridcolor\":\"#C8D4E3\",\"linecolor\":\"#C8D4E3\",\"minorgridcolor\":\"#C8D4E3\",\"startlinecolor\":\"#2a3f5f\"},\"type\":\"carpet\"}],\"choropleth\":[{\"colorbar\":{\"outlinewidth\":0,\"ticks\":\"\"},\"type\":\"choropleth\"}],\"contourcarpet\":[{\"colorbar\":{\"outlinewidth\":0,\"ticks\":\"\"},\"type\":\"contourcarpet\"}],\"contour\":[{\"colorbar\":{\"outlinewidth\":0,\"ticks\":\"\"},\"colorscale\":[[0.0,\"#0d0887\"],[0.1111111111111111,\"#46039f\"],[0.2222222222222222,\"#7201a8\"],[0.3333333333333333,\"#9c179e\"],[0.4444444444444444,\"#bd3786\"],[0.5555555555555556,\"#d8576b\"],[0.6666666666666666,\"#ed7953\"],[0.7777777777777778,\"#fb9f3a\"],[0.8888888888888888,\"#fdca26\"],[1.0,\"#f0f921\"]],\"type\":\"contour\"}],\"heatmapgl\":[{\"colorbar\":{\"outlinewidth\":0,\"ticks\":\"\"},\"colorscale\":[[0.0,\"#0d0887\"],[0.1111111111111111,\"#46039f\"],[0.2222222222222222,\"#7201a8\"],[0.3333333333333333,\"#9c179e\"],[0.4444444444444444,\"#bd3786\"],[0.5555555555555556,\"#d8576b\"],[0.6666666666666666,\"#ed7953\"],[0.7777777777777778,\"#fb9f3a\"],[0.8888888888888888,\"#fdca26\"],[1.0,\"#f0f921\"]],\"type\":\"heatmapgl\"}],\"heatmap\":[{\"colorbar\":{\"outlinewidth\":0,\"ticks\":\"\"},\"colorscale\":[[0.0,\"#0d0887\"],[0.1111111111111111,\"#46039f\"],[0.2222222222222222,\"#7201a8\"],[0.3333333333333333,\"#9c179e\"],[0.4444444444444444,\"#bd3786\"],[0.5555555555555556,\"#d8576b\"],[0.6666666666666666,\"#ed7953\"],[0.7777777777777778,\"#fb9f3a\"],[0.8888888888888888,\"#fdca26\"],[1.0,\"#f0f921\"]],\"type\":\"heatmap\"}],\"histogram2dcontour\":[{\"colorbar\":{\"outlinewidth\":0,\"ticks\":\"\"},\"colorscale\":[[0.0,\"#0d0887\"],[0.1111111111111111,\"#46039f\"],[0.2222222222222222,\"#7201a8\"],[0.3333333333333333,\"#9c179e\"],[0.4444444444444444,\"#bd3786\"],[0.5555555555555556,\"#d8576b\"],[0.6666666666666666,\"#ed7953\"],[0.7777777777777778,\"#fb9f3a\"],[0.8888888888888888,\"#fdca26\"],[1.0,\"#f0f921\"]],\"type\":\"histogram2dcontour\"}],\"histogram2d\":[{\"colorbar\":{\"outlinewidth\":0,\"ticks\":\"\"},\"colorscale\":[[0.0,\"#0d0887\"],[0.1111111111111111,\"#46039f\"],[0.2222222222222222,\"#7201a8\"],[0.3333333333333333,\"#9c179e\"],[0.4444444444444444,\"#bd3786\"],[0.5555555555555556,\"#d8576b\"],[0.6666666666666666,\"#ed7953\"],[0.7777777777777778,\"#fb9f3a\"],[0.8888888888888888,\"#fdca26\"],[1.0,\"#f0f921\"]],\"type\":\"histogram2d\"}],\"histogram\":[{\"marker\":{\"pattern\":{\"fillmode\":\"overlay\",\"size\":10,\"solidity\":0.2}},\"type\":\"histogram\"}],\"mesh3d\":[{\"colorbar\":{\"outlinewidth\":0,\"ticks\":\"\"},\"type\":\"mesh3d\"}],\"parcoords\":[{\"line\":{\"colorbar\":{\"outlinewidth\":0,\"ticks\":\"\"}},\"type\":\"parcoords\"}],\"pie\":[{\"automargin\":true,\"type\":\"pie\"}],\"scatter3d\":[{\"line\":{\"colorbar\":{\"outlinewidth\":0,\"ticks\":\"\"}},\"marker\":{\"colorbar\":{\"outlinewidth\":0,\"ticks\":\"\"}},\"type\":\"scatter3d\"}],\"scattercarpet\":[{\"marker\":{\"colorbar\":{\"outlinewidth\":0,\"ticks\":\"\"}},\"type\":\"scattercarpet\"}],\"scattergeo\":[{\"marker\":{\"colorbar\":{\"outlinewidth\":0,\"ticks\":\"\"}},\"type\":\"scattergeo\"}],\"scattergl\":[{\"marker\":{\"colorbar\":{\"outlinewidth\":0,\"ticks\":\"\"}},\"type\":\"scattergl\"}],\"scattermapbox\":[{\"marker\":{\"colorbar\":{\"outlinewidth\":0,\"ticks\":\"\"}},\"type\":\"scattermapbox\"}],\"scatterpolargl\":[{\"marker\":{\"colorbar\":{\"outlinewidth\":0,\"ticks\":\"\"}},\"type\":\"scatterpolargl\"}],\"scatterpolar\":[{\"marker\":{\"colorbar\":{\"outlinewidth\":0,\"ticks\":\"\"}},\"type\":\"scatterpolar\"}],\"scatter\":[{\"fillpattern\":{\"fillmode\":\"overlay\",\"size\":10,\"solidity\":0.2},\"type\":\"scatter\"}],\"scatterternary\":[{\"marker\":{\"colorbar\":{\"outlinewidth\":0,\"ticks\":\"\"}},\"type\":\"scatterternary\"}],\"surface\":[{\"colorbar\":{\"outlinewidth\":0,\"ticks\":\"\"},\"colorscale\":[[0.0,\"#0d0887\"],[0.1111111111111111,\"#46039f\"],[0.2222222222222222,\"#7201a8\"],[0.3333333333333333,\"#9c179e\"],[0.4444444444444444,\"#bd3786\"],[0.5555555555555556,\"#d8576b\"],[0.6666666666666666,\"#ed7953\"],[0.7777777777777778,\"#fb9f3a\"],[0.8888888888888888,\"#fdca26\"],[1.0,\"#f0f921\"]],\"type\":\"surface\"}],\"table\":[{\"cells\":{\"fill\":{\"color\":\"#EBF0F8\"},\"line\":{\"color\":\"white\"}},\"header\":{\"fill\":{\"color\":\"#C8D4E3\"},\"line\":{\"color\":\"white\"}},\"type\":\"table\"}]},\"layout\":{\"annotationdefaults\":{\"arrowcolor\":\"#2a3f5f\",\"arrowhead\":0,\"arrowwidth\":1},\"autotypenumbers\":\"strict\",\"coloraxis\":{\"colorbar\":{\"outlinewidth\":0,\"ticks\":\"\"}},\"colorscale\":{\"diverging\":[[0,\"#8e0152\"],[0.1,\"#c51b7d\"],[0.2,\"#de77ae\"],[0.3,\"#f1b6da\"],[0.4,\"#fde0ef\"],[0.5,\"#f7f7f7\"],[0.6,\"#e6f5d0\"],[0.7,\"#b8e186\"],[0.8,\"#7fbc41\"],[0.9,\"#4d9221\"],[1,\"#276419\"]],\"sequential\":[[0.0,\"#0d0887\"],[0.1111111111111111,\"#46039f\"],[0.2222222222222222,\"#7201a8\"],[0.3333333333333333,\"#9c179e\"],[0.4444444444444444,\"#bd3786\"],[0.5555555555555556,\"#d8576b\"],[0.6666666666666666,\"#ed7953\"],[0.7777777777777778,\"#fb9f3a\"],[0.8888888888888888,\"#fdca26\"],[1.0,\"#f0f921\"]],\"sequentialminus\":[[0.0,\"#0d0887\"],[0.1111111111111111,\"#46039f\"],[0.2222222222222222,\"#7201a8\"],[0.3333333333333333,\"#9c179e\"],[0.4444444444444444,\"#bd3786\"],[0.5555555555555556,\"#d8576b\"],[0.6666666666666666,\"#ed7953\"],[0.7777777777777778,\"#fb9f3a\"],[0.8888888888888888,\"#fdca26\"],[1.0,\"#f0f921\"]]},\"colorway\":[\"#636efa\",\"#EF553B\",\"#00cc96\",\"#ab63fa\",\"#FFA15A\",\"#19d3f3\",\"#FF6692\",\"#B6E880\",\"#FF97FF\",\"#FECB52\"],\"font\":{\"color\":\"#2a3f5f\"},\"geo\":{\"bgcolor\":\"white\",\"lakecolor\":\"white\",\"landcolor\":\"white\",\"showlakes\":true,\"showland\":true,\"subunitcolor\":\"#C8D4E3\"},\"hoverlabel\":{\"align\":\"left\"},\"hovermode\":\"closest\",\"mapbox\":{\"style\":\"light\"},\"paper_bgcolor\":\"white\",\"plot_bgcolor\":\"white\",\"polar\":{\"angularaxis\":{\"gridcolor\":\"#EBF0F8\",\"linecolor\":\"#EBF0F8\",\"ticks\":\"\"},\"bgcolor\":\"white\",\"radialaxis\":{\"gridcolor\":\"#EBF0F8\",\"linecolor\":\"#EBF0F8\",\"ticks\":\"\"}},\"scene\":{\"xaxis\":{\"backgroundcolor\":\"white\",\"gridcolor\":\"#DFE8F3\",\"gridwidth\":2,\"linecolor\":\"#EBF0F8\",\"showbackground\":true,\"ticks\":\"\",\"zerolinecolor\":\"#EBF0F8\"},\"yaxis\":{\"backgroundcolor\":\"white\",\"gridcolor\":\"#DFE8F3\",\"gridwidth\":2,\"linecolor\":\"#EBF0F8\",\"showbackground\":true,\"ticks\":\"\",\"zerolinecolor\":\"#EBF0F8\"},\"zaxis\":{\"backgroundcolor\":\"white\",\"gridcolor\":\"#DFE8F3\",\"gridwidth\":2,\"linecolor\":\"#EBF0F8\",\"showbackground\":true,\"ticks\":\"\",\"zerolinecolor\":\"#EBF0F8\"}},\"shapedefaults\":{\"line\":{\"color\":\"#2a3f5f\"}},\"ternary\":{\"aaxis\":{\"gridcolor\":\"#DFE8F3\",\"linecolor\":\"#A2B1C6\",\"ticks\":\"\"},\"baxis\":{\"gridcolor\":\"#DFE8F3\",\"linecolor\":\"#A2B1C6\",\"ticks\":\"\"},\"bgcolor\":\"white\",\"caxis\":{\"gridcolor\":\"#DFE8F3\",\"linecolor\":\"#A2B1C6\",\"ticks\":\"\"}},\"title\":{\"x\":0.05},\"xaxis\":{\"automargin\":true,\"gridcolor\":\"#EBF0F8\",\"linecolor\":\"#EBF0F8\",\"ticks\":\"\",\"title\":{\"standoff\":15},\"zerolinecolor\":\"#EBF0F8\",\"zerolinewidth\":2},\"yaxis\":{\"automargin\":true,\"gridcolor\":\"#EBF0F8\",\"linecolor\":\"#EBF0F8\",\"ticks\":\"\",\"title\":{\"standoff\":15},\"zerolinecolor\":\"#EBF0F8\",\"zerolinewidth\":2}}},\"xaxis\":{\"anchor\":\"y\",\"domain\":[0.0,0.425],\"showgrid\":true,\"zeroline\":true,\"zerolinewidth\":2,\"range\":[-1,4]},\"yaxis\":{\"anchor\":\"x\",\"domain\":[0.0,1.0],\"showgrid\":true,\"zeroline\":true,\"zerolinewidth\":2,\"range\":[-1,3]},\"xaxis2\":{\"anchor\":\"y2\",\"domain\":[0.575,1.0],\"showgrid\":true,\"zeroline\":true,\"zerolinewidth\":2,\"range\":[-1,4]},\"yaxis2\":{\"anchor\":\"x2\",\"domain\":[0.0,1.0],\"showgrid\":true,\"zeroline\":true,\"zerolinewidth\":2,\"range\":[-1,3]},\"annotations\":[{\"font\":{\"size\":16},\"showarrow\":false,\"text\":\"Standard Basis\",\"x\":0.2125,\"xanchor\":\"center\",\"xref\":\"paper\",\"y\":1.0,\"yanchor\":\"bottom\",\"yref\":\"paper\"},{\"font\":{\"size\":16},\"showarrow\":false,\"text\":\"Non-Standard Basis\",\"x\":0.7875,\"xanchor\":\"center\",\"xref\":\"paper\",\"y\":1.0,\"yanchor\":\"bottom\",\"yref\":\"paper\"}],\"title\":{\"text\":\"📐 Basis Vectors: Different Coordinate Systems\"},\"width\":800,\"height\":400},                        {\"responsive\": true}                    ).then(function(){\n",
              "                            \n",
              "var gd = document.getElementById('28dde43c-6423-4b54-ab56-cbb6733de562');\n",
              "var x = new MutationObserver(function (mutations, observer) {{\n",
              "        var display = window.getComputedStyle(gd).display;\n",
              "        if (!display || display === 'none') {{\n",
              "            console.log([gd, 'removed!']);\n",
              "            Plotly.purge(gd);\n",
              "            observer.disconnect();\n",
              "        }}\n",
              "}});\n",
              "\n",
              "// Listen for the removal of the full notebook cells\n",
              "var notebookContainer = gd.closest('#notebook-container');\n",
              "if (notebookContainer) {{\n",
              "    x.observe(notebookContainer, {childList: true});\n",
              "}}\n",
              "\n",
              "// Listen for the clearing of the current output cell\n",
              "var outputEl = gd.closest('.output');\n",
              "if (outputEl) {{\n",
              "    x.observe(outputEl, {childList: true});\n",
              "}}\n",
              "\n",
              "                        })                };                            </script>        </div>\n",
              "</body>\n",
              "</html>"
            ]
          },
          "metadata": {}
        },
        {
          "output_type": "stream",
          "name": "stdout",
          "text": [
            "💡 Key Concepts:\n",
            "• Standard basis uses perpendicular unit vectors\n",
            "• Non-standard basis can use any linearly independent vectors\n",
            "• The same vector has different coordinates in different bases\n",
            "• Basis choice affects how we interpret and compute with vectors\n"
          ]
        }
      ]
    },
    {
      "cell_type": "markdown",
      "source": [
        "# 7. 🧪 Interactive Playground\n",
        "\n",
        "## Vector Operations Playground\n"
      ],
      "metadata": {
        "id": "zDnUhmZqdgOq"
      }
    },
    {
      "cell_type": "code",
      "source": [
        "# Interactive vector playground\n",
        "def vector_playground():\n",
        "    \"\"\"Interactive playground for vector operations\"\"\"\n",
        "\n",
        "    print(\"🎮 Vector Playground - Try different operations!\")\n",
        "    print(\"=\" * 50)\n",
        "\n",
        "    # Define some vectors\n",
        "    a = np.array([2, 3])\n",
        "    b = np.array([1, -1])\n",
        "    c = np.array([-2, 2])\n",
        "\n",
        "    vectors = {'a': a, 'b': b, 'c': c}\n",
        "\n",
        "    print(\"Available vectors:\")\n",
        "    for name, vec in vectors.items():\n",
        "        print(f\"  {name} = {vec}\")\n",
        "\n",
        "    # Demonstrate operations\n",
        "    operations = {\n",
        "        'Addition': a + b,\n",
        "        'Subtraction': a - b,\n",
        "        'Scalar multiplication (2a)': 2 * a,\n",
        "        'Dot product (a·b)': np.dot(a, b),\n",
        "        'Norm of a': np.linalg.norm(a)\n",
        "    }\n",
        "\n",
        "    print(\"\\n🔧 Operation Results:\")\n",
        "    for op_name, result in operations.items():\n",
        "        if isinstance(result, (int, float)):\n",
        "            print(f\"  {op_name}: {result:.3f}\")\n",
        "        else:\n",
        "            print(f\"  {op_name}: {result}\")\n",
        "\n",
        "    # Visualize key operations\n",
        "    fig = go.Figure()\n",
        "\n",
        "    # Original vectors\n",
        "    fig.add_trace(go.Scatter(x=[0, a[0]], y=[0, a[1]], mode='lines+markers',\n",
        "                            name='a', line=dict(color='blue', width=3)))\n",
        "    fig.add_trace(go.Scatter(x=[0, b[0]], y=[0, b[1]], mode='lines+markers',\n",
        "                            name='b', line=dict(color='red', width=3)))\n",
        "\n",
        "    # Addition result\n",
        "    sum_vec = a + b\n",
        "    fig.add_trace(go.Scatter(x=[0, sum_vec[0]], y=[0, sum_vec[1]],\n",
        "                            mode='lines+markers', name='a + b',\n",
        "                            line=dict(color='purple', width=3, dash='dash')))\n",
        "\n",
        "    # Scalar multiplication\n",
        "    scaled_a = 2 * a\n",
        "    fig.add_trace(go.Scatter(x=[0, scaled_a[0]], y=[0, scaled_a[1]],\n",
        "                            mode='lines+markers', name='2a',\n",
        "                            line=dict(color='green', width=3)))\n",
        "\n",
        "    fig.update_layout(\n",
        "        title=\"🎮 Vector Operations Playground\",\n",
        "        xaxis=dict(showgrid=True, zeroline=True, range=[-3, 5]),\n",
        "        yaxis=dict(showgrid=True, zeroline=True, range=[-2, 7]),\n",
        "        template=\"plotly_white\"\n",
        "    )\n",
        "\n",
        "    return fig\n",
        "\n",
        "fig = vector_playground()\n",
        "fig.show()\n",
        "\n",
        "print(\"\\n🎯 Try modifying the vectors above and see how operations change!\")\n"
      ],
      "metadata": {
        "colab": {
          "base_uri": "https://localhost:8080/",
          "height": 818
        },
        "id": "vZ-po_M8diWI",
        "outputId": "fd3ce14b-41ac-4999-dc32-65b6d7a7b823"
      },
      "execution_count": 14,
      "outputs": [
        {
          "output_type": "stream",
          "name": "stdout",
          "text": [
            "🎮 Vector Playground - Try different operations!\n",
            "==================================================\n",
            "Available vectors:\n",
            "  a = [2 3]\n",
            "  b = [ 1 -1]\n",
            "  c = [-2  2]\n",
            "\n",
            "🔧 Operation Results:\n",
            "  Addition: [3 2]\n",
            "  Subtraction: [1 4]\n",
            "  Scalar multiplication (2a): [4 6]\n",
            "  Dot product (a·b): -1\n",
            "  Norm of a: 3.606\n"
          ]
        },
        {
          "output_type": "display_data",
          "data": {
            "text/html": [
              "<html>\n",
              "<head><meta charset=\"utf-8\" /></head>\n",
              "<body>\n",
              "    <div>            <script src=\"https://cdnjs.cloudflare.com/ajax/libs/mathjax/2.7.5/MathJax.js?config=TeX-AMS-MML_SVG\"></script><script type=\"text/javascript\">if (window.MathJax && window.MathJax.Hub && window.MathJax.Hub.Config) {window.MathJax.Hub.Config({SVG: {font: \"STIX-Web\"}});}</script>                <script type=\"text/javascript\">window.PlotlyConfig = {MathJaxConfig: 'local'};</script>\n",
              "        <script charset=\"utf-8\" src=\"https://cdn.plot.ly/plotly-2.35.2.min.js\"></script>                <div id=\"e43bbcf6-1fea-46e5-bc48-3a05e75462b6\" class=\"plotly-graph-div\" style=\"height:525px; width:100%;\"></div>            <script type=\"text/javascript\">                                    window.PLOTLYENV=window.PLOTLYENV || {};                                    if (document.getElementById(\"e43bbcf6-1fea-46e5-bc48-3a05e75462b6\")) {                    Plotly.newPlot(                        \"e43bbcf6-1fea-46e5-bc48-3a05e75462b6\",                        [{\"line\":{\"color\":\"blue\",\"width\":3},\"mode\":\"lines+markers\",\"name\":\"a\",\"x\":[0,2],\"y\":[0,3],\"type\":\"scatter\"},{\"line\":{\"color\":\"red\",\"width\":3},\"mode\":\"lines+markers\",\"name\":\"b\",\"x\":[0,1],\"y\":[0,-1],\"type\":\"scatter\"},{\"line\":{\"color\":\"purple\",\"dash\":\"dash\",\"width\":3},\"mode\":\"lines+markers\",\"name\":\"a + b\",\"x\":[0,3],\"y\":[0,2],\"type\":\"scatter\"},{\"line\":{\"color\":\"green\",\"width\":3},\"mode\":\"lines+markers\",\"name\":\"2a\",\"x\":[0,4],\"y\":[0,6],\"type\":\"scatter\"}],                        {\"template\":{\"data\":{\"barpolar\":[{\"marker\":{\"line\":{\"color\":\"white\",\"width\":0.5},\"pattern\":{\"fillmode\":\"overlay\",\"size\":10,\"solidity\":0.2}},\"type\":\"barpolar\"}],\"bar\":[{\"error_x\":{\"color\":\"#2a3f5f\"},\"error_y\":{\"color\":\"#2a3f5f\"},\"marker\":{\"line\":{\"color\":\"white\",\"width\":0.5},\"pattern\":{\"fillmode\":\"overlay\",\"size\":10,\"solidity\":0.2}},\"type\":\"bar\"}],\"carpet\":[{\"aaxis\":{\"endlinecolor\":\"#2a3f5f\",\"gridcolor\":\"#C8D4E3\",\"linecolor\":\"#C8D4E3\",\"minorgridcolor\":\"#C8D4E3\",\"startlinecolor\":\"#2a3f5f\"},\"baxis\":{\"endlinecolor\":\"#2a3f5f\",\"gridcolor\":\"#C8D4E3\",\"linecolor\":\"#C8D4E3\",\"minorgridcolor\":\"#C8D4E3\",\"startlinecolor\":\"#2a3f5f\"},\"type\":\"carpet\"}],\"choropleth\":[{\"colorbar\":{\"outlinewidth\":0,\"ticks\":\"\"},\"type\":\"choropleth\"}],\"contourcarpet\":[{\"colorbar\":{\"outlinewidth\":0,\"ticks\":\"\"},\"type\":\"contourcarpet\"}],\"contour\":[{\"colorbar\":{\"outlinewidth\":0,\"ticks\":\"\"},\"colorscale\":[[0.0,\"#0d0887\"],[0.1111111111111111,\"#46039f\"],[0.2222222222222222,\"#7201a8\"],[0.3333333333333333,\"#9c179e\"],[0.4444444444444444,\"#bd3786\"],[0.5555555555555556,\"#d8576b\"],[0.6666666666666666,\"#ed7953\"],[0.7777777777777778,\"#fb9f3a\"],[0.8888888888888888,\"#fdca26\"],[1.0,\"#f0f921\"]],\"type\":\"contour\"}],\"heatmapgl\":[{\"colorbar\":{\"outlinewidth\":0,\"ticks\":\"\"},\"colorscale\":[[0.0,\"#0d0887\"],[0.1111111111111111,\"#46039f\"],[0.2222222222222222,\"#7201a8\"],[0.3333333333333333,\"#9c179e\"],[0.4444444444444444,\"#bd3786\"],[0.5555555555555556,\"#d8576b\"],[0.6666666666666666,\"#ed7953\"],[0.7777777777777778,\"#fb9f3a\"],[0.8888888888888888,\"#fdca26\"],[1.0,\"#f0f921\"]],\"type\":\"heatmapgl\"}],\"heatmap\":[{\"colorbar\":{\"outlinewidth\":0,\"ticks\":\"\"},\"colorscale\":[[0.0,\"#0d0887\"],[0.1111111111111111,\"#46039f\"],[0.2222222222222222,\"#7201a8\"],[0.3333333333333333,\"#9c179e\"],[0.4444444444444444,\"#bd3786\"],[0.5555555555555556,\"#d8576b\"],[0.6666666666666666,\"#ed7953\"],[0.7777777777777778,\"#fb9f3a\"],[0.8888888888888888,\"#fdca26\"],[1.0,\"#f0f921\"]],\"type\":\"heatmap\"}],\"histogram2dcontour\":[{\"colorbar\":{\"outlinewidth\":0,\"ticks\":\"\"},\"colorscale\":[[0.0,\"#0d0887\"],[0.1111111111111111,\"#46039f\"],[0.2222222222222222,\"#7201a8\"],[0.3333333333333333,\"#9c179e\"],[0.4444444444444444,\"#bd3786\"],[0.5555555555555556,\"#d8576b\"],[0.6666666666666666,\"#ed7953\"],[0.7777777777777778,\"#fb9f3a\"],[0.8888888888888888,\"#fdca26\"],[1.0,\"#f0f921\"]],\"type\":\"histogram2dcontour\"}],\"histogram2d\":[{\"colorbar\":{\"outlinewidth\":0,\"ticks\":\"\"},\"colorscale\":[[0.0,\"#0d0887\"],[0.1111111111111111,\"#46039f\"],[0.2222222222222222,\"#7201a8\"],[0.3333333333333333,\"#9c179e\"],[0.4444444444444444,\"#bd3786\"],[0.5555555555555556,\"#d8576b\"],[0.6666666666666666,\"#ed7953\"],[0.7777777777777778,\"#fb9f3a\"],[0.8888888888888888,\"#fdca26\"],[1.0,\"#f0f921\"]],\"type\":\"histogram2d\"}],\"histogram\":[{\"marker\":{\"pattern\":{\"fillmode\":\"overlay\",\"size\":10,\"solidity\":0.2}},\"type\":\"histogram\"}],\"mesh3d\":[{\"colorbar\":{\"outlinewidth\":0,\"ticks\":\"\"},\"type\":\"mesh3d\"}],\"parcoords\":[{\"line\":{\"colorbar\":{\"outlinewidth\":0,\"ticks\":\"\"}},\"type\":\"parcoords\"}],\"pie\":[{\"automargin\":true,\"type\":\"pie\"}],\"scatter3d\":[{\"line\":{\"colorbar\":{\"outlinewidth\":0,\"ticks\":\"\"}},\"marker\":{\"colorbar\":{\"outlinewidth\":0,\"ticks\":\"\"}},\"type\":\"scatter3d\"}],\"scattercarpet\":[{\"marker\":{\"colorbar\":{\"outlinewidth\":0,\"ticks\":\"\"}},\"type\":\"scattercarpet\"}],\"scattergeo\":[{\"marker\":{\"colorbar\":{\"outlinewidth\":0,\"ticks\":\"\"}},\"type\":\"scattergeo\"}],\"scattergl\":[{\"marker\":{\"colorbar\":{\"outlinewidth\":0,\"ticks\":\"\"}},\"type\":\"scattergl\"}],\"scattermapbox\":[{\"marker\":{\"colorbar\":{\"outlinewidth\":0,\"ticks\":\"\"}},\"type\":\"scattermapbox\"}],\"scatterpolargl\":[{\"marker\":{\"colorbar\":{\"outlinewidth\":0,\"ticks\":\"\"}},\"type\":\"scatterpolargl\"}],\"scatterpolar\":[{\"marker\":{\"colorbar\":{\"outlinewidth\":0,\"ticks\":\"\"}},\"type\":\"scatterpolar\"}],\"scatter\":[{\"fillpattern\":{\"fillmode\":\"overlay\",\"size\":10,\"solidity\":0.2},\"type\":\"scatter\"}],\"scatterternary\":[{\"marker\":{\"colorbar\":{\"outlinewidth\":0,\"ticks\":\"\"}},\"type\":\"scatterternary\"}],\"surface\":[{\"colorbar\":{\"outlinewidth\":0,\"ticks\":\"\"},\"colorscale\":[[0.0,\"#0d0887\"],[0.1111111111111111,\"#46039f\"],[0.2222222222222222,\"#7201a8\"],[0.3333333333333333,\"#9c179e\"],[0.4444444444444444,\"#bd3786\"],[0.5555555555555556,\"#d8576b\"],[0.6666666666666666,\"#ed7953\"],[0.7777777777777778,\"#fb9f3a\"],[0.8888888888888888,\"#fdca26\"],[1.0,\"#f0f921\"]],\"type\":\"surface\"}],\"table\":[{\"cells\":{\"fill\":{\"color\":\"#EBF0F8\"},\"line\":{\"color\":\"white\"}},\"header\":{\"fill\":{\"color\":\"#C8D4E3\"},\"line\":{\"color\":\"white\"}},\"type\":\"table\"}]},\"layout\":{\"annotationdefaults\":{\"arrowcolor\":\"#2a3f5f\",\"arrowhead\":0,\"arrowwidth\":1},\"autotypenumbers\":\"strict\",\"coloraxis\":{\"colorbar\":{\"outlinewidth\":0,\"ticks\":\"\"}},\"colorscale\":{\"diverging\":[[0,\"#8e0152\"],[0.1,\"#c51b7d\"],[0.2,\"#de77ae\"],[0.3,\"#f1b6da\"],[0.4,\"#fde0ef\"],[0.5,\"#f7f7f7\"],[0.6,\"#e6f5d0\"],[0.7,\"#b8e186\"],[0.8,\"#7fbc41\"],[0.9,\"#4d9221\"],[1,\"#276419\"]],\"sequential\":[[0.0,\"#0d0887\"],[0.1111111111111111,\"#46039f\"],[0.2222222222222222,\"#7201a8\"],[0.3333333333333333,\"#9c179e\"],[0.4444444444444444,\"#bd3786\"],[0.5555555555555556,\"#d8576b\"],[0.6666666666666666,\"#ed7953\"],[0.7777777777777778,\"#fb9f3a\"],[0.8888888888888888,\"#fdca26\"],[1.0,\"#f0f921\"]],\"sequentialminus\":[[0.0,\"#0d0887\"],[0.1111111111111111,\"#46039f\"],[0.2222222222222222,\"#7201a8\"],[0.3333333333333333,\"#9c179e\"],[0.4444444444444444,\"#bd3786\"],[0.5555555555555556,\"#d8576b\"],[0.6666666666666666,\"#ed7953\"],[0.7777777777777778,\"#fb9f3a\"],[0.8888888888888888,\"#fdca26\"],[1.0,\"#f0f921\"]]},\"colorway\":[\"#636efa\",\"#EF553B\",\"#00cc96\",\"#ab63fa\",\"#FFA15A\",\"#19d3f3\",\"#FF6692\",\"#B6E880\",\"#FF97FF\",\"#FECB52\"],\"font\":{\"color\":\"#2a3f5f\"},\"geo\":{\"bgcolor\":\"white\",\"lakecolor\":\"white\",\"landcolor\":\"white\",\"showlakes\":true,\"showland\":true,\"subunitcolor\":\"#C8D4E3\"},\"hoverlabel\":{\"align\":\"left\"},\"hovermode\":\"closest\",\"mapbox\":{\"style\":\"light\"},\"paper_bgcolor\":\"white\",\"plot_bgcolor\":\"white\",\"polar\":{\"angularaxis\":{\"gridcolor\":\"#EBF0F8\",\"linecolor\":\"#EBF0F8\",\"ticks\":\"\"},\"bgcolor\":\"white\",\"radialaxis\":{\"gridcolor\":\"#EBF0F8\",\"linecolor\":\"#EBF0F8\",\"ticks\":\"\"}},\"scene\":{\"xaxis\":{\"backgroundcolor\":\"white\",\"gridcolor\":\"#DFE8F3\",\"gridwidth\":2,\"linecolor\":\"#EBF0F8\",\"showbackground\":true,\"ticks\":\"\",\"zerolinecolor\":\"#EBF0F8\"},\"yaxis\":{\"backgroundcolor\":\"white\",\"gridcolor\":\"#DFE8F3\",\"gridwidth\":2,\"linecolor\":\"#EBF0F8\",\"showbackground\":true,\"ticks\":\"\",\"zerolinecolor\":\"#EBF0F8\"},\"zaxis\":{\"backgroundcolor\":\"white\",\"gridcolor\":\"#DFE8F3\",\"gridwidth\":2,\"linecolor\":\"#EBF0F8\",\"showbackground\":true,\"ticks\":\"\",\"zerolinecolor\":\"#EBF0F8\"}},\"shapedefaults\":{\"line\":{\"color\":\"#2a3f5f\"}},\"ternary\":{\"aaxis\":{\"gridcolor\":\"#DFE8F3\",\"linecolor\":\"#A2B1C6\",\"ticks\":\"\"},\"baxis\":{\"gridcolor\":\"#DFE8F3\",\"linecolor\":\"#A2B1C6\",\"ticks\":\"\"},\"bgcolor\":\"white\",\"caxis\":{\"gridcolor\":\"#DFE8F3\",\"linecolor\":\"#A2B1C6\",\"ticks\":\"\"}},\"title\":{\"x\":0.05},\"xaxis\":{\"automargin\":true,\"gridcolor\":\"#EBF0F8\",\"linecolor\":\"#EBF0F8\",\"ticks\":\"\",\"title\":{\"standoff\":15},\"zerolinecolor\":\"#EBF0F8\",\"zerolinewidth\":2},\"yaxis\":{\"automargin\":true,\"gridcolor\":\"#EBF0F8\",\"linecolor\":\"#EBF0F8\",\"ticks\":\"\",\"title\":{\"standoff\":15},\"zerolinecolor\":\"#EBF0F8\",\"zerolinewidth\":2}}},\"xaxis\":{\"showgrid\":true,\"zeroline\":true,\"range\":[-3,5]},\"yaxis\":{\"showgrid\":true,\"zeroline\":true,\"range\":[-2,7]},\"title\":{\"text\":\"🎮 Vector Operations Playground\"}},                        {\"responsive\": true}                    ).then(function(){\n",
              "                            \n",
              "var gd = document.getElementById('e43bbcf6-1fea-46e5-bc48-3a05e75462b6');\n",
              "var x = new MutationObserver(function (mutations, observer) {{\n",
              "        var display = window.getComputedStyle(gd).display;\n",
              "        if (!display || display === 'none') {{\n",
              "            console.log([gd, 'removed!']);\n",
              "            Plotly.purge(gd);\n",
              "            observer.disconnect();\n",
              "        }}\n",
              "}});\n",
              "\n",
              "// Listen for the removal of the full notebook cells\n",
              "var notebookContainer = gd.closest('#notebook-container');\n",
              "if (notebookContainer) {{\n",
              "    x.observe(notebookContainer, {childList: true});\n",
              "}}\n",
              "\n",
              "// Listen for the clearing of the current output cell\n",
              "var outputEl = gd.closest('.output');\n",
              "if (outputEl) {{\n",
              "    x.observe(outputEl, {childList: true});\n",
              "}}\n",
              "\n",
              "                        })                };                            </script>        </div>\n",
              "</body>\n",
              "</html>"
            ]
          },
          "metadata": {}
        },
        {
          "output_type": "stream",
          "name": "stdout",
          "text": [
            "\n",
            "🎯 Try modifying the vectors above and see how operations change!\n"
          ]
        }
      ]
    },
    {
      "cell_type": "markdown",
      "source": [
        "# 8. 🤖 ML Applications: Real-World Examples\n",
        "\n",
        "## Example 1: Feature Vectors in Classification\n"
      ],
      "metadata": {
        "id": "ofbXI7j3eTzy"
      }
    },
    {
      "cell_type": "code",
      "source": [
        "def ml_classification_example():\n",
        "    \"\"\"Demonstrate how vectors represent data points in ML\"\"\"\n",
        "\n",
        "    # Sample dataset: House prices (features: size, bedrooms)\n",
        "    houses = {\n",
        "        'House A': np.array([1500, 3]),  # 1500 sq ft, 3 bedrooms\n",
        "        'House B': np.array([2000, 4]),  # 2000 sq ft, 4 bedrooms\n",
        "        'House C': np.array([1200, 2]),  # 1200 sq ft, 2 bedrooms\n",
        "        'New House': np.array([1800, 3]) # House to classify\n",
        "    }\n",
        "\n",
        "    print(\"🏠 House Classification Example\")\n",
        "    print(\"Features: [Square Feet, Number of Bedrooms]\")\n",
        "    print(\"-\" * 45)\n",
        "\n",
        "    for name, features in houses.items():\n",
        "        print(f\"{name:12}: {features}\")\n",
        "\n",
        "    # Calculate similarities using dot product\n",
        "    new_house = houses['New House']\n",
        "    similarities = {}\n",
        "\n",
        "    print(f\"\\n📊 Similarity to New House {new_house}:\")\n",
        "    print(\"(Using normalized dot product - cosine similarity)\")\n",
        "\n",
        "    for name, house in houses.items():\n",
        "        if name != 'New House':\n",
        "            # Cosine similarity\n",
        "            similarity = np.dot(new_house, house) / (np.linalg.norm(new_house) * np.linalg.norm(house))\n",
        "            similarities[name] = similarity\n",
        "            print(f\"{name:12}: {similarity:.3f}\")\n",
        "\n",
        "    # Visualize\n",
        "    fig = go.Figure()\n",
        "\n",
        "    colors = {'House A': 'blue', 'House B': 'red', 'House C': 'green', 'New House': 'purple'}\n",
        "\n",
        "    for name, features in houses.items():\n",
        "        marker_size = 15 if name == 'New House' else 10\n",
        "        fig.add_trace(go.Scatter(\n",
        "            x=[features[0]], y=[features[1]],\n",
        "            mode='markers+text',\n",
        "            marker=dict(size=marker_size, color=colors[name]),\n",
        "            text=[name],\n",
        "            textposition=\"top center\",\n",
        "            name=name\n",
        "        ))\n",
        "\n",
        "    fig.update_layout(\n",
        "        title=\"🏠 Houses in Feature Space\",\n",
        "        xaxis_title=\"Square Feet\",\n",
        "        yaxis_title=\"Number of Bedrooms\",\n",
        "        template=\"plotly_white\",\n",
        "        width=600,\n",
        "        height=500\n",
        "    )\n",
        "\n",
        "    return fig\n",
        "\n",
        "fig = ml_classification_example()\n",
        "fig.show()\n"
      ],
      "metadata": {
        "colab": {
          "base_uri": "https://localhost:8080/",
          "height": 757
        },
        "id": "i9RUYDjkeU4-",
        "outputId": "8f968e35-c7e2-4cea-eaae-943498adb035"
      },
      "execution_count": 15,
      "outputs": [
        {
          "output_type": "stream",
          "name": "stdout",
          "text": [
            "🏠 House Classification Example\n",
            "Features: [Square Feet, Number of Bedrooms]\n",
            "---------------------------------------------\n",
            "House A     : [1500    3]\n",
            "House B     : [2000    4]\n",
            "House C     : [1200    2]\n",
            "New House   : [1800    3]\n",
            "\n",
            "📊 Similarity to New House [1800    3]:\n",
            "(Using normalized dot product - cosine similarity)\n",
            "House A     : 1.000\n",
            "House B     : 1.000\n",
            "House C     : 1.000\n"
          ]
        },
        {
          "output_type": "display_data",
          "data": {
            "text/html": [
              "<html>\n",
              "<head><meta charset=\"utf-8\" /></head>\n",
              "<body>\n",
              "    <div>            <script src=\"https://cdnjs.cloudflare.com/ajax/libs/mathjax/2.7.5/MathJax.js?config=TeX-AMS-MML_SVG\"></script><script type=\"text/javascript\">if (window.MathJax && window.MathJax.Hub && window.MathJax.Hub.Config) {window.MathJax.Hub.Config({SVG: {font: \"STIX-Web\"}});}</script>                <script type=\"text/javascript\">window.PlotlyConfig = {MathJaxConfig: 'local'};</script>\n",
              "        <script charset=\"utf-8\" src=\"https://cdn.plot.ly/plotly-2.35.2.min.js\"></script>                <div id=\"e010844c-6139-4277-80c0-b1105a7b1a85\" class=\"plotly-graph-div\" style=\"height:500px; width:600px;\"></div>            <script type=\"text/javascript\">                                    window.PLOTLYENV=window.PLOTLYENV || {};                                    if (document.getElementById(\"e010844c-6139-4277-80c0-b1105a7b1a85\")) {                    Plotly.newPlot(                        \"e010844c-6139-4277-80c0-b1105a7b1a85\",                        [{\"marker\":{\"color\":\"blue\",\"size\":10},\"mode\":\"markers+text\",\"name\":\"House A\",\"text\":[\"House A\"],\"textposition\":\"top center\",\"x\":[1500],\"y\":[3],\"type\":\"scatter\"},{\"marker\":{\"color\":\"red\",\"size\":10},\"mode\":\"markers+text\",\"name\":\"House B\",\"text\":[\"House B\"],\"textposition\":\"top center\",\"x\":[2000],\"y\":[4],\"type\":\"scatter\"},{\"marker\":{\"color\":\"green\",\"size\":10},\"mode\":\"markers+text\",\"name\":\"House C\",\"text\":[\"House C\"],\"textposition\":\"top center\",\"x\":[1200],\"y\":[2],\"type\":\"scatter\"},{\"marker\":{\"color\":\"purple\",\"size\":15},\"mode\":\"markers+text\",\"name\":\"New House\",\"text\":[\"New House\"],\"textposition\":\"top center\",\"x\":[1800],\"y\":[3],\"type\":\"scatter\"}],                        {\"template\":{\"data\":{\"barpolar\":[{\"marker\":{\"line\":{\"color\":\"white\",\"width\":0.5},\"pattern\":{\"fillmode\":\"overlay\",\"size\":10,\"solidity\":0.2}},\"type\":\"barpolar\"}],\"bar\":[{\"error_x\":{\"color\":\"#2a3f5f\"},\"error_y\":{\"color\":\"#2a3f5f\"},\"marker\":{\"line\":{\"color\":\"white\",\"width\":0.5},\"pattern\":{\"fillmode\":\"overlay\",\"size\":10,\"solidity\":0.2}},\"type\":\"bar\"}],\"carpet\":[{\"aaxis\":{\"endlinecolor\":\"#2a3f5f\",\"gridcolor\":\"#C8D4E3\",\"linecolor\":\"#C8D4E3\",\"minorgridcolor\":\"#C8D4E3\",\"startlinecolor\":\"#2a3f5f\"},\"baxis\":{\"endlinecolor\":\"#2a3f5f\",\"gridcolor\":\"#C8D4E3\",\"linecolor\":\"#C8D4E3\",\"minorgridcolor\":\"#C8D4E3\",\"startlinecolor\":\"#2a3f5f\"},\"type\":\"carpet\"}],\"choropleth\":[{\"colorbar\":{\"outlinewidth\":0,\"ticks\":\"\"},\"type\":\"choropleth\"}],\"contourcarpet\":[{\"colorbar\":{\"outlinewidth\":0,\"ticks\":\"\"},\"type\":\"contourcarpet\"}],\"contour\":[{\"colorbar\":{\"outlinewidth\":0,\"ticks\":\"\"},\"colorscale\":[[0.0,\"#0d0887\"],[0.1111111111111111,\"#46039f\"],[0.2222222222222222,\"#7201a8\"],[0.3333333333333333,\"#9c179e\"],[0.4444444444444444,\"#bd3786\"],[0.5555555555555556,\"#d8576b\"],[0.6666666666666666,\"#ed7953\"],[0.7777777777777778,\"#fb9f3a\"],[0.8888888888888888,\"#fdca26\"],[1.0,\"#f0f921\"]],\"type\":\"contour\"}],\"heatmapgl\":[{\"colorbar\":{\"outlinewidth\":0,\"ticks\":\"\"},\"colorscale\":[[0.0,\"#0d0887\"],[0.1111111111111111,\"#46039f\"],[0.2222222222222222,\"#7201a8\"],[0.3333333333333333,\"#9c179e\"],[0.4444444444444444,\"#bd3786\"],[0.5555555555555556,\"#d8576b\"],[0.6666666666666666,\"#ed7953\"],[0.7777777777777778,\"#fb9f3a\"],[0.8888888888888888,\"#fdca26\"],[1.0,\"#f0f921\"]],\"type\":\"heatmapgl\"}],\"heatmap\":[{\"colorbar\":{\"outlinewidth\":0,\"ticks\":\"\"},\"colorscale\":[[0.0,\"#0d0887\"],[0.1111111111111111,\"#46039f\"],[0.2222222222222222,\"#7201a8\"],[0.3333333333333333,\"#9c179e\"],[0.4444444444444444,\"#bd3786\"],[0.5555555555555556,\"#d8576b\"],[0.6666666666666666,\"#ed7953\"],[0.7777777777777778,\"#fb9f3a\"],[0.8888888888888888,\"#fdca26\"],[1.0,\"#f0f921\"]],\"type\":\"heatmap\"}],\"histogram2dcontour\":[{\"colorbar\":{\"outlinewidth\":0,\"ticks\":\"\"},\"colorscale\":[[0.0,\"#0d0887\"],[0.1111111111111111,\"#46039f\"],[0.2222222222222222,\"#7201a8\"],[0.3333333333333333,\"#9c179e\"],[0.4444444444444444,\"#bd3786\"],[0.5555555555555556,\"#d8576b\"],[0.6666666666666666,\"#ed7953\"],[0.7777777777777778,\"#fb9f3a\"],[0.8888888888888888,\"#fdca26\"],[1.0,\"#f0f921\"]],\"type\":\"histogram2dcontour\"}],\"histogram2d\":[{\"colorbar\":{\"outlinewidth\":0,\"ticks\":\"\"},\"colorscale\":[[0.0,\"#0d0887\"],[0.1111111111111111,\"#46039f\"],[0.2222222222222222,\"#7201a8\"],[0.3333333333333333,\"#9c179e\"],[0.4444444444444444,\"#bd3786\"],[0.5555555555555556,\"#d8576b\"],[0.6666666666666666,\"#ed7953\"],[0.7777777777777778,\"#fb9f3a\"],[0.8888888888888888,\"#fdca26\"],[1.0,\"#f0f921\"]],\"type\":\"histogram2d\"}],\"histogram\":[{\"marker\":{\"pattern\":{\"fillmode\":\"overlay\",\"size\":10,\"solidity\":0.2}},\"type\":\"histogram\"}],\"mesh3d\":[{\"colorbar\":{\"outlinewidth\":0,\"ticks\":\"\"},\"type\":\"mesh3d\"}],\"parcoords\":[{\"line\":{\"colorbar\":{\"outlinewidth\":0,\"ticks\":\"\"}},\"type\":\"parcoords\"}],\"pie\":[{\"automargin\":true,\"type\":\"pie\"}],\"scatter3d\":[{\"line\":{\"colorbar\":{\"outlinewidth\":0,\"ticks\":\"\"}},\"marker\":{\"colorbar\":{\"outlinewidth\":0,\"ticks\":\"\"}},\"type\":\"scatter3d\"}],\"scattercarpet\":[{\"marker\":{\"colorbar\":{\"outlinewidth\":0,\"ticks\":\"\"}},\"type\":\"scattercarpet\"}],\"scattergeo\":[{\"marker\":{\"colorbar\":{\"outlinewidth\":0,\"ticks\":\"\"}},\"type\":\"scattergeo\"}],\"scattergl\":[{\"marker\":{\"colorbar\":{\"outlinewidth\":0,\"ticks\":\"\"}},\"type\":\"scattergl\"}],\"scattermapbox\":[{\"marker\":{\"colorbar\":{\"outlinewidth\":0,\"ticks\":\"\"}},\"type\":\"scattermapbox\"}],\"scatterpolargl\":[{\"marker\":{\"colorbar\":{\"outlinewidth\":0,\"ticks\":\"\"}},\"type\":\"scatterpolargl\"}],\"scatterpolar\":[{\"marker\":{\"colorbar\":{\"outlinewidth\":0,\"ticks\":\"\"}},\"type\":\"scatterpolar\"}],\"scatter\":[{\"fillpattern\":{\"fillmode\":\"overlay\",\"size\":10,\"solidity\":0.2},\"type\":\"scatter\"}],\"scatterternary\":[{\"marker\":{\"colorbar\":{\"outlinewidth\":0,\"ticks\":\"\"}},\"type\":\"scatterternary\"}],\"surface\":[{\"colorbar\":{\"outlinewidth\":0,\"ticks\":\"\"},\"colorscale\":[[0.0,\"#0d0887\"],[0.1111111111111111,\"#46039f\"],[0.2222222222222222,\"#7201a8\"],[0.3333333333333333,\"#9c179e\"],[0.4444444444444444,\"#bd3786\"],[0.5555555555555556,\"#d8576b\"],[0.6666666666666666,\"#ed7953\"],[0.7777777777777778,\"#fb9f3a\"],[0.8888888888888888,\"#fdca26\"],[1.0,\"#f0f921\"]],\"type\":\"surface\"}],\"table\":[{\"cells\":{\"fill\":{\"color\":\"#EBF0F8\"},\"line\":{\"color\":\"white\"}},\"header\":{\"fill\":{\"color\":\"#C8D4E3\"},\"line\":{\"color\":\"white\"}},\"type\":\"table\"}]},\"layout\":{\"annotationdefaults\":{\"arrowcolor\":\"#2a3f5f\",\"arrowhead\":0,\"arrowwidth\":1},\"autotypenumbers\":\"strict\",\"coloraxis\":{\"colorbar\":{\"outlinewidth\":0,\"ticks\":\"\"}},\"colorscale\":{\"diverging\":[[0,\"#8e0152\"],[0.1,\"#c51b7d\"],[0.2,\"#de77ae\"],[0.3,\"#f1b6da\"],[0.4,\"#fde0ef\"],[0.5,\"#f7f7f7\"],[0.6,\"#e6f5d0\"],[0.7,\"#b8e186\"],[0.8,\"#7fbc41\"],[0.9,\"#4d9221\"],[1,\"#276419\"]],\"sequential\":[[0.0,\"#0d0887\"],[0.1111111111111111,\"#46039f\"],[0.2222222222222222,\"#7201a8\"],[0.3333333333333333,\"#9c179e\"],[0.4444444444444444,\"#bd3786\"],[0.5555555555555556,\"#d8576b\"],[0.6666666666666666,\"#ed7953\"],[0.7777777777777778,\"#fb9f3a\"],[0.8888888888888888,\"#fdca26\"],[1.0,\"#f0f921\"]],\"sequentialminus\":[[0.0,\"#0d0887\"],[0.1111111111111111,\"#46039f\"],[0.2222222222222222,\"#7201a8\"],[0.3333333333333333,\"#9c179e\"],[0.4444444444444444,\"#bd3786\"],[0.5555555555555556,\"#d8576b\"],[0.6666666666666666,\"#ed7953\"],[0.7777777777777778,\"#fb9f3a\"],[0.8888888888888888,\"#fdca26\"],[1.0,\"#f0f921\"]]},\"colorway\":[\"#636efa\",\"#EF553B\",\"#00cc96\",\"#ab63fa\",\"#FFA15A\",\"#19d3f3\",\"#FF6692\",\"#B6E880\",\"#FF97FF\",\"#FECB52\"],\"font\":{\"color\":\"#2a3f5f\"},\"geo\":{\"bgcolor\":\"white\",\"lakecolor\":\"white\",\"landcolor\":\"white\",\"showlakes\":true,\"showland\":true,\"subunitcolor\":\"#C8D4E3\"},\"hoverlabel\":{\"align\":\"left\"},\"hovermode\":\"closest\",\"mapbox\":{\"style\":\"light\"},\"paper_bgcolor\":\"white\",\"plot_bgcolor\":\"white\",\"polar\":{\"angularaxis\":{\"gridcolor\":\"#EBF0F8\",\"linecolor\":\"#EBF0F8\",\"ticks\":\"\"},\"bgcolor\":\"white\",\"radialaxis\":{\"gridcolor\":\"#EBF0F8\",\"linecolor\":\"#EBF0F8\",\"ticks\":\"\"}},\"scene\":{\"xaxis\":{\"backgroundcolor\":\"white\",\"gridcolor\":\"#DFE8F3\",\"gridwidth\":2,\"linecolor\":\"#EBF0F8\",\"showbackground\":true,\"ticks\":\"\",\"zerolinecolor\":\"#EBF0F8\"},\"yaxis\":{\"backgroundcolor\":\"white\",\"gridcolor\":\"#DFE8F3\",\"gridwidth\":2,\"linecolor\":\"#EBF0F8\",\"showbackground\":true,\"ticks\":\"\",\"zerolinecolor\":\"#EBF0F8\"},\"zaxis\":{\"backgroundcolor\":\"white\",\"gridcolor\":\"#DFE8F3\",\"gridwidth\":2,\"linecolor\":\"#EBF0F8\",\"showbackground\":true,\"ticks\":\"\",\"zerolinecolor\":\"#EBF0F8\"}},\"shapedefaults\":{\"line\":{\"color\":\"#2a3f5f\"}},\"ternary\":{\"aaxis\":{\"gridcolor\":\"#DFE8F3\",\"linecolor\":\"#A2B1C6\",\"ticks\":\"\"},\"baxis\":{\"gridcolor\":\"#DFE8F3\",\"linecolor\":\"#A2B1C6\",\"ticks\":\"\"},\"bgcolor\":\"white\",\"caxis\":{\"gridcolor\":\"#DFE8F3\",\"linecolor\":\"#A2B1C6\",\"ticks\":\"\"}},\"title\":{\"x\":0.05},\"xaxis\":{\"automargin\":true,\"gridcolor\":\"#EBF0F8\",\"linecolor\":\"#EBF0F8\",\"ticks\":\"\",\"title\":{\"standoff\":15},\"zerolinecolor\":\"#EBF0F8\",\"zerolinewidth\":2},\"yaxis\":{\"automargin\":true,\"gridcolor\":\"#EBF0F8\",\"linecolor\":\"#EBF0F8\",\"ticks\":\"\",\"title\":{\"standoff\":15},\"zerolinecolor\":\"#EBF0F8\",\"zerolinewidth\":2}}},\"title\":{\"text\":\"🏠 Houses in Feature Space\"},\"xaxis\":{\"title\":{\"text\":\"Square Feet\"}},\"yaxis\":{\"title\":{\"text\":\"Number of Bedrooms\"}},\"width\":600,\"height\":500},                        {\"responsive\": true}                    ).then(function(){\n",
              "                            \n",
              "var gd = document.getElementById('e010844c-6139-4277-80c0-b1105a7b1a85');\n",
              "var x = new MutationObserver(function (mutations, observer) {{\n",
              "        var display = window.getComputedStyle(gd).display;\n",
              "        if (!display || display === 'none') {{\n",
              "            console.log([gd, 'removed!']);\n",
              "            Plotly.purge(gd);\n",
              "            observer.disconnect();\n",
              "        }}\n",
              "}});\n",
              "\n",
              "// Listen for the removal of the full notebook cells\n",
              "var notebookContainer = gd.closest('#notebook-container');\n",
              "if (notebookContainer) {{\n",
              "    x.observe(notebookContainer, {childList: true});\n",
              "}}\n",
              "\n",
              "// Listen for the clearing of the current output cell\n",
              "var outputEl = gd.closest('.output');\n",
              "if (outputEl) {{\n",
              "    x.observe(outputEl, {childList: true});\n",
              "}}\n",
              "\n",
              "                        })                };                            </script>        </div>\n",
              "</body>\n",
              "</html>"
            ]
          },
          "metadata": {}
        }
      ]
    },
    {
      "cell_type": "markdown",
      "source": [
        "## Example 2: Word Embeddings\n"
      ],
      "metadata": {
        "id": "c7MP8w4ues_P"
      }
    },
    {
      "cell_type": "code",
      "source": [
        "def word_embedding_example():\n",
        "    \"\"\"Demonstrate word embeddings as vectors\"\"\"\n",
        "\n",
        "    # Simplified 2D word embeddings (in reality, these are 100-300D)\n",
        "    words = {\n",
        "        'king': np.array([0.8, 0.2]),\n",
        "        'queen': np.array([0.7, 0.8]),\n",
        "        'man': np.array([0.3, -0.1]),\n",
        "        'woman': np.array([0.2, 0.6]),\n",
        "        'royal': np.array([0.9, 0.5])\n",
        "    }\n",
        "\n",
        "    print(\"👑 Word Embeddings Example\")\n",
        "    print(\"2D representations (real embeddings are 100-300D)\")\n",
        "    print(\"-\" * 50)\n",
        "\n",
        "    for word, embedding in words.items():\n",
        "        print(f\"{word:8}: {embedding}\")\n",
        "\n",
        "    # Famous analogy: king - man + woman ≈ queen\n",
        "    king_vec = words['king']\n",
        "    man_vec = words['man']\n",
        "    woman_vec = words['woman']\n",
        "\n",
        "    analogy_result = king_vec - man_vec + woman_vec\n",
        "\n",
        "    print(f\"\\n🧮 Vector Analogy: king - man + woman\")\n",
        "    print(f\"king - man + woman = {analogy_result}\")\n",
        "    print(f\"Actual queen vector = {words['queen']}\")\n",
        "\n",
        "    # Calculate similarity\n",
        "    similarity = np.dot(analogy_result, words['queen']) / (np.linalg.norm(analogy_result) * np.linalg.norm(words['queen']))\n",
        "    print(f\"Cosine similarity: {similarity:.3f}\")\n",
        "\n",
        "    # Visualize\n",
        "    fig = go.Figure()\n",
        "\n",
        "    # Plot word vectors\n",
        "    for word, vec in words.items():\n",
        "        fig.add_trace(go.Scatter(\n",
        "            x=[vec[0]], y=[vec[1]],\n",
        "            mode='markers+text',\n",
        "            marker=dict(size=12, color='blue'),\n",
        "            text=[word],\n",
        "            textposition=\"top center\",\n",
        "            name=word,\n",
        "            showlegend=False\n",
        "        ))\n",
        "\n",
        "    # Plot analogy result\n",
        "    fig.add_trace(go.Scatter(\n",
        "        x=[analogy_result[0]], y=[analogy_result[1]],\n",
        "        mode='markers+text',\n",
        "        marker=dict(size=15, color='red', symbol='star'),\n",
        "        text=['king-man+woman'],\n",
        "        textposition=\"bottom center\",\n",
        "        name='Analogy Result',\n",
        "        showlegend=True\n",
        "    ))\n",
        "\n",
        "    fig.update_layout(\n",
        "        title=\"👑 Word Embeddings: Vector Analogies\",\n",
        "        xaxis_title=\"Dimension 1\",\n",
        "        yaxis_title=\"Dimension 2\",\n",
        "        template=\"plotly_white\",\n",
        "        width=600,\n",
        "        height=500\n",
        "    )\n",
        "\n",
        "    return fig\n",
        "\n",
        "fig = word_embedding_example()\n",
        "fig.show()\n"
      ],
      "metadata": {
        "colab": {
          "base_uri": "https://localhost:8080/",
          "height": 757
        },
        "id": "b6Rvq-e6etdA",
        "outputId": "95db7c13-8c39-4e79-e353-24f1ad809958"
      },
      "execution_count": 16,
      "outputs": [
        {
          "output_type": "stream",
          "name": "stdout",
          "text": [
            "👑 Word Embeddings Example\n",
            "2D representations (real embeddings are 100-300D)\n",
            "--------------------------------------------------\n",
            "king    : [0.8 0.2]\n",
            "queen   : [0.7 0.8]\n",
            "man     : [ 0.3 -0.1]\n",
            "woman   : [0.2 0.6]\n",
            "royal   : [0.9 0.5]\n",
            "\n",
            "🧮 Vector Analogy: king - man + woman\n",
            "king - man + woman = [0.7 0.9]\n",
            "Actual queen vector = [0.7 0.8]\n",
            "Cosine similarity: 0.998\n"
          ]
        },
        {
          "output_type": "display_data",
          "data": {
            "text/html": [
              "<html>\n",
              "<head><meta charset=\"utf-8\" /></head>\n",
              "<body>\n",
              "    <div>            <script src=\"https://cdnjs.cloudflare.com/ajax/libs/mathjax/2.7.5/MathJax.js?config=TeX-AMS-MML_SVG\"></script><script type=\"text/javascript\">if (window.MathJax && window.MathJax.Hub && window.MathJax.Hub.Config) {window.MathJax.Hub.Config({SVG: {font: \"STIX-Web\"}});}</script>                <script type=\"text/javascript\">window.PlotlyConfig = {MathJaxConfig: 'local'};</script>\n",
              "        <script charset=\"utf-8\" src=\"https://cdn.plot.ly/plotly-2.35.2.min.js\"></script>                <div id=\"51acac10-d949-4832-8bdf-0979c8538cbc\" class=\"plotly-graph-div\" style=\"height:500px; width:600px;\"></div>            <script type=\"text/javascript\">                                    window.PLOTLYENV=window.PLOTLYENV || {};                                    if (document.getElementById(\"51acac10-d949-4832-8bdf-0979c8538cbc\")) {                    Plotly.newPlot(                        \"51acac10-d949-4832-8bdf-0979c8538cbc\",                        [{\"marker\":{\"color\":\"blue\",\"size\":12},\"mode\":\"markers+text\",\"name\":\"king\",\"showlegend\":false,\"text\":[\"king\"],\"textposition\":\"top center\",\"x\":[0.8],\"y\":[0.2],\"type\":\"scatter\"},{\"marker\":{\"color\":\"blue\",\"size\":12},\"mode\":\"markers+text\",\"name\":\"queen\",\"showlegend\":false,\"text\":[\"queen\"],\"textposition\":\"top center\",\"x\":[0.7],\"y\":[0.8],\"type\":\"scatter\"},{\"marker\":{\"color\":\"blue\",\"size\":12},\"mode\":\"markers+text\",\"name\":\"man\",\"showlegend\":false,\"text\":[\"man\"],\"textposition\":\"top center\",\"x\":[0.3],\"y\":[-0.1],\"type\":\"scatter\"},{\"marker\":{\"color\":\"blue\",\"size\":12},\"mode\":\"markers+text\",\"name\":\"woman\",\"showlegend\":false,\"text\":[\"woman\"],\"textposition\":\"top center\",\"x\":[0.2],\"y\":[0.6],\"type\":\"scatter\"},{\"marker\":{\"color\":\"blue\",\"size\":12},\"mode\":\"markers+text\",\"name\":\"royal\",\"showlegend\":false,\"text\":[\"royal\"],\"textposition\":\"top center\",\"x\":[0.9],\"y\":[0.5],\"type\":\"scatter\"},{\"marker\":{\"color\":\"red\",\"size\":15,\"symbol\":\"star\"},\"mode\":\"markers+text\",\"name\":\"Analogy Result\",\"showlegend\":true,\"text\":[\"king-man+woman\"],\"textposition\":\"bottom center\",\"x\":[0.7],\"y\":[0.9],\"type\":\"scatter\"}],                        {\"template\":{\"data\":{\"barpolar\":[{\"marker\":{\"line\":{\"color\":\"white\",\"width\":0.5},\"pattern\":{\"fillmode\":\"overlay\",\"size\":10,\"solidity\":0.2}},\"type\":\"barpolar\"}],\"bar\":[{\"error_x\":{\"color\":\"#2a3f5f\"},\"error_y\":{\"color\":\"#2a3f5f\"},\"marker\":{\"line\":{\"color\":\"white\",\"width\":0.5},\"pattern\":{\"fillmode\":\"overlay\",\"size\":10,\"solidity\":0.2}},\"type\":\"bar\"}],\"carpet\":[{\"aaxis\":{\"endlinecolor\":\"#2a3f5f\",\"gridcolor\":\"#C8D4E3\",\"linecolor\":\"#C8D4E3\",\"minorgridcolor\":\"#C8D4E3\",\"startlinecolor\":\"#2a3f5f\"},\"baxis\":{\"endlinecolor\":\"#2a3f5f\",\"gridcolor\":\"#C8D4E3\",\"linecolor\":\"#C8D4E3\",\"minorgridcolor\":\"#C8D4E3\",\"startlinecolor\":\"#2a3f5f\"},\"type\":\"carpet\"}],\"choropleth\":[{\"colorbar\":{\"outlinewidth\":0,\"ticks\":\"\"},\"type\":\"choropleth\"}],\"contourcarpet\":[{\"colorbar\":{\"outlinewidth\":0,\"ticks\":\"\"},\"type\":\"contourcarpet\"}],\"contour\":[{\"colorbar\":{\"outlinewidth\":0,\"ticks\":\"\"},\"colorscale\":[[0.0,\"#0d0887\"],[0.1111111111111111,\"#46039f\"],[0.2222222222222222,\"#7201a8\"],[0.3333333333333333,\"#9c179e\"],[0.4444444444444444,\"#bd3786\"],[0.5555555555555556,\"#d8576b\"],[0.6666666666666666,\"#ed7953\"],[0.7777777777777778,\"#fb9f3a\"],[0.8888888888888888,\"#fdca26\"],[1.0,\"#f0f921\"]],\"type\":\"contour\"}],\"heatmapgl\":[{\"colorbar\":{\"outlinewidth\":0,\"ticks\":\"\"},\"colorscale\":[[0.0,\"#0d0887\"],[0.1111111111111111,\"#46039f\"],[0.2222222222222222,\"#7201a8\"],[0.3333333333333333,\"#9c179e\"],[0.4444444444444444,\"#bd3786\"],[0.5555555555555556,\"#d8576b\"],[0.6666666666666666,\"#ed7953\"],[0.7777777777777778,\"#fb9f3a\"],[0.8888888888888888,\"#fdca26\"],[1.0,\"#f0f921\"]],\"type\":\"heatmapgl\"}],\"heatmap\":[{\"colorbar\":{\"outlinewidth\":0,\"ticks\":\"\"},\"colorscale\":[[0.0,\"#0d0887\"],[0.1111111111111111,\"#46039f\"],[0.2222222222222222,\"#7201a8\"],[0.3333333333333333,\"#9c179e\"],[0.4444444444444444,\"#bd3786\"],[0.5555555555555556,\"#d8576b\"],[0.6666666666666666,\"#ed7953\"],[0.7777777777777778,\"#fb9f3a\"],[0.8888888888888888,\"#fdca26\"],[1.0,\"#f0f921\"]],\"type\":\"heatmap\"}],\"histogram2dcontour\":[{\"colorbar\":{\"outlinewidth\":0,\"ticks\":\"\"},\"colorscale\":[[0.0,\"#0d0887\"],[0.1111111111111111,\"#46039f\"],[0.2222222222222222,\"#7201a8\"],[0.3333333333333333,\"#9c179e\"],[0.4444444444444444,\"#bd3786\"],[0.5555555555555556,\"#d8576b\"],[0.6666666666666666,\"#ed7953\"],[0.7777777777777778,\"#fb9f3a\"],[0.8888888888888888,\"#fdca26\"],[1.0,\"#f0f921\"]],\"type\":\"histogram2dcontour\"}],\"histogram2d\":[{\"colorbar\":{\"outlinewidth\":0,\"ticks\":\"\"},\"colorscale\":[[0.0,\"#0d0887\"],[0.1111111111111111,\"#46039f\"],[0.2222222222222222,\"#7201a8\"],[0.3333333333333333,\"#9c179e\"],[0.4444444444444444,\"#bd3786\"],[0.5555555555555556,\"#d8576b\"],[0.6666666666666666,\"#ed7953\"],[0.7777777777777778,\"#fb9f3a\"],[0.8888888888888888,\"#fdca26\"],[1.0,\"#f0f921\"]],\"type\":\"histogram2d\"}],\"histogram\":[{\"marker\":{\"pattern\":{\"fillmode\":\"overlay\",\"size\":10,\"solidity\":0.2}},\"type\":\"histogram\"}],\"mesh3d\":[{\"colorbar\":{\"outlinewidth\":0,\"ticks\":\"\"},\"type\":\"mesh3d\"}],\"parcoords\":[{\"line\":{\"colorbar\":{\"outlinewidth\":0,\"ticks\":\"\"}},\"type\":\"parcoords\"}],\"pie\":[{\"automargin\":true,\"type\":\"pie\"}],\"scatter3d\":[{\"line\":{\"colorbar\":{\"outlinewidth\":0,\"ticks\":\"\"}},\"marker\":{\"colorbar\":{\"outlinewidth\":0,\"ticks\":\"\"}},\"type\":\"scatter3d\"}],\"scattercarpet\":[{\"marker\":{\"colorbar\":{\"outlinewidth\":0,\"ticks\":\"\"}},\"type\":\"scattercarpet\"}],\"scattergeo\":[{\"marker\":{\"colorbar\":{\"outlinewidth\":0,\"ticks\":\"\"}},\"type\":\"scattergeo\"}],\"scattergl\":[{\"marker\":{\"colorbar\":{\"outlinewidth\":0,\"ticks\":\"\"}},\"type\":\"scattergl\"}],\"scattermapbox\":[{\"marker\":{\"colorbar\":{\"outlinewidth\":0,\"ticks\":\"\"}},\"type\":\"scattermapbox\"}],\"scatterpolargl\":[{\"marker\":{\"colorbar\":{\"outlinewidth\":0,\"ticks\":\"\"}},\"type\":\"scatterpolargl\"}],\"scatterpolar\":[{\"marker\":{\"colorbar\":{\"outlinewidth\":0,\"ticks\":\"\"}},\"type\":\"scatterpolar\"}],\"scatter\":[{\"fillpattern\":{\"fillmode\":\"overlay\",\"size\":10,\"solidity\":0.2},\"type\":\"scatter\"}],\"scatterternary\":[{\"marker\":{\"colorbar\":{\"outlinewidth\":0,\"ticks\":\"\"}},\"type\":\"scatterternary\"}],\"surface\":[{\"colorbar\":{\"outlinewidth\":0,\"ticks\":\"\"},\"colorscale\":[[0.0,\"#0d0887\"],[0.1111111111111111,\"#46039f\"],[0.2222222222222222,\"#7201a8\"],[0.3333333333333333,\"#9c179e\"],[0.4444444444444444,\"#bd3786\"],[0.5555555555555556,\"#d8576b\"],[0.6666666666666666,\"#ed7953\"],[0.7777777777777778,\"#fb9f3a\"],[0.8888888888888888,\"#fdca26\"],[1.0,\"#f0f921\"]],\"type\":\"surface\"}],\"table\":[{\"cells\":{\"fill\":{\"color\":\"#EBF0F8\"},\"line\":{\"color\":\"white\"}},\"header\":{\"fill\":{\"color\":\"#C8D4E3\"},\"line\":{\"color\":\"white\"}},\"type\":\"table\"}]},\"layout\":{\"annotationdefaults\":{\"arrowcolor\":\"#2a3f5f\",\"arrowhead\":0,\"arrowwidth\":1},\"autotypenumbers\":\"strict\",\"coloraxis\":{\"colorbar\":{\"outlinewidth\":0,\"ticks\":\"\"}},\"colorscale\":{\"diverging\":[[0,\"#8e0152\"],[0.1,\"#c51b7d\"],[0.2,\"#de77ae\"],[0.3,\"#f1b6da\"],[0.4,\"#fde0ef\"],[0.5,\"#f7f7f7\"],[0.6,\"#e6f5d0\"],[0.7,\"#b8e186\"],[0.8,\"#7fbc41\"],[0.9,\"#4d9221\"],[1,\"#276419\"]],\"sequential\":[[0.0,\"#0d0887\"],[0.1111111111111111,\"#46039f\"],[0.2222222222222222,\"#7201a8\"],[0.3333333333333333,\"#9c179e\"],[0.4444444444444444,\"#bd3786\"],[0.5555555555555556,\"#d8576b\"],[0.6666666666666666,\"#ed7953\"],[0.7777777777777778,\"#fb9f3a\"],[0.8888888888888888,\"#fdca26\"],[1.0,\"#f0f921\"]],\"sequentialminus\":[[0.0,\"#0d0887\"],[0.1111111111111111,\"#46039f\"],[0.2222222222222222,\"#7201a8\"],[0.3333333333333333,\"#9c179e\"],[0.4444444444444444,\"#bd3786\"],[0.5555555555555556,\"#d8576b\"],[0.6666666666666666,\"#ed7953\"],[0.7777777777777778,\"#fb9f3a\"],[0.8888888888888888,\"#fdca26\"],[1.0,\"#f0f921\"]]},\"colorway\":[\"#636efa\",\"#EF553B\",\"#00cc96\",\"#ab63fa\",\"#FFA15A\",\"#19d3f3\",\"#FF6692\",\"#B6E880\",\"#FF97FF\",\"#FECB52\"],\"font\":{\"color\":\"#2a3f5f\"},\"geo\":{\"bgcolor\":\"white\",\"lakecolor\":\"white\",\"landcolor\":\"white\",\"showlakes\":true,\"showland\":true,\"subunitcolor\":\"#C8D4E3\"},\"hoverlabel\":{\"align\":\"left\"},\"hovermode\":\"closest\",\"mapbox\":{\"style\":\"light\"},\"paper_bgcolor\":\"white\",\"plot_bgcolor\":\"white\",\"polar\":{\"angularaxis\":{\"gridcolor\":\"#EBF0F8\",\"linecolor\":\"#EBF0F8\",\"ticks\":\"\"},\"bgcolor\":\"white\",\"radialaxis\":{\"gridcolor\":\"#EBF0F8\",\"linecolor\":\"#EBF0F8\",\"ticks\":\"\"}},\"scene\":{\"xaxis\":{\"backgroundcolor\":\"white\",\"gridcolor\":\"#DFE8F3\",\"gridwidth\":2,\"linecolor\":\"#EBF0F8\",\"showbackground\":true,\"ticks\":\"\",\"zerolinecolor\":\"#EBF0F8\"},\"yaxis\":{\"backgroundcolor\":\"white\",\"gridcolor\":\"#DFE8F3\",\"gridwidth\":2,\"linecolor\":\"#EBF0F8\",\"showbackground\":true,\"ticks\":\"\",\"zerolinecolor\":\"#EBF0F8\"},\"zaxis\":{\"backgroundcolor\":\"white\",\"gridcolor\":\"#DFE8F3\",\"gridwidth\":2,\"linecolor\":\"#EBF0F8\",\"showbackground\":true,\"ticks\":\"\",\"zerolinecolor\":\"#EBF0F8\"}},\"shapedefaults\":{\"line\":{\"color\":\"#2a3f5f\"}},\"ternary\":{\"aaxis\":{\"gridcolor\":\"#DFE8F3\",\"linecolor\":\"#A2B1C6\",\"ticks\":\"\"},\"baxis\":{\"gridcolor\":\"#DFE8F3\",\"linecolor\":\"#A2B1C6\",\"ticks\":\"\"},\"bgcolor\":\"white\",\"caxis\":{\"gridcolor\":\"#DFE8F3\",\"linecolor\":\"#A2B1C6\",\"ticks\":\"\"}},\"title\":{\"x\":0.05},\"xaxis\":{\"automargin\":true,\"gridcolor\":\"#EBF0F8\",\"linecolor\":\"#EBF0F8\",\"ticks\":\"\",\"title\":{\"standoff\":15},\"zerolinecolor\":\"#EBF0F8\",\"zerolinewidth\":2},\"yaxis\":{\"automargin\":true,\"gridcolor\":\"#EBF0F8\",\"linecolor\":\"#EBF0F8\",\"ticks\":\"\",\"title\":{\"standoff\":15},\"zerolinecolor\":\"#EBF0F8\",\"zerolinewidth\":2}}},\"title\":{\"text\":\"👑 Word Embeddings: Vector Analogies\"},\"xaxis\":{\"title\":{\"text\":\"Dimension 1\"}},\"yaxis\":{\"title\":{\"text\":\"Dimension 2\"}},\"width\":600,\"height\":500},                        {\"responsive\": true}                    ).then(function(){\n",
              "                            \n",
              "var gd = document.getElementById('51acac10-d949-4832-8bdf-0979c8538cbc');\n",
              "var x = new MutationObserver(function (mutations, observer) {{\n",
              "        var display = window.getComputedStyle(gd).display;\n",
              "        if (!display || display === 'none') {{\n",
              "            console.log([gd, 'removed!']);\n",
              "            Plotly.purge(gd);\n",
              "            observer.disconnect();\n",
              "        }}\n",
              "}});\n",
              "\n",
              "// Listen for the removal of the full notebook cells\n",
              "var notebookContainer = gd.closest('#notebook-container');\n",
              "if (notebookContainer) {{\n",
              "    x.observe(notebookContainer, {childList: true});\n",
              "}}\n",
              "\n",
              "// Listen for the clearing of the current output cell\n",
              "var outputEl = gd.closest('.output');\n",
              "if (outputEl) {{\n",
              "    x.observe(outputEl, {childList: true});\n",
              "}}\n",
              "\n",
              "                        })                };                            </script>        </div>\n",
              "</body>\n",
              "</html>"
            ]
          },
          "metadata": {}
        }
      ]
    },
    {
      "cell_type": "markdown",
      "source": [
        "## Example 3: Principal Component Analysis (PCA) Preview\n",
        "\n"
      ],
      "metadata": {
        "id": "Mgh8fSDte0D6"
      }
    },
    {
      "cell_type": "code",
      "source": [
        "def pca_preview_example():\n",
        "    \"\"\"Preview of PCA using vector projections\"\"\"\n",
        "\n",
        "    # Generate sample 2D data\n",
        "    np.random.seed(42)\n",
        "    n_points = 50\n",
        "\n",
        "    # Create correlated data\n",
        "    x = np.random.randn(n_points)\n",
        "    y = x + 0.5 * np.random.randn(n_points)  # y is correlated with x\n",
        "\n",
        "    data_points = np.column_stack([x, y])\n",
        "\n",
        "    # Calculate principal components (simplified)\n",
        "    # In real PCA, we'd use covariance matrix eigendecomposition\n",
        "    mean_point = np.mean(data_points, axis=0)\n",
        "    centered_data = data_points - mean_point\n",
        "\n",
        "    # First principal component (direction of maximum variance)\n",
        "    cov_matrix = np.cov(centered_data.T)\n",
        "    eigenvals, eigenvecs = np.linalg.eigh(cov_matrix)\n",
        "\n",
        "    # Sort by eigenvalue (largest first)\n",
        "    idx = eigenvals.argsort()[::-1]\n",
        "    eigenvals = eigenvals[idx]\n",
        "    eigenvecs = eigenvecs[:, idx]\n",
        "\n",
        "    pc1 = eigenvecs[:, 0]  # First principal component\n",
        "    pc2 = eigenvecs[:, 1]  # Second principal component\n",
        "\n",
        "    print(\"📊 PCA Preview: Finding Principal Directions\")\n",
        "    print(\"-\" * 45)\n",
        "    print(f\"First Principal Component: {pc1}\")\n",
        "    print(f\"Second Principal Component: {pc2}\")\n",
        "    print(f\"Eigenvalues (variance explained): {eigenvals}\")\n",
        "    print(f\"Variance explained by PC1: {eigenvals[0]/eigenvals.sum():.1%}\")\n",
        "\n",
        "    # Visualize\n",
        "    fig = go.Figure()\n",
        "\n",
        "    # Original data points\n",
        "    fig.add_trace(go.Scatter(\n",
        "        x=x, y=y,\n",
        "        mode='markers',\n",
        "        marker=dict(size=8, color='lightblue', opacity=0.7),\n",
        "        name='Data Points'\n",
        "    ))\n",
        "\n",
        "    # Mean point\n",
        "    fig.add_trace(go.Scatter(\n",
        "        x=[mean_point[0]], y=[mean_point[1]],\n",
        "        mode='markers',\n",
        "        marker=dict(size=12, color='red', symbol='x'),\n",
        "        name='Mean'\n",
        "    ))\n",
        "\n",
        "    # Principal components as vectors from mean\n",
        "    scale = 2  # Scale for visualization\n",
        "\n",
        "    fig.add_trace(go.Scatter(\n",
        "        x=[mean_point[0], mean_point[0] + scale * pc1[0]],\n",
        "        y=[mean_point[1], mean_point[1] + scale * pc1[1]],\n",
        "        mode='lines+markers',\n",
        "        line=dict(color='red', width=4),\n",
        "        marker=dict(size=[0, 12], symbol=['circle', 'triangle-up']),\n",
        "        name='PC1 (Max Variance)'\n",
        "    ))\n",
        "\n",
        "    fig.add_trace(go.Scatter(\n",
        "        x=[mean_point[0], mean_point[0] + scale * pc2[0]],\n",
        "        y=[mean_point[1], mean_point[1] + scale * pc2[1]],\n",
        "        mode='lines+markers',\n",
        "        line=dict(color='green', width=4),\n",
        "        marker=dict(size=[0, 12], symbol=['circle', 'triangle-up']),\n",
        "        name='PC2 (Min Variance)'\n",
        "    ))\n",
        "\n",
        "    fig.update_layout(\n",
        "        title=\"📊 PCA: Principal Component Analysis\",\n",
        "        xaxis_title=\"Feature 1\",\n",
        "        yaxis_title=\"Feature 2\",\n",
        "        template=\"plotly_white\",\n",
        "        width=600,\n",
        "        height=500\n",
        "    )\n",
        "\n",
        "    return fig\n",
        "\n",
        "fig = pca_preview_example()\n",
        "fig.show()\n",
        "\n",
        "print(\"\\n💡 PCA finds new basis vectors that:\")\n",
        "print(\"• PC1: Direction of maximum variance in data\")\n",
        "print(\"• PC2: Direction of minimum variance (orthogonal to PC1)\")\n",
        "print(\"• Allows dimensionality reduction by keeping only important PCs\")\n"
      ],
      "metadata": {
        "colab": {
          "base_uri": "https://localhost:8080/",
          "height": 720
        },
        "id": "kwtfxSjde2gM",
        "outputId": "0e254938-b450-4100-ae1b-147302c1ab01"
      },
      "execution_count": 17,
      "outputs": [
        {
          "output_type": "stream",
          "name": "stdout",
          "text": [
            "📊 PCA Preview: Finding Principal Directions\n",
            "---------------------------------------------\n",
            "First Principal Component: [0.65135021 0.75877724]\n",
            "Second Principal Component: [-0.75877724  0.65135021]\n",
            "Eigenvalues (variance explained): [1.93958755 0.08485318]\n",
            "Variance explained by PC1: 95.8%\n"
          ]
        },
        {
          "output_type": "display_data",
          "data": {
            "text/html": [
              "<html>\n",
              "<head><meta charset=\"utf-8\" /></head>\n",
              "<body>\n",
              "    <div>            <script src=\"https://cdnjs.cloudflare.com/ajax/libs/mathjax/2.7.5/MathJax.js?config=TeX-AMS-MML_SVG\"></script><script type=\"text/javascript\">if (window.MathJax && window.MathJax.Hub && window.MathJax.Hub.Config) {window.MathJax.Hub.Config({SVG: {font: \"STIX-Web\"}});}</script>                <script type=\"text/javascript\">window.PlotlyConfig = {MathJaxConfig: 'local'};</script>\n",
              "        <script charset=\"utf-8\" src=\"https://cdn.plot.ly/plotly-2.35.2.min.js\"></script>                <div id=\"9530c0be-89dc-49f2-9f84-c35f04bda975\" class=\"plotly-graph-div\" style=\"height:500px; width:600px;\"></div>            <script type=\"text/javascript\">                                    window.PLOTLYENV=window.PLOTLYENV || {};                                    if (document.getElementById(\"9530c0be-89dc-49f2-9f84-c35f04bda975\")) {                    Plotly.newPlot(                        \"9530c0be-89dc-49f2-9f84-c35f04bda975\",                        [{\"marker\":{\"color\":\"lightblue\",\"opacity\":0.7,\"size\":8},\"mode\":\"markers\",\"name\":\"Data Points\",\"x\":[0.4967141530112327,-0.13826430117118466,0.6476885381006925,1.5230298564080254,-0.23415337472333597,-0.23413695694918055,1.5792128155073915,0.7674347291529088,-0.4694743859349521,0.5425600435859647,-0.46341769281246226,-0.46572975357025687,0.24196227156603412,-1.913280244657798,-1.7249178325130328,-0.5622875292409727,-1.0128311203344238,0.3142473325952739,-0.9080240755212109,-1.4123037013352915,1.465648768921554,-0.22577630048653566,0.06752820468792384,-1.4247481862134568,-0.5443827245251827,0.11092258970986608,-1.1509935774223028,0.37569801834567196,-0.600638689918805,-0.2916937497932768,-0.6017066122293969,1.8522781845089378,-0.013497224737933921,-1.0577109289559004,0.822544912103189,-1.2208436499710222,0.2088635950047554,-1.9596701238797756,-1.3281860488984305,0.19686123586912352,0.7384665799954104,0.1713682811899705,-0.11564828238824053,-0.3011036955892888,-1.4785219903674274,-0.7198442083947086,-0.4606387709597875,1.0571222262189157,0.3436182895684614,-1.763040155362734],\"y\":[0.6587561377086302,-0.3308054413793429,0.3092275379477131,1.8288680008284592,0.2813463865246395,0.23150310260891874,1.1596040538960721,0.6128285412273015,-0.30384267023317013,1.0303326071471441,-0.7030048117351072,-0.5585592419021654,-0.31120521543698,-2.5113835566981333,-1.3186549213159338,0.11583248504443877,-1.0488361811245908,0.816013781541286,-0.7272060629973938,-1.7348635786378537,1.646346571675761,0.543241982746449,0.04961518513294807,-0.6424263583064537,-1.8542552765700548,0.521873841897478,-1.1074700433032172,0.22619434311273823,-0.5547583016510538,-1.2854782070937232,-0.7115425561481529,2.030834470264811,0.7254497976328241,-1.316846038092724,0.4182981106565952,-1.4717221717632905,0.6665646538557924,-1.7952945690499333,-1.59306615078195,0.45349495242580157,0.7870053546694307,0.655690776456415,-0.46667482932691673,-0.46493476888817287,-1.6745760669335061,-1.451601682460768,-0.3125786324274995,1.1876498623088603,0.34617501788969185,-1.8803337220503074],\"type\":\"scatter\"},{\"marker\":{\"color\":\"red\",\"size\":12,\"symbol\":\"x\"},\"mode\":\"markers\",\"name\":\"Mean\",\"x\":[-0.22547390525614008],\"y\":[-0.2165834700221639],\"type\":\"scatter\"},{\"line\":{\"color\":\"red\",\"width\":4},\"marker\":{\"size\":[0,12],\"symbol\":[\"circle\",\"triangle-up\"]},\"mode\":\"lines+markers\",\"name\":\"PC1 (Max Variance)\",\"x\":[-0.22547390525614008,1.077226512276755],\"y\":[-0.2165834700221639,1.3009710173553475],\"type\":\"scatter\"},{\"line\":{\"color\":\"green\",\"width\":4},\"marker\":{\"size\":[0,12],\"symbol\":[\"circle\",\"triangle-up\"]},\"mode\":\"lines+markers\",\"name\":\"PC2 (Min Variance)\",\"x\":[-0.22547390525614008,-1.7430283926336514],\"y\":[-0.2165834700221639,1.0861169475107313],\"type\":\"scatter\"}],                        {\"template\":{\"data\":{\"barpolar\":[{\"marker\":{\"line\":{\"color\":\"white\",\"width\":0.5},\"pattern\":{\"fillmode\":\"overlay\",\"size\":10,\"solidity\":0.2}},\"type\":\"barpolar\"}],\"bar\":[{\"error_x\":{\"color\":\"#2a3f5f\"},\"error_y\":{\"color\":\"#2a3f5f\"},\"marker\":{\"line\":{\"color\":\"white\",\"width\":0.5},\"pattern\":{\"fillmode\":\"overlay\",\"size\":10,\"solidity\":0.2}},\"type\":\"bar\"}],\"carpet\":[{\"aaxis\":{\"endlinecolor\":\"#2a3f5f\",\"gridcolor\":\"#C8D4E3\",\"linecolor\":\"#C8D4E3\",\"minorgridcolor\":\"#C8D4E3\",\"startlinecolor\":\"#2a3f5f\"},\"baxis\":{\"endlinecolor\":\"#2a3f5f\",\"gridcolor\":\"#C8D4E3\",\"linecolor\":\"#C8D4E3\",\"minorgridcolor\":\"#C8D4E3\",\"startlinecolor\":\"#2a3f5f\"},\"type\":\"carpet\"}],\"choropleth\":[{\"colorbar\":{\"outlinewidth\":0,\"ticks\":\"\"},\"type\":\"choropleth\"}],\"contourcarpet\":[{\"colorbar\":{\"outlinewidth\":0,\"ticks\":\"\"},\"type\":\"contourcarpet\"}],\"contour\":[{\"colorbar\":{\"outlinewidth\":0,\"ticks\":\"\"},\"colorscale\":[[0.0,\"#0d0887\"],[0.1111111111111111,\"#46039f\"],[0.2222222222222222,\"#7201a8\"],[0.3333333333333333,\"#9c179e\"],[0.4444444444444444,\"#bd3786\"],[0.5555555555555556,\"#d8576b\"],[0.6666666666666666,\"#ed7953\"],[0.7777777777777778,\"#fb9f3a\"],[0.8888888888888888,\"#fdca26\"],[1.0,\"#f0f921\"]],\"type\":\"contour\"}],\"heatmapgl\":[{\"colorbar\":{\"outlinewidth\":0,\"ticks\":\"\"},\"colorscale\":[[0.0,\"#0d0887\"],[0.1111111111111111,\"#46039f\"],[0.2222222222222222,\"#7201a8\"],[0.3333333333333333,\"#9c179e\"],[0.4444444444444444,\"#bd3786\"],[0.5555555555555556,\"#d8576b\"],[0.6666666666666666,\"#ed7953\"],[0.7777777777777778,\"#fb9f3a\"],[0.8888888888888888,\"#fdca26\"],[1.0,\"#f0f921\"]],\"type\":\"heatmapgl\"}],\"heatmap\":[{\"colorbar\":{\"outlinewidth\":0,\"ticks\":\"\"},\"colorscale\":[[0.0,\"#0d0887\"],[0.1111111111111111,\"#46039f\"],[0.2222222222222222,\"#7201a8\"],[0.3333333333333333,\"#9c179e\"],[0.4444444444444444,\"#bd3786\"],[0.5555555555555556,\"#d8576b\"],[0.6666666666666666,\"#ed7953\"],[0.7777777777777778,\"#fb9f3a\"],[0.8888888888888888,\"#fdca26\"],[1.0,\"#f0f921\"]],\"type\":\"heatmap\"}],\"histogram2dcontour\":[{\"colorbar\":{\"outlinewidth\":0,\"ticks\":\"\"},\"colorscale\":[[0.0,\"#0d0887\"],[0.1111111111111111,\"#46039f\"],[0.2222222222222222,\"#7201a8\"],[0.3333333333333333,\"#9c179e\"],[0.4444444444444444,\"#bd3786\"],[0.5555555555555556,\"#d8576b\"],[0.6666666666666666,\"#ed7953\"],[0.7777777777777778,\"#fb9f3a\"],[0.8888888888888888,\"#fdca26\"],[1.0,\"#f0f921\"]],\"type\":\"histogram2dcontour\"}],\"histogram2d\":[{\"colorbar\":{\"outlinewidth\":0,\"ticks\":\"\"},\"colorscale\":[[0.0,\"#0d0887\"],[0.1111111111111111,\"#46039f\"],[0.2222222222222222,\"#7201a8\"],[0.3333333333333333,\"#9c179e\"],[0.4444444444444444,\"#bd3786\"],[0.5555555555555556,\"#d8576b\"],[0.6666666666666666,\"#ed7953\"],[0.7777777777777778,\"#fb9f3a\"],[0.8888888888888888,\"#fdca26\"],[1.0,\"#f0f921\"]],\"type\":\"histogram2d\"}],\"histogram\":[{\"marker\":{\"pattern\":{\"fillmode\":\"overlay\",\"size\":10,\"solidity\":0.2}},\"type\":\"histogram\"}],\"mesh3d\":[{\"colorbar\":{\"outlinewidth\":0,\"ticks\":\"\"},\"type\":\"mesh3d\"}],\"parcoords\":[{\"line\":{\"colorbar\":{\"outlinewidth\":0,\"ticks\":\"\"}},\"type\":\"parcoords\"}],\"pie\":[{\"automargin\":true,\"type\":\"pie\"}],\"scatter3d\":[{\"line\":{\"colorbar\":{\"outlinewidth\":0,\"ticks\":\"\"}},\"marker\":{\"colorbar\":{\"outlinewidth\":0,\"ticks\":\"\"}},\"type\":\"scatter3d\"}],\"scattercarpet\":[{\"marker\":{\"colorbar\":{\"outlinewidth\":0,\"ticks\":\"\"}},\"type\":\"scattercarpet\"}],\"scattergeo\":[{\"marker\":{\"colorbar\":{\"outlinewidth\":0,\"ticks\":\"\"}},\"type\":\"scattergeo\"}],\"scattergl\":[{\"marker\":{\"colorbar\":{\"outlinewidth\":0,\"ticks\":\"\"}},\"type\":\"scattergl\"}],\"scattermapbox\":[{\"marker\":{\"colorbar\":{\"outlinewidth\":0,\"ticks\":\"\"}},\"type\":\"scattermapbox\"}],\"scatterpolargl\":[{\"marker\":{\"colorbar\":{\"outlinewidth\":0,\"ticks\":\"\"}},\"type\":\"scatterpolargl\"}],\"scatterpolar\":[{\"marker\":{\"colorbar\":{\"outlinewidth\":0,\"ticks\":\"\"}},\"type\":\"scatterpolar\"}],\"scatter\":[{\"fillpattern\":{\"fillmode\":\"overlay\",\"size\":10,\"solidity\":0.2},\"type\":\"scatter\"}],\"scatterternary\":[{\"marker\":{\"colorbar\":{\"outlinewidth\":0,\"ticks\":\"\"}},\"type\":\"scatterternary\"}],\"surface\":[{\"colorbar\":{\"outlinewidth\":0,\"ticks\":\"\"},\"colorscale\":[[0.0,\"#0d0887\"],[0.1111111111111111,\"#46039f\"],[0.2222222222222222,\"#7201a8\"],[0.3333333333333333,\"#9c179e\"],[0.4444444444444444,\"#bd3786\"],[0.5555555555555556,\"#d8576b\"],[0.6666666666666666,\"#ed7953\"],[0.7777777777777778,\"#fb9f3a\"],[0.8888888888888888,\"#fdca26\"],[1.0,\"#f0f921\"]],\"type\":\"surface\"}],\"table\":[{\"cells\":{\"fill\":{\"color\":\"#EBF0F8\"},\"line\":{\"color\":\"white\"}},\"header\":{\"fill\":{\"color\":\"#C8D4E3\"},\"line\":{\"color\":\"white\"}},\"type\":\"table\"}]},\"layout\":{\"annotationdefaults\":{\"arrowcolor\":\"#2a3f5f\",\"arrowhead\":0,\"arrowwidth\":1},\"autotypenumbers\":\"strict\",\"coloraxis\":{\"colorbar\":{\"outlinewidth\":0,\"ticks\":\"\"}},\"colorscale\":{\"diverging\":[[0,\"#8e0152\"],[0.1,\"#c51b7d\"],[0.2,\"#de77ae\"],[0.3,\"#f1b6da\"],[0.4,\"#fde0ef\"],[0.5,\"#f7f7f7\"],[0.6,\"#e6f5d0\"],[0.7,\"#b8e186\"],[0.8,\"#7fbc41\"],[0.9,\"#4d9221\"],[1,\"#276419\"]],\"sequential\":[[0.0,\"#0d0887\"],[0.1111111111111111,\"#46039f\"],[0.2222222222222222,\"#7201a8\"],[0.3333333333333333,\"#9c179e\"],[0.4444444444444444,\"#bd3786\"],[0.5555555555555556,\"#d8576b\"],[0.6666666666666666,\"#ed7953\"],[0.7777777777777778,\"#fb9f3a\"],[0.8888888888888888,\"#fdca26\"],[1.0,\"#f0f921\"]],\"sequentialminus\":[[0.0,\"#0d0887\"],[0.1111111111111111,\"#46039f\"],[0.2222222222222222,\"#7201a8\"],[0.3333333333333333,\"#9c179e\"],[0.4444444444444444,\"#bd3786\"],[0.5555555555555556,\"#d8576b\"],[0.6666666666666666,\"#ed7953\"],[0.7777777777777778,\"#fb9f3a\"],[0.8888888888888888,\"#fdca26\"],[1.0,\"#f0f921\"]]},\"colorway\":[\"#636efa\",\"#EF553B\",\"#00cc96\",\"#ab63fa\",\"#FFA15A\",\"#19d3f3\",\"#FF6692\",\"#B6E880\",\"#FF97FF\",\"#FECB52\"],\"font\":{\"color\":\"#2a3f5f\"},\"geo\":{\"bgcolor\":\"white\",\"lakecolor\":\"white\",\"landcolor\":\"white\",\"showlakes\":true,\"showland\":true,\"subunitcolor\":\"#C8D4E3\"},\"hoverlabel\":{\"align\":\"left\"},\"hovermode\":\"closest\",\"mapbox\":{\"style\":\"light\"},\"paper_bgcolor\":\"white\",\"plot_bgcolor\":\"white\",\"polar\":{\"angularaxis\":{\"gridcolor\":\"#EBF0F8\",\"linecolor\":\"#EBF0F8\",\"ticks\":\"\"},\"bgcolor\":\"white\",\"radialaxis\":{\"gridcolor\":\"#EBF0F8\",\"linecolor\":\"#EBF0F8\",\"ticks\":\"\"}},\"scene\":{\"xaxis\":{\"backgroundcolor\":\"white\",\"gridcolor\":\"#DFE8F3\",\"gridwidth\":2,\"linecolor\":\"#EBF0F8\",\"showbackground\":true,\"ticks\":\"\",\"zerolinecolor\":\"#EBF0F8\"},\"yaxis\":{\"backgroundcolor\":\"white\",\"gridcolor\":\"#DFE8F3\",\"gridwidth\":2,\"linecolor\":\"#EBF0F8\",\"showbackground\":true,\"ticks\":\"\",\"zerolinecolor\":\"#EBF0F8\"},\"zaxis\":{\"backgroundcolor\":\"white\",\"gridcolor\":\"#DFE8F3\",\"gridwidth\":2,\"linecolor\":\"#EBF0F8\",\"showbackground\":true,\"ticks\":\"\",\"zerolinecolor\":\"#EBF0F8\"}},\"shapedefaults\":{\"line\":{\"color\":\"#2a3f5f\"}},\"ternary\":{\"aaxis\":{\"gridcolor\":\"#DFE8F3\",\"linecolor\":\"#A2B1C6\",\"ticks\":\"\"},\"baxis\":{\"gridcolor\":\"#DFE8F3\",\"linecolor\":\"#A2B1C6\",\"ticks\":\"\"},\"bgcolor\":\"white\",\"caxis\":{\"gridcolor\":\"#DFE8F3\",\"linecolor\":\"#A2B1C6\",\"ticks\":\"\"}},\"title\":{\"x\":0.05},\"xaxis\":{\"automargin\":true,\"gridcolor\":\"#EBF0F8\",\"linecolor\":\"#EBF0F8\",\"ticks\":\"\",\"title\":{\"standoff\":15},\"zerolinecolor\":\"#EBF0F8\",\"zerolinewidth\":2},\"yaxis\":{\"automargin\":true,\"gridcolor\":\"#EBF0F8\",\"linecolor\":\"#EBF0F8\",\"ticks\":\"\",\"title\":{\"standoff\":15},\"zerolinecolor\":\"#EBF0F8\",\"zerolinewidth\":2}}},\"title\":{\"text\":\"📊 PCA: Principal Component Analysis\"},\"xaxis\":{\"title\":{\"text\":\"Feature 1\"}},\"yaxis\":{\"title\":{\"text\":\"Feature 2\"}},\"width\":600,\"height\":500},                        {\"responsive\": true}                    ).then(function(){\n",
              "                            \n",
              "var gd = document.getElementById('9530c0be-89dc-49f2-9f84-c35f04bda975');\n",
              "var x = new MutationObserver(function (mutations, observer) {{\n",
              "        var display = window.getComputedStyle(gd).display;\n",
              "        if (!display || display === 'none') {{\n",
              "            console.log([gd, 'removed!']);\n",
              "            Plotly.purge(gd);\n",
              "            observer.disconnect();\n",
              "        }}\n",
              "}});\n",
              "\n",
              "// Listen for the removal of the full notebook cells\n",
              "var notebookContainer = gd.closest('#notebook-container');\n",
              "if (notebookContainer) {{\n",
              "    x.observe(notebookContainer, {childList: true});\n",
              "}}\n",
              "\n",
              "// Listen for the clearing of the current output cell\n",
              "var outputEl = gd.closest('.output');\n",
              "if (outputEl) {{\n",
              "    x.observe(outputEl, {childList: true});\n",
              "}}\n",
              "\n",
              "                        })                };                            </script>        </div>\n",
              "</body>\n",
              "</html>"
            ]
          },
          "metadata": {}
        },
        {
          "output_type": "stream",
          "name": "stdout",
          "text": [
            "\n",
            "💡 PCA finds new basis vectors that:\n",
            "• PC1: Direction of maximum variance in data\n",
            "• PC2: Direction of minimum variance (orthogonal to PC1)\n",
            "• Allows dimensionality reduction by keeping only important PCs\n"
          ]
        }
      ]
    },
    {
      "cell_type": "markdown",
      "source": [
        "# 9. 🧠 Key Takeaways & Next Steps\n",
        "\n",
        "## 📋 Summary\n"
      ],
      "metadata": {
        "id": "Mk58dm5Ue7Md"
      }
    },
    {
      "cell_type": "code",
      "source": [
        "print(\"🎯 Key Concepts Covered:\")\n",
        "print(\"=\" * 40)\n",
        "print(\"✅ Vectors: Objects with magnitude and direction\")\n",
        "print(\"✅ Vector Addition: Tip-to-tail, parallelogram rule\")\n",
        "print(\"✅ Scalar Multiplication: Changes magnitude/direction\")\n",
        "print(\"✅ Norms: Different ways to measure vector 'size'\")\n",
        "print(\"✅ Dot Product: Measures similarity and angles\")\n",
        "print(\"✅ Basis Vectors: Building blocks for vector spaces\")\n",
        "print(\"✅ ML Applications: Features, embeddings, PCA\")\n",
        "\n",
        "print(\"\\n🤖 ML Connections:\")\n",
        "print(\"=\" * 40)\n",
        "print(\"• Data points → Feature vectors\")\n",
        "print(\"• Model parameters → Weight vectors\")\n",
        "print(\"• Similarity → Dot products and norms\")\n",
        "print(\"• Dimensionality reduction → Basis transformations\")\n",
        "print(\"• Regularization → Vector norms (L1, L2)\")\n",
        "print(\"• Neural networks → Linear combinations of vectors\")\n",
        "\n",
        "print(\"\\n📚 What's Next:\")\n",
        "print(\"=\" * 40)\n",
        "print(\"1️⃣ Matrix Operations - Vector operations in bulk\")\n",
        "print(\"2️⃣ Eigendecomposition - Special vectors and transformations\")\n",
        "print(\"3️⃣ SVD & PCA - Advanced dimensionality reduction\")\n",
        "print(\"4️⃣ Calculus - How vectors change (gradients)\")\n",
        "print(\"5️⃣ Probability - Vectors in probability spaces\")\n"
      ],
      "metadata": {
        "colab": {
          "base_uri": "https://localhost:8080/"
        },
        "id": "t2Gy6jZbe7v3",
        "outputId": "d37fcc74-66a3-45a9-f06f-bc0638c1012c"
      },
      "execution_count": 18,
      "outputs": [
        {
          "output_type": "stream",
          "name": "stdout",
          "text": [
            "🎯 Key Concepts Covered:\n",
            "========================================\n",
            "✅ Vectors: Objects with magnitude and direction\n",
            "✅ Vector Addition: Tip-to-tail, parallelogram rule\n",
            "✅ Scalar Multiplication: Changes magnitude/direction\n",
            "✅ Norms: Different ways to measure vector 'size'\n",
            "✅ Dot Product: Measures similarity and angles\n",
            "✅ Basis Vectors: Building blocks for vector spaces\n",
            "✅ ML Applications: Features, embeddings, PCA\n",
            "\n",
            "🤖 ML Connections:\n",
            "========================================\n",
            "• Data points → Feature vectors\n",
            "• Model parameters → Weight vectors\n",
            "• Similarity → Dot products and norms\n",
            "• Dimensionality reduction → Basis transformations\n",
            "• Regularization → Vector norms (L1, L2)\n",
            "• Neural networks → Linear combinations of vectors\n",
            "\n",
            "📚 What's Next:\n",
            "========================================\n",
            "1️⃣ Matrix Operations - Vector operations in bulk\n",
            "2️⃣ Eigendecomposition - Special vectors and transformations\n",
            "3️⃣ SVD & PCA - Advanced dimensionality reduction\n",
            "4️⃣ Calculus - How vectors change (gradients)\n",
            "5️⃣ Probability - Vectors in probability spaces\n"
          ]
        }
      ]
    },
    {
      "cell_type": "markdown",
      "source": [
        "## 🎮 Practice Exercises"
      ],
      "metadata": {
        "id": "zuvt9G6ae_3O"
      }
    },
    {
      "cell_type": "code",
      "source": [
        "def practice_exercises():\n",
        "    \"\"\"Practice problems for vectors and spaces\"\"\"\n",
        "\n",
        "    exercises = [\n",
        "        {\n",
        "            'problem': 'Calculate the dot product of vectors u = [3, 4] and v = [1, 2]',\n",
        "            'solution': lambda: np.dot([3, 4], [1, 2]),\n",
        "            'explanation': 'u·v = (3×1) + (4×2) = 3 + 8 = 11'\n",
        "        },\n",
        "        {\n",
        "            'problem': 'Find the L2 norm of vector w = [5, -12]',\n",
        "            'solution': lambda: np.linalg.norm([5, -12]),\n",
        "            'explanation': '||w||₂ = √(5² + (-12)²) = √(25 + 144) = √169 = 13'\n",
        "        },\n",
        "        {\n",
        "            'problem': 'What is the angle between vectors a = [1, 0] and b = [1, 1]?',\n",
        "            'solution': lambda: np.degrees(np.arccos(np.dot([1,0], [1,1]) / (np.linalg.norm([1,0]) * np.linalg.norm([1,1])))),\n",
        "            'explanation': 'cos(θ) = (a·b)/(||a||||b||) = 1/(1×√2) = 1/√2, so θ = 45°'\n",
        "        }\n",
        "    ]\n",
        "\n",
        "    print(\"🎯 Practice Exercises:\")\n",
        "    print(\"=\" * 50)\n",
        "\n",
        "    for i, ex in enumerate(exercises, 1):\n",
        "        print(f\"\\n{i}. {ex['problem']}\")\n",
        "        answer = ex['solution']()\n",
        "        print(f\"   Answer: {answer:.2f}\" if isinstance(answer, float) else f\"   Answer: {answer}\")\n",
        "        print(f\"   Explanation: {ex['explanation']}\")\n",
        "\n",
        "    print(\"\\n💡 Try solving these yourself before checking the answers!\")\n",
        "\n",
        "practice_exercises()\n"
      ],
      "metadata": {
        "colab": {
          "base_uri": "https://localhost:8080/"
        },
        "id": "ED1XvmLCfBfH",
        "outputId": "03a4b61e-406c-4a19-d395-e464d289404d"
      },
      "execution_count": 19,
      "outputs": [
        {
          "output_type": "stream",
          "name": "stdout",
          "text": [
            "🎯 Practice Exercises:\n",
            "==================================================\n",
            "\n",
            "1. Calculate the dot product of vectors u = [3, 4] and v = [1, 2]\n",
            "   Answer: 11\n",
            "   Explanation: u·v = (3×1) + (4×2) = 3 + 8 = 11\n",
            "\n",
            "2. Find the L2 norm of vector w = [5, -12]\n",
            "   Answer: 13.00\n",
            "   Explanation: ||w||₂ = √(5² + (-12)²) = √(25 + 144) = √169 = 13\n",
            "\n",
            "3. What is the angle between vectors a = [1, 0] and b = [1, 1]?\n",
            "   Answer: 45.00\n",
            "   Explanation: cos(θ) = (a·b)/(||a||||b||) = 1/(1×√2) = 1/√2, so θ = 45°\n",
            "\n",
            "💡 Try solving these yourself before checking the answers!\n"
          ]
        }
      ]
    },
    {
      "cell_type": "markdown",
      "source": [
        "## 🚀 Ready for the next module?\n",
        "\n",
        "**Next up: Matrix Operations** - Learn how to work with vectors in bulk!\n"
      ],
      "metadata": {
        "id": "RseIWXCafFIF"
      }
    }
  ]
}